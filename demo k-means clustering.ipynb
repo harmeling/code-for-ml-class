{
 "metadata": {
  "language": "Julia",
  "name": "",
  "signature": "sha256:4ee2a2dc13f2beff9658f37c9ff9b59d0cc88c07e719c77c4de784cb14f3a807"
 },
 "nbformat": 3,
 "nbformat_minor": 0,
 "worksheets": [
  {
   "cells": [
    {
     "cell_type": "markdown",
     "metadata": {},
     "source": [
      "# k-means clustering"
     ]
    },
    {
     "cell_type": "code",
     "collapsed": false,
     "input": [
      "# create mixture of several Gaussians\n",
      "ns = [50, 100, 50]      # number of points per cluster\n",
      "k  = length(ns)                    # number of cluster\n",
      "n  = sum(ns)             # total number of data points\n",
      "mus = 10*randn(2, k)                    # random means\n",
      "X  = zeros(2, 0)                 # initialize the data\n",
      "for i in 1:length(ns)\n",
      "    X = [X  randn(2,ns[i]).+mus[:,i]]\n",
      "end"
     ],
     "language": "python",
     "metadata": {},
     "outputs": []
    },
    {
     "cell_type": "code",
     "collapsed": false,
     "input": [
      "using Gadfly\n",
      "show(X,z) = plot(x=X[1,:], y=X[2,:], color=[z[i]==0 ? \"means\" : \"cluster $(z[i])\" for i in 1:length(z)])\n",
      "show(X,ones(Int64, n))"
     ],
     "language": "python",
     "metadata": {},
     "outputs": []
    },
    {
     "cell_type": "code",
     "collapsed": false,
     "input": [
      "function distances(X,mus) \n",
      "    [norm(vec(X[:,i]-mus[:,j])) for i in 1:size(X,2), j in 1:size(mus,2)]\n",
      "end\n",
      "function estep(X,mus)\n",
      "    D = distances(X, mus)                    # calculate the distances to all means\n",
      "    z = [sortperm(vec(D[i,:]))[1] for i in 1:n]       # E-step: reassign to cluster\n",
      "    return z\n",
      "end\n",
      "function mstep(X,z,k)\n",
      "    mus = zeros(size(X,1),k)                        # allocate memory for the means\n",
      "    for i in 1:k\n",
      "        mus[:,i] = mean(X[:,z.==i], 2)                  # M-step: recalculate means\n",
      "    end\n",
      "    return mus\n",
      "end\n",
      "function kmeans(X, k::Int64; tol=1e-5, maxiter::Int64=10, mus=randn(2,k))\n",
      "    maxiter >= 1 || error(\"maxiter must be greater than zero\")\n",
      "    n   = size(X,2)                                         # number of data points\n",
      "    local z          # z has to be mentioned, otherwise it is local to the for loop\n",
      "    for iter in 1:maxiter\n",
      "        musold = mus                   # store the old mus to check for convergence\n",
      "        z = estep(X,mus)                              # E-step: reassign to cluster\n",
      "        mus = mstep(X,z,k)                              # M-step: recalculate means\n",
      "        if norm(musold-mus) < tol break end                      # did we converge?\n",
      "    end\n",
      "    return (z, mus)\n",
      "end"
     ],
     "language": "python",
     "metadata": {},
     "outputs": []
    },
    {
     "cell_type": "code",
     "collapsed": false,
     "input": [
      "# go through the iterations \n",
      "maxiter = 10                   # number of iterations to store the results for\n",
      "k = 4                                                     # number of clusters\n",
      "zs = cell(maxiter)                                  # to store the assignments\n",
      "muss = cell(maxiter)                            # to store the cluster centers\n",
      "muss[1] = randn(2, k)                             # random means to begin with\n",
      "zs[1] = estep(X,muss[1])\n",
      "for iter in 2:maxiter\n",
      "    muss[iter] = mstep(X,zs[iter-1],k)\n",
      "    zs[iter]   = estep(X,muss[iter])\n",
      "end"
     ],
     "language": "python",
     "metadata": {},
     "outputs": []
    },
    {
     "cell_type": "code",
     "collapsed": false,
     "input": [
      "using Interact\n",
      "@manipulate for iter in 1:maxiter\n",
      "    show([X muss[iter]], [zs[iter],zeros(Int64,k)])\n",
      "end"
     ],
     "language": "python",
     "metadata": {},
     "outputs": []
    }
   ],
   "metadata": {}
  }
 ]
}