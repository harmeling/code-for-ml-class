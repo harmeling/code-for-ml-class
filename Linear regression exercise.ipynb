{
 "metadata": {
  "language": "Julia",
  "name": "",
  "signature": "sha256:7595a78dd03707c753465815f815b11e5873c1b49d2774a0c95860d69ee95295"
 },
 "nbformat": 3,
 "nbformat_minor": 0,
 "worksheets": [
  {
   "cells": [
    {
     "cell_type": "markdown",
     "metadata": {},
     "source": [
      "# Linear regression exercise"
     ]
    },
    {
     "cell_type": "code",
     "collapsed": false,
     "input": [
      "using Gadfly, Distributions"
     ],
     "language": "python",
     "metadata": {},
     "outputs": []
    },
    {
     "cell_type": "markdown",
     "metadata": {},
     "source": [
      "We first define the polynomial basis function:\n",
      "$$ \n",
      "\\phi_\\text{poly} = [1, x, x^2, \\ldots, x^d]\\\\\n",
      "$$"
     ]
    },
    {
     "cell_type": "code",
     "collapsed": false,
     "input": [
      "phi_poly(x,d) = x.^((0:d)')                     # polynomial basis function"
     ],
     "language": "python",
     "metadata": {},
     "outputs": []
    },
    {
     "cell_type": "markdown",
     "metadata": {},
     "source": [
      "The maximum likelihood estimator can be written as\n",
      "$$\n",
      "w_\\text{MLE} = (X'*X)^{-1}X'y\n",
      "$$"
     ]
    },
    {
     "cell_type": "code",
     "collapsed": false,
     "input": [
      "wMLE(xtrain, ytrain, phi) = begin\n",
      "    Xtrain = phi(xtrain)\n",
      "    wpred  = (Xtrain' * Xtrain) \\ (Xtrain' * ytrain)\n",
      "end"
     ],
     "language": "python",
     "metadata": {},
     "outputs": []
    },
    {
     "cell_type": "markdown",
     "metadata": {},
     "source": [
      "Finally, we define a function for the mean squared error."
     ]
    },
    {
     "cell_type": "code",
     "collapsed": false,
     "input": [
      "mse(yest, ytrue) = mean((yest-ytrue).^2)"
     ],
     "language": "python",
     "metadata": {},
     "outputs": []
    },
    {
     "cell_type": "markdown",
     "metadata": {},
     "source": [
      "For convenience we pack everything into some clever \\emph{linear regression plotting function}.  \n",
      "Note that the arguments `wpred` and `phi` are functions."
     ]
    },
    {
     "cell_type": "code",
     "collapsed": false,
     "input": [
      "lrplot(x, y, w, phi, titleprefix=\"\") = begin\n",
      "    n      = 100                         # number of test points\n",
      "    xline  = linspace(minimum(x), maximum(x), 100)\n",
      "    yline  = phi(xline)*w\n",
      "    yerr   = mse(phi(x)*w, y)\n",
      "    plot(layer(x=x,      y=y,     Geom.point), \n",
      "         layer(x=xline , y=yline, Geom.line), \n",
      "    Guide.title(\"$titleprefix error $yerr\"))\n",
      "end"
     ],
     "language": "python",
     "metadata": {},
     "outputs": []
    },
    {
     "cell_type": "markdown",
     "metadata": {},
     "source": [
      "# Example with toy data"
     ]
    },
    {
     "cell_type": "code",
     "collapsed": false,
     "input": [
      "readtt(fname) = begin\n",
      "    x = readdlm(fname, ',')\n",
      "    (x[:,1], x[:,2])\n",
      "end\n",
      "xtrain, ytrain = readtt(\"TrainingSet1D.csv\")\n",
      "xtest , ytest  = readtt(\"TestSet1D.csv\")"
     ],
     "language": "python",
     "metadata": {},
     "outputs": []
    },
    {
     "cell_type": "markdown",
     "metadata": {},
     "source": [
      "## Fit via MLE and compare training and test error"
     ]
    },
    {
     "cell_type": "code",
     "collapsed": false,
     "input": [
      "phi(x) = phi_poly(x, 1)         # define a basis function\n",
      "w      = wMLE(xtrain, ytrain, phi)\n",
      "set_default_plot_size(25cm, 10cm)\n",
      "hstack(lrplot(xtrain, ytrain, w, phi, \"training\"), lrplot(xtest, ytest, w, phi, \"test\"))"
     ],
     "language": "python",
     "metadata": {},
     "outputs": []
    }
   ],
   "metadata": {}
  }
 ]
}