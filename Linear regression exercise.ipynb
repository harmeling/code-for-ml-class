{
 "metadata": {
  "language": "Julia",
  "name": "",
  "signature": "sha256:ac3f004381b7a3e50aa29275ba5a71659c1a7002f20adf3feea024842a8c9444"
 },
 "nbformat": 3,
 "nbformat_minor": 0,
 "worksheets": [
  {
   "cells": [
    {
     "cell_type": "markdown",
     "metadata": {},
     "source": [
      "# Linear regression exercise"
     ]
    },
    {
     "cell_type": "code",
     "collapsed": false,
     "input": [
      "using Gadfly, DataFrames, Sugar"
     ],
     "language": "python",
     "metadata": {},
     "outputs": []
    },
    {
     "cell_type": "markdown",
     "metadata": {},
     "source": [
      "We first define the polynomial basis function:\n",
      "$$ \n",
      "\\phi_\\text{poly} = [1, x, x^2, \\ldots, x^d]\\\\\n",
      "$$"
     ]
    },
    {
     "cell_type": "code",
     "collapsed": false,
     "input": [
      "phi_poly(x,d) = x.^((0:d)')                     # polynomial basis function"
     ],
     "language": "python",
     "metadata": {},
     "outputs": []
    },
    {
     "cell_type": "markdown",
     "metadata": {},
     "source": [
      "The maximum likelihood estimator can be written as\n",
      "$$\n",
      "w_\\text{MLE} = (X'*X)^{-1}X'y\n",
      "$$"
     ]
    },
    {
     "cell_type": "code",
     "collapsed": false,
     "input": [
      "wMLE(xtrain, ytrain, phi) = begin\n",
      "    Xtrain = phi(xtrain)\n",
      "    wpred  = (Xtrain' * Xtrain) \\ (Xtrain' * ytrain)\n",
      "end"
     ],
     "language": "python",
     "metadata": {},
     "outputs": []
    },
    {
     "cell_type": "markdown",
     "metadata": {},
     "source": [
      "Finally, we define a function for the mean squared error."
     ]
    },
    {
     "cell_type": "code",
     "collapsed": false,
     "input": [
      "mse(yest, ytrue) = mean((yest-ytrue).^2)"
     ],
     "language": "python",
     "metadata": {},
     "outputs": []
    },
    {
     "cell_type": "markdown",
     "metadata": {},
     "source": [
      "For convenience we pack everything into some clever \\emph{linear regression plotting function}.  \n",
      "Note that the arguments `wpred` and `phi` are functions."
     ]
    },
    {
     "cell_type": "code",
     "collapsed": false,
     "input": [
      "lrplot(x, y, w, phi, titleprefix=\"\") = begin\n",
      "    n      = 100                         # number of test points\n",
      "    xline  = linspace(minimum(x), maximum(x), 100)\n",
      "    yline  = phi(xline)*w\n",
      "    yerr   = mse(phi(x)*w, y)\n",
      "    plot(layer(x=x,      y=y,     Geom.point), \n",
      "         layer(x=xline , y=yline, Geom.line), \n",
      "    Guide.title(\"$titleprefix error $yerr\"))\n",
      "end"
     ],
     "language": "python",
     "metadata": {},
     "outputs": []
    },
    {
     "cell_type": "markdown",
     "metadata": {},
     "source": [
      "# Example with toy data"
     ]
    },
    {
     "cell_type": "code",
     "collapsed": false,
     "input": [
      "readtt(fname) = begin\n",
      "    x = readdlm(fname, ',')\n",
      "    (x[:,1], x[:,2])\n",
      "end\n",
      "xtrain, ytrain = readtt(\"TrainingSet1D.csv\")\n",
      "xtest , ytest  = readtt(\"TestSet1D.csv\")"
     ],
     "language": "python",
     "metadata": {},
     "outputs": []
    },
    {
     "cell_type": "code",
     "collapsed": false,
     "input": [
      "xmin = -5\n",
      "xmax =  5\n",
      "samplex(n) = (xmax-xmin)*rand(n) + xmin\n",
      "f(x) = x.^2\n",
      "sigma = 5\n",
      "xtrain = samplex(5)\n",
      "xtest  = samplex(100)\n",
      "ytrain = f(xtrain) + sigma*randn(size(xtrain))\n",
      "ytest  = f(xtest)  + sigma*randn(size(xtest))"
     ],
     "language": "python",
     "metadata": {},
     "outputs": []
    },
    {
     "cell_type": "markdown",
     "metadata": {},
     "source": [
      "## Fit via MLE and compare training and test error"
     ]
    },
    {
     "cell_type": "code",
     "collapsed": false,
     "input": [
      "phi(x) = phi_poly(x, 6)         # define a basis function\n",
      "w      = wMLE(xtrain, ytrain, phi)\n",
      "set_default_plot_size(25cm, 10cm)\n",
      "hstack(lrplot(xtrain, ytrain, w, phi, \"training\"), lrplot(xtest, ytest, w, phi, \"test\"))"
     ],
     "language": "python",
     "metadata": {},
     "outputs": []
    },
    {
     "cell_type": "code",
     "collapsed": false,
     "input": [
      "## (b) Try to find a good polynomial degree that leads to a small test error.\n",
      "err(X, y, w, phi) = mse(phi(X)*w, y)\n",
      "function calcerrs(wESTIMATOR, xtrain, xtest, ytrain, ytest, drange) \n",
      "    ld = length(drange)\n",
      "    errtrain = zeros(ld)\n",
      "    errtest  = zeros(ld)\n",
      "    for i in 1:ld\n",
      "        d = drange[i]\n",
      "        phi(x) = phi_poly(x, d)\n",
      "        w = wESTIMATOR(xtrain, ytrain, phi)\n",
      "        errtrain[i] = err(xtrain, ytrain, w, phi)\n",
      "        errtest[i]  = err(xtest,  ytest,  w, phi)\n",
      "    end\n",
      "    return (errtrain, errtest)\n",
      "end"
     ],
     "language": "python",
     "metadata": {},
     "outputs": []
    },
    {
     "cell_type": "code",
     "collapsed": false,
     "input": [
      "drange = 0:10\n",
      "(errtrainMLE, errtestMLE) = calcerrs(wMLE, xtrain, xtest, ytrain, ytest, drange)\n",
      "df = vcat(DataFrame(d=drange, err=errtrainMLE, label=\"training\"),\n",
      "          DataFrame(d=drange, err=errtestMLE,  label=\"test\"))\n",
      "set_default_plot_size(25cm, 10cm)\n",
      "plot(df, x=\"d\", y=\"err\", color=\"label\", Geom.line, Geom.point, Scale.y_log10, Guide.title(\"MLE regression\"))"
     ],
     "language": "python",
     "metadata": {},
     "outputs": []
    },
    {
     "cell_type": "code",
     "collapsed": false,
     "input": [
      "wRIDGE(xtrain, ytrain, phi, lambda) = begin\n",
      "    Xtrain = phi(xtrain)\n",
      "    wpred  = (lambda + Xtrain' * Xtrain) \\ (Xtrain' * ytrain)\n",
      "end"
     ],
     "language": "python",
     "metadata": {},
     "outputs": []
    },
    {
     "cell_type": "code",
     "collapsed": false,
     "input": [
      "ld = length(drange)\n",
      "lambdarange = 10.0 .^ [-5:10]\n",
      "ll = length(lambdarange)\n",
      "errtrainRIDGE = zeros(ld, ll)\n",
      "errtestRIDGE  = zeros(ld, ll)\n",
      "for i in 1:ll\n",
      "    println(i)\n",
      "    wEST(x,y,phi) = wRIDGE(x,y,phi, lambdarange[i])\n",
      "    (errtrain, errtest) = calcerrs(wEST, xtrain, xtest, ytrain, ytest, drange)\n",
      "    errtrainRIDGE[:,i] = errtrain\n",
      "    errtestRIDGE[:,i]  = errtest\n",
      "end"
     ],
     "language": "python",
     "metadata": {},
     "outputs": []
    },
    {
     "cell_type": "code",
     "collapsed": false,
     "input": [
      "imagesc(errtestRIDGE)"
     ],
     "language": "python",
     "metadata": {},
     "outputs": []
    },
    {
     "cell_type": "code",
     "collapsed": false,
     "input": [
      "errtestMLE"
     ],
     "language": "python",
     "metadata": {},
     "outputs": []
    },
    {
     "cell_type": "code",
     "collapsed": false,
     "input": [
      "errtestRIDGE"
     ],
     "language": "python",
     "metadata": {},
     "outputs": []
    },
    {
     "cell_type": "code",
     "collapsed": false,
     "input": [
      "drange\n",
      "lambdarange"
     ],
     "language": "python",
     "metadata": {},
     "outputs": []
    },
    {
     "cell_type": "code",
     "collapsed": false,
     "input": [
      "errtestRIDGE[4,:]'"
     ],
     "language": "python",
     "metadata": {},
     "outputs": []
    },
    {
     "cell_type": "code",
     "collapsed": false,
     "input": [
      "phi(x) = phi_poly(x, 32)         # define a basis function\n",
      "w      = wRIDGE(xtrain, ytrain, phi, 1e19)\n",
      "set_default_plot_size(25cm, 10cm)\n",
      "hstack(lrplot(xtrain, ytrain, w, phi, \"training\"), lrplot(xtest, ytest, w, phi, \"test\"))"
     ],
     "language": "python",
     "metadata": {},
     "outputs": []
    },
    {
     "cell_type": "code",
     "collapsed": false,
     "input": [],
     "language": "python",
     "metadata": {},
     "outputs": []
    }
   ],
   "metadata": {}
  }
 ]
}