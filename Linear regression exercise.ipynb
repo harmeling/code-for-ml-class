{
 "metadata": {
  "language": "Julia",
  "name": "",
  "signature": "sha256:caf32777134c0304817fbbda1b70bfa042e3b9cf5333be77823d3205e22f82b1"
 },
 "nbformat": 3,
 "nbformat_minor": 0,
 "worksheets": [
  {
   "cells": [
    {
     "cell_type": "markdown",
     "metadata": {},
     "source": [
      "# Linear regression exercise"
     ]
    },
    {
     "cell_type": "code",
     "collapsed": false,
     "input": [
      "using Gadfly, Distributions"
     ],
     "language": "python",
     "metadata": {},
     "outputs": []
    },
    {
     "cell_type": "markdown",
     "metadata": {},
     "source": [
      "We first define a couple of basis functions:\n",
      "$$ \n",
      "\\phi_\\text{poly} = [1, x, x^2, \\ldots, x^d]\\\\\n",
      "\\phi_\\text{cos}  = [1, \\cos(x), \\cos(2x), \\ldots \\cos(dx)]\\\\\n",
      "\\phi_\\text{sin}  = [1, \\sin(x), \\sin(2x), \\ldots \\sin(dx)]\\\\\n",
      "\\phi_\\text{fourier} = [1, \\cos(x), \\cos(2x), \\ldots \\cos(dx), \\sin(x), \\sin(2x), \\ldots \\sin(dx)]\n",
      "$$"
     ]
    },
    {
     "cell_type": "code",
     "collapsed": false,
     "input": [
      "phi_poly(x,d) = x.^((0:d)')                     # polynomial basis function"
     ],
     "language": "python",
     "metadata": {},
     "outputs": []
    },
    {
     "cell_type": "markdown",
     "metadata": {},
     "source": [
      "The maximum likelihood estimator can be written as\n",
      "$$\n",
      "w_\\text{MLE} = (X'*X)^{-1}X'y\n",
      "$$"
     ]
    },
    {
     "cell_type": "code",
     "collapsed": false,
     "input": [
      "wMLE(xtrain, ytrain, phi) = begin\n",
      "    Xtrain = phi(xtrain)\n",
      "    wpred  = (Xtrain' * Xtrain) \\ (Xtrain' * ytrain)\n",
      "end"
     ],
     "language": "python",
     "metadata": {},
     "outputs": []
    },
    {
     "cell_type": "markdown",
     "metadata": {},
     "source": [
      "Finally, we define a function for the mean squared error."
     ]
    },
    {
     "cell_type": "code",
     "collapsed": false,
     "input": [
      "mse(yest, ytrue) = mean((yest-ytrue).^2)"
     ],
     "language": "python",
     "metadata": {},
     "outputs": []
    },
    {
     "cell_type": "markdown",
     "metadata": {},
     "source": [
      "For convenience we pack everything into some clever \\emph{linear regression plotting function}.  \n",
      "Note that the arguments `wpred` and `phi` are functions."
     ]
    },
    {
     "cell_type": "code",
     "collapsed": false,
     "input": [
      "lrplot(x, y, w, phi, titleprefix=\"\") = begin\n",
      "    n      = 100                         # number of test points\n",
      "    xline  = linspace(minimum(x), maximum(x), 100)\n",
      "    yline  = phi(xline)*w\n",
      "    yerr   = mse(phi(x)*w, y)\n",
      "    plot(layer(x=x,      y=y,     Geom.point), \n",
      "         layer(x=xline , y=yline, Geom.line), \n",
      "    Guide.title(\"$titleprefix error $yerr\"))\n",
      "end"
     ],
     "language": "python",
     "metadata": {},
     "outputs": []
    },
    {
     "cell_type": "markdown",
     "metadata": {},
     "source": [
      "# Example with toy data"
     ]
    },
    {
     "cell_type": "code",
     "collapsed": false,
     "input": [
      "readtt(fname) = begin\n",
      "    x = readdlm(fname, ',')\n",
      "    (x[:,1], x[:,2])\n",
      "end\n",
      "xtrain, ytrain = readtt(\"TrainingSet1D.csv\")\n",
      "xtest , ytest  = readtt(\"TestSet1D.csv\")"
     ],
     "language": "python",
     "metadata": {},
     "outputs": []
    },
    {
     "cell_type": "markdown",
     "metadata": {},
     "source": [
      "## Fit via MLE and compare training and test error"
     ]
    },
    {
     "cell_type": "code",
     "collapsed": false,
     "input": [
      "phi(x) = phi_poly(x, 1)         # define a basis function\n",
      "w      = wMLE(xtrain, ytrain, phi)\n",
      "set_default_plot_size(25cm, 10cm)\n",
      "hstack(lrplot(xtrain, ytrain, w, phi, \"training\"), lrplot(xtest, ytest, w, phi, \"test\"))"
     ],
     "language": "python",
     "metadata": {},
     "outputs": []
    },
    {
     "cell_type": "code",
     "collapsed": false,
     "input": [],
     "language": "python",
     "metadata": {},
     "outputs": []
    }
   ],
   "metadata": {}
  }
 ]
}