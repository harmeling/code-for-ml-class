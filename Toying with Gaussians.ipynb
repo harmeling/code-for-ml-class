{
 "metadata": {
  "language": "Julia",
  "name": "",
  "signature": "sha256:436a8af07893f0c831b61ce214ee6c492a3eab6ab90f5c191e5c99a14fc9f3ab"
 },
 "nbformat": 3,
 "nbformat_minor": 0,
 "worksheets": [
  {
   "cells": [
    {
     "cell_type": "markdown",
     "metadata": {},
     "source": [
      "# Gaussian distribution\n",
      "The starting point is the PDF of the univariate Gaussian,\n",
      "\n",
      "$$ N(x,\\mu, \\sigma^2) = \\frac{1}{\\sqrt{2\\pi}\\sigma} e^{-\\frac{(x-\\mu)^2}{2\\sigma^2}} $$\n",
      "\n",
      "which translates into the following code:"
     ]
    },
    {
     "cell_type": "code",
     "collapsed": false,
     "input": [
      "N(x, mu, sigma2) = exp(-0.5*(x-mu)*(x-mu)/sigma2) / sqrt(2*pi*sigma2)"
     ],
     "language": "python",
     "metadata": {},
     "outputs": [
      {
       "metadata": {},
       "output_type": "pyout",
       "prompt_number": 1,
       "text": [
        "N (generic function with 1 method)"
       ]
      }
     ],
     "prompt_number": 1
    },
    {
     "cell_type": "markdown",
     "metadata": {},
     "source": [
      "The univariate Gaussian is generalized for vectors as follows:\n",
      "\n",
      "$$N(x,\\mu,\\Sigma) = \\frac{1}{(2\\pi)^{(n/2)} |\\Sigma|^{1/2}} e^{-\\frac{1}{2}(x-\\mu)' \\Sigma^{-1} (x-\\mu)}$$\n",
      "\n",
      "which translates into the following code:"
     ]
    },
    {
     "cell_type": "code",
     "collapsed": false,
     "input": [
      "N(x::Vector, mu::Vector, Sigma::Matrix) = exp(-0.5*(x-mu)'*inv(Sigma)*(x-mu))[1] / sqrt((2*pi)^size(x,1) * det(Sigma))"
     ],
     "language": "python",
     "metadata": {},
     "outputs": [
      {
       "metadata": {},
       "output_type": "pyout",
       "prompt_number": 2,
       "text": [
        "N (generic function with 2 methods)"
       ]
      }
     ],
     "prompt_number": 2
    },
    {
     "cell_type": "code",
     "collapsed": false,
     "input": [
      "N([1, 2], [2,3], randn(2,2))"
     ],
     "language": "python",
     "metadata": {},
     "outputs": [
      {
       "metadata": {},
       "output_type": "pyout",
       "prompt_number": 3,
       "text": [
        "0.04734282023827307"
       ]
      }
     ],
     "prompt_number": 3
    },
    {
     "cell_type": "code",
     "collapsed": false,
     "input": [
      "N(0,0,1)"
     ],
     "language": "python",
     "metadata": {},
     "outputs": [
      {
       "metadata": {},
       "output_type": "pyout",
       "prompt_number": 4,
       "text": [
        "0.3989422804014327"
       ]
      }
     ],
     "prompt_number": 4
    },
    {
     "cell_type": "code",
     "collapsed": false,
     "input": [
      "using Winston"
     ],
     "language": "python",
     "metadata": {},
     "outputs": [],
     "prompt_number": 5
    },
    {
     "cell_type": "markdown",
     "metadata": {},
     "source": [
      "To plot a two dimensional Gaussian we evaluate it on a grid:"
     ]
    },
    {
     "cell_type": "code",
     "collapsed": false,
     "input": [
      "n = 100\n",
      "xrange = -5:0.1:5\n",
      "yrange = -5:0.1:5\n",
      "xx = [N([x, y], [0, 0], [1 0;0 1]) for x = xrange, y = yrange]\n",
      "imagesc((-5, 5), (-5, 5), float(xx), (0, 0.5))"
     ],
     "language": "python",
     "metadata": {},
     "outputs": [
      {
       "metadata": {},
       "output_type": "pyout",
       "png": "[encoded data removed]",
       "prompt_number": 31,
       "text": [
        "FramedPlot(...)"
       ]
      }
     ],
     "prompt_number": 31
    },
    {
     "cell_type": "code",
     "collapsed": false,
     "input": [
      "typeof(float(xx))"
     ],
     "language": "python",
     "metadata": {},
     "outputs": [
      {
       "metadata": {},
       "output_type": "pyout",
       "prompt_number": 8,
       "text": [
        "Array{Float64,2}"
       ]
      }
     ],
     "prompt_number": 8
    },
    {
     "cell_type": "code",
     "collapsed": false,
     "input": [
      "imagesc(float(xx))"
     ],
     "language": "python",
     "metadata": {},
     "outputs": [
      {
       "metadata": {},
       "output_type": "pyout",
       "png": "[encoded data removed]",
       "prompt_number": 9,
       "text": [
        "FramedPlot(...)"
       ]
      }
     ],
     "prompt_number": 9
    },
    {
     "cell_type": "code",
     "collapsed": false,
     "input": [
      "imagesc(float([N([x1, x2], [0, 0], [1 0.5;0.5 1]) for x1 = linspace(-5, 5, n), x2 = linspace(-5, 5, n)]), [0, 1])"
     ],
     "language": "python",
     "metadata": {},
     "outputs": [
      {
       "ename": "LoadError",
       "evalue": "`imagesc` has no method matching imagesc(::Array{Float64,2}, ::Array{Int64,1})\nwhile loading In[13], in expression starting on line 1",
       "output_type": "pyerr",
       "traceback": [
        "`imagesc` has no method matching imagesc(::Array{Float64,2}, ::Array{Int64,1})\nwhile loading In[13], in expression starting on line 1",
        "",
        " in anonymous at no file"
       ]
      }
     ],
     "prompt_number": 13
    },
    {
     "cell_type": "code",
     "collapsed": false,
     "input": [
      "methods(imagesc)"
     ],
     "language": "python",
     "metadata": {},
     "outputs": [
      {
       "html": [
        "4 methods for generic function <b>imagesc</b>:<ul><li> imagesc<i>{T<:Real}</i>(xrange::<b>(Real,Real)</b>,yrange::<b>(Real,Real)</b>,data::<b>AbstractArray{T<:Real,2}</b>,clims::<b>(Real,Real)</b>) at <a href=\"https://github.com/nolta/Winston.jl/tree/7b4fe854a8241252298119e401be1f9dcb2f875d/src/plot.jl#L295\" target=\"_blank\">/Users/harmeling/.julia/v0.3/Winston/src/plot.jl:295</a><li> imagesc<i>{T}</i>(data::<b>AbstractArray{T,2}</b>,clims::<b>(Real,Real)</b>) at <a href=\"https://github.com/nolta/Winston.jl/tree/7b4fe854a8241252298119e401be1f9dcb2f875d/src/plot.jl#L309\" target=\"_blank\">/Users/harmeling/.julia/v0.3/Winston/src/plot.jl:309</a><li> imagesc(xrange,yrange,data) at <a href=\"https://github.com/nolta/Winston.jl/tree/7b4fe854a8241252298119e401be1f9dcb2f875d/src/plot.jl#L307\" target=\"_blank\">/Users/harmeling/.julia/v0.3/Winston/src/plot.jl:307</a><li> imagesc(data) at <a href=\"https://github.com/nolta/Winston.jl/tree/7b4fe854a8241252298119e401be1f9dcb2f875d/src/plot.jl#L308\" target=\"_blank\">/Users/harmeling/.julia/v0.3/Winston/src/plot.jl:308</a></ul>"
       ],
       "metadata": {},
       "output_type": "pyout",
       "prompt_number": 14,
       "text": [
        "# 4 methods for generic function \"imagesc\":\n",
        "imagesc{T<:Real}(xrange::(Real,Real),yrange::(Real,Real),data::AbstractArray{T<:Real,2},clims::(Real,Real)) at /Users/harmeling/.julia/v0.3/Winston/src/plot.jl:295\n",
        "imagesc{T}(data::AbstractArray{T,2},clims::(Real,Real)) at /Users/harmeling/.julia/v0.3/Winston/src/plot.jl:309\n",
        "imagesc(xrange,yrange,data) at /Users/harmeling/.julia/v0.3/Winston/src/plot.jl:307\n",
        "imagesc(data) at /Users/harmeling/.julia/v0.3/Winston/src/plot.jl:308"
       ]
      }
     ],
     "prompt_number": 14
    }
   ],
   "metadata": {}
  }
 ]
}