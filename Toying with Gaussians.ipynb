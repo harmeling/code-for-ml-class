{
 "metadata": {
  "language": "Julia",
  "name": "",
  "signature": "sha256:e25321385ba482cee641830e17be1bb320ac2ef53e9ed77c5dc7739a6c59c9de"
 },
 "nbformat": 3,
 "nbformat_minor": 0,
 "worksheets": [
  {
   "cells": [
    {
     "cell_type": "markdown",
     "metadata": {},
     "source": [
      "# Gaussian distribution\n",
      "The starting point is the PDF of the univariate Gaussian,\n",
      "\n",
      "$$ N(x,\\mu, \\sigma^2) = \\frac{1}{\\sqrt{2\\pi}\\sigma} e^{-\\frac{(x-\\mu)^2}{2\\sigma^2}} $$\n",
      "\n",
      "which translates into the following code:"
     ]
    },
    {
     "cell_type": "code",
     "collapsed": false,
     "input": [
      "N(x, mu, sigma2) = exp(-0.5*(x-mu)*(x-mu)/sigma2) / sqrt(2*pi*sigma2)"
     ],
     "language": "python",
     "metadata": {},
     "outputs": []
    },
    {
     "cell_type": "markdown",
     "metadata": {},
     "source": [
      "The univariate Gaussian is generalized for vectors as follows:\n",
      "\n",
      "$$N(x,\\mu,\\Sigma) = \\frac{1}{(2\\pi)^{(n/2)} |\\Sigma|^{1/2}} e^{-\\frac{1}{2}(x-\\mu)' \\Sigma^{-1} (x-\\mu)}$$\n",
      "\n",
      "which translates into the following code:"
     ]
    },
    {
     "cell_type": "code",
     "collapsed": false,
     "input": [
      "N(x::Vector, mu::Vector, Sigma::Matrix) = exp(-0.5*(x-mu)'*inv(Sigma)*(x-mu))[1] / sqrt((2*pi)^size(x,1) * det(Sigma))"
     ],
     "language": "python",
     "metadata": {},
     "outputs": []
    },
    {
     "cell_type": "code",
     "collapsed": false,
     "input": [
      "N([1, 2], [2,3], randn(2,2))"
     ],
     "language": "python",
     "metadata": {},
     "outputs": []
    },
    {
     "cell_type": "code",
     "collapsed": false,
     "input": [
      "N(0,0,1)"
     ],
     "language": "python",
     "metadata": {},
     "outputs": []
    },
    {
     "cell_type": "code",
     "collapsed": false,
     "input": [
      "using Winston"
     ],
     "language": "python",
     "metadata": {},
     "outputs": []
    },
    {
     "cell_type": "markdown",
     "metadata": {},
     "source": [
      "To plot a two dimensional Gaussian we evaluate it on a grid:"
     ]
    },
    {
     "cell_type": "code",
     "collapsed": false,
     "input": [
      "n = 100\n",
      "xrange = -5:0.1:5\n",
      "yrange = -5:0.1:5\n",
      "xx = [N([x, y], [0, 0], [1 0;0 1]) for x = xrange, y = yrange]\n",
      "imagesc((-5, 5), (-5, 5), float(xx), (0, 0.5))"
     ],
     "language": "python",
     "metadata": {},
     "outputs": []
    },
    {
     "cell_type": "code",
     "collapsed": false,
     "input": [
      "typeof(float(xx))"
     ],
     "language": "python",
     "metadata": {},
     "outputs": []
    },
    {
     "cell_type": "code",
     "collapsed": false,
     "input": [
      "imagesc(float(xx))"
     ],
     "language": "python",
     "metadata": {},
     "outputs": []
    },
    {
     "cell_type": "code",
     "collapsed": false,
     "input": [
      "imagesc(float([N([x1, x2], [0, 0], [1 0.5;0.5 1]) for x1 = linspace(-5, 5, n), x2 = linspace(-5, 5, n)]), [0, 1])"
     ],
     "language": "python",
     "metadata": {},
     "outputs": []
    },
    {
     "cell_type": "code",
     "collapsed": false,
     "input": [
      "methods(imagesc)"
     ],
     "language": "python",
     "metadata": {},
     "outputs": []
    }
   ],
   "metadata": {}
  }
 ]
}