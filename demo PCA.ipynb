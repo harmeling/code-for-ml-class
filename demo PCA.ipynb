{
 "metadata": {
  "language": "Julia",
  "name": "",
  "signature": "sha256:129a67902f367f3b2414e351e49ad49e06b83cbc7a667b3a65308fa9b84c47e3"
 },
 "nbformat": 3,
 "nbformat_minor": 0,
 "worksheets": [
  {
   "cells": [
    {
     "cell_type": "markdown",
     "metadata": {},
     "source": [
      "# Simple implementation of Principal Component Analysis"
     ]
    },
    {
     "cell_type": "code",
     "collapsed": false,
     "input": [
      "D = 10      # higher dimensionality\n",
      "d = 3       # lower dimensionality\n",
      "n = 10000     # number of data points\n",
      "sigma = 10*rand(d)\n",
      "Z = diagm(sigma) * randn(d, n)     # low dimensional data\n",
      "CZ = cov(Z')                       # for large n this should be sigma.^2 along the diagonal\n",
      "A = randn(D, d)                    # mapping from low to high\n",
      "X = A*Z + randn(D, n)              # noisy high dimensional data\n",
      "CX = cov(X')                       # for large n this should be A*CZ*A' + eye(D)\n",
      "sort(diag(CX))                     # variances along the D dimensions of X"
     ],
     "language": "python",
     "metadata": {},
     "outputs": []
    },
    {
     "cell_type": "code",
     "collapsed": false,
     "input": [
      "# 1. remove mean\n",
      "mX = mean(X, 2)          # mean of the data\n",
      "X  = X .- mX             # note Julia is broadcasting"
     ],
     "language": "python",
     "metadata": {},
     "outputs": []
    },
    {
     "cell_type": "code",
     "collapsed": false,
     "input": [
      "# 2. calculate covariance matrix\n",
      "Sigma = X * X' / (n-1)"
     ],
     "language": "python",
     "metadata": {},
     "outputs": []
    },
    {
     "cell_type": "code",
     "collapsed": false,
     "input": [
      "# 3. EVD of covariance matrix\n",
      "(Lambda, V) = eig(Sigma)"
     ],
     "language": "python",
     "metadata": {},
     "outputs": []
    },
    {
     "cell_type": "code",
     "collapsed": false,
     "input": [
      "# what is the relationship between Lambda and sigma.^2?"
     ],
     "language": "python",
     "metadata": {},
     "outputs": []
    },
    {
     "cell_type": "code",
     "collapsed": false,
     "input": [
      "# 4. plot eigenvector spectrum\n",
      "using ASCIIPlots\n",
      "lineplot(Lambda)"
     ],
     "language": "python",
     "metadata": {},
     "outputs": []
    },
    {
     "cell_type": "code",
     "collapsed": false,
     "input": [
      "using TextPlots\n",
      "plot(Lambda)"
     ],
     "language": "python",
     "metadata": {},
     "outputs": []
    },
    {
     "cell_type": "code",
     "collapsed": false,
     "input": [
      "# 5. project data\n",
      "Vd = V[:,end-d+1:end]     # pick the eigenvectors of the largest eigenvalues\n",
      "Y = Vd' * X"
     ],
     "language": "python",
     "metadata": {},
     "outputs": []
    },
    {
     "cell_type": "code",
     "collapsed": false,
     "input": [
      "# wrap it all into a function\n",
      "klinear(a, b) = dot(a, b)\n",
      "pca(X;                     # (D,n)-data matrix with n data points\n",
      "    d = size(X,1),         # how low should be the embedding?\n",
      "    k = klinear) =         # kernel function for kernelPCA\n",
      "begin    \n",
      "    X           = X .- mean(X,2)    # 1. remove mean\n",
      "    Sigma       = X * X' / n        # 2. calculate covariance matrix\n",
      "    (Lambda, V) = eig(Sigma)        # 3. EVD of covariance matrix\n",
      "    V[:,end-d+1:end]' * X           # 4. project data\n",
      "end\n",
      "Ybar = pca(X,d)     # should be equal to Y\n",
      "assert(norm(Ybar-Y)<1e-10)\n",
      "Ybar"
     ],
     "language": "python",
     "metadata": {},
     "outputs": []
    },
    {
     "cell_type": "markdown",
     "metadata": {},
     "source": [
      "## How to calculate the covariance matrix"
     ]
    },
    {
     "cell_type": "code",
     "collapsed": false,
     "input": [
      "cov(X', X')"
     ],
     "language": "python",
     "metadata": {},
     "outputs": []
    },
    {
     "cell_type": "code",
     "collapsed": false,
     "input": [
      "X*X'/(n-1)"
     ],
     "language": "python",
     "metadata": {},
     "outputs": []
    },
    {
     "cell_type": "markdown",
     "metadata": {},
     "source": [
      "Aha, `cov` calculates the unbiased estimate of the covariance matrix."
     ]
    }
   ],
   "metadata": {}
  }
 ]
}