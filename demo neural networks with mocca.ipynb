{
 "metadata": {
  "language": "Julia",
  "name": "",
  "signature": "sha256:b734b3338943b713f72e1aa1062cfef4ee281acf23441974d4e917ba92dfaa5e"
 },
 "nbformat": 3,
 "nbformat_minor": 0,
 "worksheets": [
  {
   "cells": [
    {
     "cell_type": "markdown",
     "metadata": {},
     "source": [
      "# MNIST demo \n",
      "\n",
      "from http://mochajl.readthedocs.org/en/latest/tutorial/mnist.html"
     ]
    },
    {
     "cell_type": "code",
     "collapsed": false,
     "input": [
      "using Mocha"
     ],
     "language": "python",
     "metadata": {},
     "outputs": []
    },
    {
     "cell_type": "code",
     "collapsed": false,
     "input": [
      "data_layer  = HDF5DataLayer(name=\"train-data\", source=\"data/train.txt\",\n",
      "    batch_size=64, shuffle=true)"
     ],
     "language": "python",
     "metadata": {},
     "outputs": []
    },
    {
     "cell_type": "code",
     "collapsed": false,
     "input": [
      "conv_layer = ConvolutionLayer(name=\"conv1\", n_filter=20, kernel=(5,5),\n",
      "    bottoms=[:data], tops=[:conv])"
     ],
     "language": "python",
     "metadata": {},
     "outputs": []
    },
    {
     "cell_type": "code",
     "collapsed": false,
     "input": [
      "pool_layer = PoolingLayer(name=\"pool1\", kernel=(2,2), stride=(2,2),\n",
      "    bottoms=[:conv], tops=[:pool])\n",
      "conv2_layer = ConvolutionLayer(name=\"conv2\", n_filter=50, kernel=(5,5),\n",
      "    bottoms=[:pool], tops=[:conv2])\n",
      "pool2_layer = PoolingLayer(name=\"pool2\", kernel=(2,2), stride=(2,2), bottoms=[:conv2], tops=[:pool2])"
     ],
     "language": "python",
     "metadata": {},
     "outputs": []
    },
    {
     "cell_type": "code",
     "collapsed": false,
     "input": [
      "fc1_layer  = InnerProductLayer(name=\"ip1\", output_dim=500,\n",
      "    neuron=Neurons.ReLU(), bottoms=[:pool2], tops=[:ip1])\n",
      "fc2_layer  = InnerProductLayer(name=\"ip2\", output_dim=10,\n",
      "    bottoms=[:ip1], tops=[:ip2])"
     ],
     "language": "python",
     "metadata": {},
     "outputs": []
    },
    {
     "cell_type": "code",
     "collapsed": false,
     "input": [
      "loss_layer = SoftmaxLossLayer(name=\"loss\", bottoms=[:ip2,:label])"
     ],
     "language": "python",
     "metadata": {},
     "outputs": []
    },
    {
     "cell_type": "code",
     "collapsed": false,
     "input": [
      "backend = CPUBackend()"
     ],
     "language": "python",
     "metadata": {},
     "outputs": []
    },
    {
     "cell_type": "code",
     "collapsed": false,
     "input": [
      "common_layers = [conv_layer, pool_layer, conv2_layer, pool2_layer, fc1_layer, fc2_layer]\n",
      "net = Net(\"MNIST-train\", backend, [data_layer, common_layers..., loss_layer])"
     ],
     "language": "python",
     "metadata": {},
     "outputs": []
    },
    {
     "cell_type": "code",
     "collapsed": false,
     "input": [
      "exp_dir = \"snapshots\"\n",
      "params = SolverParameters(max_iter=10000, regu_coef=0.0005,\n",
      "    mom_policy=MomPolicy.Fixed(0.9),\n",
      "    lr_policy=LRPolicy.Inv(0.01, 0.0001, 0.75),\n",
      "    load_from=exp_dir)\n",
      "solver = SGD(params)"
     ],
     "language": "python",
     "metadata": {},
     "outputs": []
    },
    {
     "cell_type": "code",
     "collapsed": false,
     "input": [
      "setup_coffee_lounge(solver, save_into=\"$exp_dir/statistics.hdf5\", every_n_iter=1000)"
     ],
     "language": "python",
     "metadata": {},
     "outputs": []
    },
    {
     "cell_type": "code",
     "collapsed": false,
     "input": [
      "add_coffee_break(solver, TrainingSummary(), every_n_iter=100)"
     ],
     "language": "python",
     "metadata": {},
     "outputs": []
    },
    {
     "cell_type": "code",
     "collapsed": false,
     "input": [
      "add_coffee_break(solver, Snapshot(exp_dir), every_n_iter=5000)"
     ],
     "language": "python",
     "metadata": {},
     "outputs": []
    },
    {
     "cell_type": "code",
     "collapsed": false,
     "input": [
      "data_layer_test = HDF5DataLayer(name=\"test-data\", source=\"data/test.txt\", batch_size=100)\n",
      "acc_layer = AccuracyLayer(name=\"test-accuracy\", bottoms=[:ip2, :label])\n",
      "test_net = Net(\"MNIST-test\", backend, [data_layer_test, common_layers..., acc_layer])"
     ],
     "language": "python",
     "metadata": {},
     "outputs": []
    },
    {
     "cell_type": "code",
     "collapsed": false,
     "input": [
      "add_coffee_break(solver, ValidationPerformance(test_net), every_n_iter=1000)"
     ],
     "language": "python",
     "metadata": {},
     "outputs": []
    },
    {
     "cell_type": "code",
     "collapsed": false,
     "input": [
      "solve(solver, net)"
     ],
     "language": "python",
     "metadata": {},
     "outputs": []
    }
   ],
   "metadata": {}
  }
 ]
}