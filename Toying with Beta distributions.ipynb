{
 "metadata": {
  "language": "Julia",
  "name": "",
  "signature": "sha256:1f6b3632ec83d5e4e5316da763ffa0e323e26475dbe9d168b3ff5a44ab34fe96"
 },
 "nbformat": 3,
 "nbformat_minor": 0,
 "worksheets": [
  {
   "cells": [
    {
     "cell_type": "markdown",
     "metadata": {},
     "source": [
      "# Beta distributions, how to sample, how the PDF looks\n",
      "\n",
      "The PDF of the Beta distribution can be written as:\n",
      "$$ Beta(\\theta|a, b) =  \\frac{1}{B(a,b)} \\theta^{a-1} (1-\\theta)^{b-1} $$\n",
      "In the following we show how to sample from it and how to plot the PDF."
     ]
    },
    {
     "cell_type": "code",
     "collapsed": false,
     "input": [
      "# Pkg.add(\"Distributions\")           # to install the package\n",
      "using Distributions   # for random sampling"
     ],
     "language": "python",
     "metadata": {},
     "outputs": []
    },
    {
     "cell_type": "markdown",
     "metadata": {},
     "source": [
      "To sample from the Beta distribution we generate a distribution object and sample from it:"
     ]
    },
    {
     "cell_type": "code",
     "collapsed": false,
     "input": [
      "a = 6                  # parameters of the Beta\n",
      "b = 3\n",
      "d = Beta(a, b)         # a distribution\n",
      "n = 10                 # number of samples\n",
      "s = rand(d, n)            # generate samples"
     ],
     "language": "python",
     "metadata": {},
     "outputs": []
    },
    {
     "cell_type": "markdown",
     "metadata": {},
     "source": [
      "To make a histogram and plot the PDF we use the package `Winston`."
     ]
    },
    {
     "cell_type": "code",
     "collapsed": false,
     "input": [
      "# Pkg.add(\"Winston\")                 # to install the package\n",
      "using Winston         # for graphics"
     ],
     "language": "python",
     "metadata": {},
     "outputs": []
    },
    {
     "cell_type": "markdown",
     "metadata": {},
     "source": [
      "Looks like there is no histogram function yet, but a function to compute it."
     ]
    },
    {
     "cell_type": "code",
     "collapsed": false,
     "input": [
      "n = 1000                # number of samples\n",
      "k = 50                  # number of columns in the histogram\n",
      "s = rand(d, n)          # sample from the distribution\n",
      "e = linspace(0, 1, k)   # defines the bins\n",
      "h = hist(s, e)          # fills the samples into the bins\n",
      "stem(h[1], h[2])        # plot the bins\n",
      "xlim(0, 1)\n",
      "xlabel(\"theta\")\n",
      "ylabel(\"counts\")"
     ],
     "language": "python",
     "metadata": {},
     "outputs": []
    },
    {
     "cell_type": "code",
     "collapsed": false,
     "input": [
      "plot(e, pdf(d, e))"
     ],
     "language": "python",
     "metadata": {},
     "outputs": []
    }
   ],
   "metadata": {}
  }
 ]
}