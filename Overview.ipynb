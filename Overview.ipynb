{
 "metadata": {
  "language": "Julia",
  "name": "",
  "signature": "sha256:5b700fce2c2224e0b4f77c097436da71af7e3b08af3fbae898e8e7c777d3d9cf"
 },
 "nbformat": 3,
 "nbformat_minor": 0,
 "worksheets": [
  {
   "cells": [
    {
     "cell_type": "markdown",
     "metadata": {},
     "source": [
      "## Brief overview of the Julia programming language\n",
      "\n",
      "This brief overview was written by adapting examples from Bogumil Kaminski's \"The Julia Express\"."
     ]
    },
    {
     "cell_type": "markdown",
     "metadata": {},
     "source": [
      "### Integer, floats, strings, ..."
     ]
    },
    {
     "cell_type": "code",
     "collapsed": false,
     "input": [
      "17.0::Int       # integer"
     ],
     "language": "python",
     "metadata": {},
     "outputs": [
      {
       "ename": "LoadError",
       "evalue": "type: typeassert: expected Int64, got Float64\nwhile loading In[8], in expression starting on line 1",
       "output_type": "pyerr",
       "traceback": [
        "type: typeassert: expected Int64, got Float64\nwhile loading In[8], in expression starting on line 1",
        ""
       ]
      }
     ],
     "prompt_number": 8
    },
    {
     "cell_type": "code",
     "collapsed": false,
     "input": [
      "3.14     # float"
     ],
     "language": "python",
     "metadata": {},
     "outputs": [
      {
       "metadata": {},
       "output_type": "pyout",
       "prompt_number": 2,
       "text": [
        "3.14"
       ]
      }
     ],
     "prompt_number": 2
    },
    {
     "cell_type": "code",
     "collapsed": false,
     "input": [
      "true     # boolean"
     ],
     "language": "python",
     "metadata": {},
     "outputs": [
      {
       "metadata": {},
       "output_type": "pyout",
       "prompt_number": 3,
       "text": [
        "true"
       ]
      }
     ],
     "prompt_number": 3
    },
    {
     "cell_type": "code",
     "collapsed": false,
     "input": [
      "'a'      # character"
     ],
     "language": "python",
     "metadata": {},
     "outputs": [
      {
       "metadata": {},
       "output_type": "pyout",
       "prompt_number": 4,
       "text": [
        "'a'"
       ]
      }
     ],
     "prompt_number": 4
    },
    {
     "cell_type": "code",
     "collapsed": false,
     "input": [
      "\"bar\"\n",
      "\"foo\"    # string"
     ],
     "language": "python",
     "metadata": {},
     "outputs": [
      {
       "metadata": {},
       "output_type": "pyout",
       "prompt_number": 6,
       "text": [
        "\"foo\""
       ]
      }
     ],
     "prompt_number": 6
    },
    {
     "cell_type": "markdown",
     "metadata": {},
     "source": [
      "Note the last result is reported."
     ]
    },
    {
     "cell_type": "markdown",
     "metadata": {},
     "source": [
      "### Tuples"
     ]
    },
    {
     "cell_type": "code",
     "collapsed": false,
     "input": [
      "typeof(())        # empty tuple"
     ],
     "language": "python",
     "metadata": {},
     "outputs": [
      {
       "metadata": {},
       "output_type": "pyout",
       "prompt_number": 14,
       "text": [
        "()"
       ]
      }
     ],
     "prompt_number": 14
    },
    {
     "cell_type": "code",
     "collapsed": false,
     "input": [
      "typeof((1,))      # one element tuple"
     ],
     "language": "python",
     "metadata": {},
     "outputs": [
      {
       "metadata": {},
       "output_type": "pyout",
       "prompt_number": 13,
       "text": [
        "(Int64,)"
       ]
      }
     ],
     "prompt_number": 13
    },
    {
     "cell_type": "code",
     "collapsed": false,
     "input": [
      "(1)==1    # true, that is why we use the comma"
     ],
     "language": "python",
     "metadata": {},
     "outputs": [
      {
       "metadata": {},
       "output_type": "pyout",
       "prompt_number": 11,
       "text": [
        "true"
       ]
      }
     ],
     "prompt_number": 11
    },
    {
     "cell_type": "code",
     "collapsed": false,
     "input": [
      "(\"a\", 17) # two element tuple"
     ],
     "language": "python",
     "metadata": {},
     "outputs": [
      {
       "metadata": {},
       "output_type": "pyout",
       "prompt_number": 12,
       "text": [
        "(\"a\",17)"
       ]
      }
     ],
     "prompt_number": 12
    },
    {
     "cell_type": "code",
     "collapsed": false,
     "input": [
      "x = (2, 5, 'b')\n",
      "typeof(x)"
     ],
     "language": "python",
     "metadata": {},
     "outputs": [
      {
       "metadata": {},
       "output_type": "pyout",
       "prompt_number": 16,
       "text": [
        "(Int64,Int64,Char)"
       ]
      }
     ],
     "prompt_number": 16
    },
    {
     "cell_type": "code",
     "collapsed": false,
     "input": [
      "x[1]      # first element"
     ],
     "language": "python",
     "metadata": {},
     "outputs": [
      {
       "metadata": {},
       "output_type": "pyout",
       "prompt_number": 17,
       "text": [
        "2"
       ]
      }
     ],
     "prompt_number": 17
    },
    {
     "cell_type": "code",
     "collapsed": false,
     "input": [
      "x[1:2]    # two element tuple"
     ],
     "language": "python",
     "metadata": {},
     "outputs": [
      {
       "metadata": {},
       "output_type": "pyout",
       "prompt_number": 18,
       "text": [
        "(2,5)"
       ]
      }
     ],
     "prompt_number": 18
    },
    {
     "cell_type": "code",
     "collapsed": false,
     "input": [
      "x[4]      # ERROR, out of bounds"
     ],
     "language": "python",
     "metadata": {},
     "outputs": [
      {
       "ename": "LoadError",
       "evalue": "BoundsError()\nwhile loading In[19], in expression starting on line 1",
       "output_type": "pyerr",
       "traceback": [
        "BoundsError()\nwhile loading In[19], in expression starting on line 1",
        "",
        " in getindex at /Applications/Julia-0.3.1.app/Contents/Resources/julia/lib/julia/sys.dylib (repeats 2 times)"
       ]
      }
     ],
     "prompt_number": 19
    },
    {
     "cell_type": "code",
     "collapsed": false,
     "input": [
      "x[1] = 1  # ERROR, since tuples are immutable"
     ],
     "language": "python",
     "metadata": {},
     "outputs": [
      {
       "ename": "LoadError",
       "evalue": "`setindex!` has no method matching setindex!(::(Int64,Int64,Char), ::Int64, ::Int64)\nwhile loading In[20], in expression starting on line 1",
       "output_type": "pyerr",
       "traceback": [
        "`setindex!` has no method matching setindex!(::(Int64,Int64,Char), ::Int64, ::Int64)\nwhile loading In[20], in expression starting on line 1",
        ""
       ]
      }
     ],
     "prompt_number": 20
    },
    {
     "cell_type": "markdown",
     "metadata": {},
     "source": [
      "### Arrays, Vectors, Matrices"
     ]
    },
    {
     "cell_type": "code",
     "collapsed": false,
     "input": [
      "[1, 1.9, \"4.5\"]"
     ],
     "language": "python",
     "metadata": {},
     "outputs": [
      {
       "metadata": {},
       "output_type": "pyout",
       "prompt_number": 23,
       "text": [
        "3-element Array{Any,1}:\n",
        " 1     \n",
        " 1.9   \n",
        "  \"4.5\""
       ]
      }
     ],
     "prompt_number": 23
    },
    {
     "cell_type": "code",
     "collapsed": false,
     "input": [
      "[1, 2, 3]     # three element array"
     ],
     "language": "python",
     "metadata": {},
     "outputs": [
      {
       "metadata": {},
       "output_type": "pyout",
       "prompt_number": 21,
       "text": [
        "3-element Array{Int64,1}:\n",
        " 1\n",
        " 2\n",
        " 3"
       ]
      }
     ],
     "prompt_number": 21
    },
    {
     "cell_type": "code",
     "collapsed": false,
     "input": [
      "x = [1, 2]"
     ],
     "language": "python",
     "metadata": {},
     "outputs": [
      {
       "metadata": {},
       "output_type": "pyout",
       "prompt_number": 24,
       "text": [
        "2-element Array{Int64,1}:\n",
        " 1\n",
        " 2"
       ]
      }
     ],
     "prompt_number": 24
    },
    {
     "cell_type": "code",
     "collapsed": false,
     "input": [
      "x[2] = 17     # no error, since arrays are mutable"
     ],
     "language": "python",
     "metadata": {},
     "outputs": [
      {
       "metadata": {},
       "output_type": "pyout",
       "prompt_number": 25,
       "text": [
        "17"
       ]
      }
     ],
     "prompt_number": 25
    },
    {
     "cell_type": "code",
     "collapsed": false,
     "input": [
      "x[4] = 42     # ERROR, out of bounds"
     ],
     "language": "python",
     "metadata": {},
     "outputs": [
      {
       "ename": "LoadError",
       "evalue": "BoundsError()\nwhile loading In[26], in expression starting on line 1",
       "output_type": "pyerr",
       "traceback": [
        "BoundsError()\nwhile loading In[26], in expression starting on line 1",
        "",
        " in setindex! at /Applications/Julia-0.3.1.app/Contents/Resources/julia/lib/julia/sys.dylib (repeats 2 times)"
       ]
      }
     ],
     "prompt_number": 26
    },
    {
     "cell_type": "code",
     "collapsed": false,
     "input": [
      "zeros(2, 3)   # 2x3 matrix of zeros"
     ],
     "language": "python",
     "metadata": {},
     "outputs": [
      {
       "metadata": {},
       "output_type": "pyout",
       "prompt_number": 27,
       "text": [
        "2x3 Array{Float64,2}:\n",
        " 0.0  0.0  0.0\n",
        " 0.0  0.0  0.0"
       ]
      }
     ],
     "prompt_number": 27
    },
    {
     "cell_type": "code",
     "collapsed": false,
     "input": [
      "eye(3)        # 3x3 identity matrix"
     ],
     "language": "python",
     "metadata": {},
     "outputs": [
      {
       "metadata": {},
       "output_type": "pyout",
       "prompt_number": 29,
       "text": [
        "3x3 Array{Float64,2}:\n",
        " 1.0  0.0  0.0\n",
        " 0.0  1.0  0.0\n",
        " 0.0  0.0  1.0"
       ]
      }
     ],
     "prompt_number": 29
    },
    {
     "cell_type": "code",
     "collapsed": false,
     "input": [
      "typeof(1:10)          # like [1,2,3,4,5,6,7,8,9,10], but stored smaller"
     ],
     "language": "python",
     "metadata": {},
     "outputs": [
      {
       "metadata": {},
       "output_type": "pyout",
       "prompt_number": 32,
       "text": [
        "UnitRange{Int64} (constructor with 1 method)"
       ]
      }
     ],
     "prompt_number": 32
    },
    {
     "cell_type": "code",
     "collapsed": false,
     "input": [
      "linspace(3, 6, 10)  # [3, ..., 6] with 10 elements"
     ],
     "language": "python",
     "metadata": {},
     "outputs": [
      {
       "metadata": {},
       "output_type": "pyout",
       "prompt_number": 33,
       "text": [
        "10-element Array{Float64,1}:\n",
        " 3.0    \n",
        " 3.33333\n",
        " 3.66667\n",
        " 4.0    \n",
        " 4.33333\n",
        " 4.66667\n",
        " 5.0    \n",
        " 5.33333\n",
        " 5.66667\n",
        " 6.0    "
       ]
      }
     ],
     "prompt_number": 33
    },
    {
     "cell_type": "code",
     "collapsed": false,
     "input": [
      "[1, 2, 3]      # array"
     ],
     "language": "python",
     "metadata": {},
     "outputs": [
      {
       "metadata": {},
       "output_type": "pyout",
       "prompt_number": 34,
       "text": [
        "3-element Array{Int64,1}:\n",
        " 1\n",
        " 2\n",
        " 3"
       ]
      }
     ],
     "prompt_number": 34
    },
    {
     "cell_type": "code",
     "collapsed": false,
     "input": [
      "[1 2 3]        # 1x3 matrix"
     ],
     "language": "python",
     "metadata": {},
     "outputs": [
      {
       "metadata": {},
       "output_type": "pyout",
       "prompt_number": 35,
       "text": [
        "1x3 Array{Int64,2}:\n",
        " 1  2  3"
       ]
      }
     ],
     "prompt_number": 35
    },
    {
     "cell_type": "code",
     "collapsed": false,
     "input": [
      "[1 2; 3 4]     # 2x2 matrix"
     ],
     "language": "python",
     "metadata": {},
     "outputs": [
      {
       "metadata": {},
       "output_type": "pyout",
       "prompt_number": 36,
       "text": [
        "2x2 Array{Int64,2}:\n",
        " 1  2\n",
        " 3  4"
       ]
      }
     ],
     "prompt_number": 36
    },
    {
     "cell_type": "code",
     "collapsed": false,
     "input": [
      "randn(5)       # a random vector"
     ],
     "language": "python",
     "metadata": {},
     "outputs": [
      {
       "metadata": {},
       "output_type": "pyout",
       "prompt_number": 37,
       "text": [
        "5-element Array{Float64,1}:\n",
        "  0.668867\n",
        "  0.792209\n",
        "  0.25915 \n",
        "  0.269862\n",
        " -0.481058"
       ]
      }
     ],
     "prompt_number": 37
    },
    {
     "cell_type": "code",
     "collapsed": false,
     "input": [
      "randn(5,2)     # a random matrix"
     ],
     "language": "python",
     "metadata": {},
     "outputs": [
      {
       "metadata": {},
       "output_type": "pyout",
       "prompt_number": 38,
       "text": [
        "5x2 Array{Float64,2}:\n",
        "  2.53247     0.517301\n",
        " -0.775835   -0.650307\n",
        "  0.0887464   0.386053\n",
        " -0.116776    0.299063\n",
        " -0.424068    1.01735 "
       ]
      }
     ],
     "prompt_number": 38
    },
    {
     "cell_type": "code",
     "collapsed": false,
     "input": [
      "randn(2,3,4)   # a random tensor"
     ],
     "language": "python",
     "metadata": {},
     "outputs": [
      {
       "metadata": {},
       "output_type": "pyout",
       "prompt_number": 28,
       "text": [
        "2x3x4 Array{Float64,3}:\n",
        "[:, :, 1] =\n",
        " -0.398153  0.165704   1.96113 \n",
        " -0.113257  2.29055   -0.607774\n",
        "\n",
        "[:, :, 2] =\n",
        " -0.274952  -0.0688022  -2.08647 \n",
        " -0.36633   -0.097445    0.890123\n",
        "\n",
        "[:, :, 3] =\n",
        " -0.294119   0.0925882   0.381218\n",
        " -0.894912  -0.0245317  -0.746457\n",
        "\n",
        "[:, :, 4] =\n",
        " -0.00264903   0.0499311   -1.22797 \n",
        " -0.607066    -0.00769376  -0.554746"
       ]
      }
     ],
     "prompt_number": 28
    },
    {
     "cell_type": "code",
     "collapsed": false,
     "input": [
      "ndims(randn(2,3,4))"
     ],
     "language": "python",
     "metadata": {},
     "outputs": [
      {
       "metadata": {},
       "output_type": "pyout",
       "prompt_number": 39,
       "text": [
        "3"
       ]
      }
     ],
     "prompt_number": 39
    },
    {
     "cell_type": "code",
     "collapsed": false,
     "input": [
      "size(randn(2,3,4))"
     ],
     "language": "python",
     "metadata": {},
     "outputs": [
      {
       "metadata": {},
       "output_type": "pyout",
       "prompt_number": 40,
       "text": [
        "(2,3,4)"
       ]
      }
     ],
     "prompt_number": 40
    },
    {
     "cell_type": "code",
     "collapsed": false,
     "input": [
      "+(t::(Int64, Int64, Int64), s::(Int64,Int64,Int64)) = 17"
     ],
     "language": "python",
     "metadata": {},
     "outputs": [
      {
       "metadata": {},
       "output_type": "pyout",
       "prompt_number": 42,
       "text": [
        "+ (generic function with 126 methods)"
       ]
      }
     ],
     "prompt_number": 42
    },
    {
     "cell_type": "code",
     "collapsed": false,
     "input": [
      "size(randn(2,4,5)) + size(zeros(5,4,3))    # oh no!"
     ],
     "language": "python",
     "metadata": {},
     "outputs": [
      {
       "metadata": {},
       "output_type": "pyout",
       "prompt_number": 43,
       "text": [
        "17"
       ]
      }
     ],
     "prompt_number": 43
    },
    {
     "cell_type": "code",
     "collapsed": false,
     "input": [],
     "language": "python",
     "metadata": {},
     "outputs": [
      {
       "html": [
        "444 methods for generic function <b>convert</b>:<ul><li> convert(::<b>()</b>,::<b>()</b>) at <a href=\"https://github.com/JuliaLang/julia/tree/c03f413bbdb46c00033f4eaad402995cfe3b7be5/base/base.jl#L15\" target=\"_blank\">base.jl:15</a><li> convert(::<b>Type{(Any...,)}</b>,x::<b>(Any...,)</b>) at <a href=\"https://github.com/JuliaLang/julia/tree/c03f413bbdb46c00033f4eaad402995cfe3b7be5/base/base.jl#L16\" target=\"_blank\">base.jl:16</a><li> convert<i>{T}</i>(::<b>Type{(T...,)}</b>,x::<b>(Any...,)</b>) at <a href=\"https://github.com/JuliaLang/julia/tree/c03f413bbdb46c00033f4eaad402995cfe3b7be5/base/base.jl#L24\" target=\"_blank\">base.jl:24</a><li> convert(T::<b>(Any,Any...)</b>,x::<b>(Any,Any...)</b>) at <a href=\"https://github.com/JuliaLang/julia/tree/c03f413bbdb46c00033f4eaad402995cfe3b7be5/base/base.jl#L21\" target=\"_blank\">base.jl:21</a><li> convert<i>{T}</i>(::<b>Type{FloatRange{T}}</b>,r::<b>FloatRange{T<:FloatingPoint}</b>) at <a href=\"https://github.com/JuliaLang/julia/tree/c03f413bbdb46c00033f4eaad402995cfe3b7be5/base/range.jl#L468\" target=\"_blank\">range.jl:468</a><li> convert<i>{T}</i>(::<b>Type{FloatRange{T}}</b>,r::<b>OrdinalRange{T,S}</b>) at <a href=\"https://github.com/JuliaLang/julia/tree/c03f413bbdb46c00033f4eaad402995cfe3b7be5/base/range.jl#L473\" target=\"_blank\">range.jl:473</a><li> convert<i>{T}</i>(::<b>Type{Array{T,1}}</b>,r::<b>Range{T}</b>) at <a href=\"https://github.com/JuliaLang/julia/tree/c03f413bbdb46c00033f4eaad402995cfe3b7be5/base/range.jl#L508\" target=\"_blank\">range.jl:508</a><li> convert(::<b>Type{Bool}</b>,x::<b>Bool</b>) at <a href=\"https://github.com/JuliaLang/julia/tree/c03f413bbdb46c00033f4eaad402995cfe3b7be5/base/bool.jl#L3\" target=\"_blank\">bool.jl:3</a><li> convert(::<b>Type{Bool}</b>,x::<b>Rational{T<:Integer}</b>) at <a href=\"https://github.com/JuliaLang/julia/tree/c03f413bbdb46c00033f4eaad402995cfe3b7be5/base/rational.jl#L44\" target=\"_blank\">rational.jl:44</a><li> convert(::<b>Type{Bool}</b>,x::<b>Float16</b>) at <a href=\"https://github.com/JuliaLang/julia/tree/c03f413bbdb46c00033f4eaad402995cfe3b7be5/base/float16.jl#L99\" target=\"_blank\">float16.jl:99</a><li> convert(::<b>Type{Bool}</b>,x::<b>Real</b>) at <a href=\"https://github.com/JuliaLang/julia/tree/c03f413bbdb46c00033f4eaad402995cfe3b7be5/base/bool.jl#L4\" target=\"_blank\">bool.jl:4</a><li> convert(::<b>Type{Int8}</b>,x::<b>Bool</b>) at <a href=\"https://github.com/JuliaLang/julia/tree/c03f413bbdb46c00033f4eaad402995cfe3b7be5/base/int.jl#L288\" target=\"_blank\">int.jl:288</a><li> convert(::<b>Type{Int8}</b>,x::<b>Uint8</b>) at <a href=\"https://github.com/JuliaLang/julia/tree/c03f413bbdb46c00033f4eaad402995cfe3b7be5/base/int.jl#L291\" target=\"_blank\">int.jl:291</a><li> convert(::<b>Type{Int8}</b>,x::<b>Int16</b>) at <a href=\"https://github.com/JuliaLang/julia/tree/c03f413bbdb46c00033f4eaad402995cfe3b7be5/base/int.jl#L283\" target=\"_blank\">int.jl:283</a><li> convert(::<b>Type{Int8}</b>,x::<b>Uint16</b>) at <a href=\"https://github.com/JuliaLang/julia/tree/c03f413bbdb46c00033f4eaad402995cfe3b7be5/base/int.jl#L283\" target=\"_blank\">int.jl:283</a><li> convert(::<b>Type{Int8}</b>,x::<b>Int32</b>) at <a href=\"https://github.com/JuliaLang/julia/tree/c03f413bbdb46c00033f4eaad402995cfe3b7be5/base/int.jl#L283\" target=\"_blank\">int.jl:283</a><li> convert(::<b>Type{Int8}</b>,x::<b>Uint32</b>) at <a href=\"https://github.com/JuliaLang/julia/tree/c03f413bbdb46c00033f4eaad402995cfe3b7be5/base/int.jl#L283\" target=\"_blank\">int.jl:283</a><li> convert(::<b>Type{Int8}</b>,x::<b>Char</b>) at <a href=\"https://github.com/JuliaLang/julia/tree/c03f413bbdb46c00033f4eaad402995cfe3b7be5/base/int.jl#L283\" target=\"_blank\">int.jl:283</a><li> convert(::<b>Type{Int8}</b>,x::<b>Int64</b>) at <a href=\"https://github.com/JuliaLang/julia/tree/c03f413bbdb46c00033f4eaad402995cfe3b7be5/base/int.jl#L283\" target=\"_blank\">int.jl:283</a><li> convert(::<b>Type{Int8}</b>,x::<b>Uint64</b>) at <a href=\"https://github.com/JuliaLang/julia/tree/c03f413bbdb46c00033f4eaad402995cfe3b7be5/base/int.jl#L283\" target=\"_blank\">int.jl:283</a><li> convert(::<b>Type{Int8}</b>,x::<b>Int128</b>) at <a href=\"https://github.com/JuliaLang/julia/tree/c03f413bbdb46c00033f4eaad402995cfe3b7be5/base/int.jl#L283\" target=\"_blank\">int.jl:283</a><li> convert(::<b>Type{Int8}</b>,x::<b>Uint128</b>) at <a href=\"https://github.com/JuliaLang/julia/tree/c03f413bbdb46c00033f4eaad402995cfe3b7be5/base/int.jl#L283\" target=\"_blank\">int.jl:283</a><li> convert(::<b>Type{Uint8}</b>,x::<b>Bool</b>) at <a href=\"https://github.com/JuliaLang/julia/tree/c03f413bbdb46c00033f4eaad402995cfe3b7be5/base/int.jl#L288\" target=\"_blank\">int.jl:288</a><li> convert(::<b>Type{Uint8}</b>,x::<b>Int8</b>) at <a href=\"https://github.com/JuliaLang/julia/tree/c03f413bbdb46c00033f4eaad402995cfe3b7be5/base/int.jl#L291\" target=\"_blank\">int.jl:291</a><li> convert(::<b>Type{Uint8}</b>,x::<b>Int16</b>) at <a href=\"https://github.com/JuliaLang/julia/tree/c03f413bbdb46c00033f4eaad402995cfe3b7be5/base/int.jl#L283\" target=\"_blank\">int.jl:283</a><li> convert(::<b>Type{Uint8}</b>,x::<b>Uint16</b>) at <a href=\"https://github.com/JuliaLang/julia/tree/c03f413bbdb46c00033f4eaad402995cfe3b7be5/base/int.jl#L283\" target=\"_blank\">int.jl:283</a><li> convert(::<b>Type{Uint8}</b>,x::<b>Int32</b>) at <a href=\"https://github.com/JuliaLang/julia/tree/c03f413bbdb46c00033f4eaad402995cfe3b7be5/base/int.jl#L283\" target=\"_blank\">int.jl:283</a><li> convert(::<b>Type{Uint8}</b>,x::<b>Uint32</b>) at <a href=\"https://github.com/JuliaLang/julia/tree/c03f413bbdb46c00033f4eaad402995cfe3b7be5/base/int.jl#L283\" target=\"_blank\">int.jl:283</a><li> convert(::<b>Type{Uint8}</b>,x::<b>Char</b>) at <a href=\"https://github.com/JuliaLang/julia/tree/c03f413bbdb46c00033f4eaad402995cfe3b7be5/base/int.jl#L283\" target=\"_blank\">int.jl:283</a><li> convert(::<b>Type{Uint8}</b>,x::<b>Int64</b>) at <a href=\"https://github.com/JuliaLang/julia/tree/c03f413bbdb46c00033f4eaad402995cfe3b7be5/base/int.jl#L283\" target=\"_blank\">int.jl:283</a><li> convert(::<b>Type{Uint8}</b>,x::<b>Uint64</b>) at <a href=\"https://github.com/JuliaLang/julia/tree/c03f413bbdb46c00033f4eaad402995cfe3b7be5/base/int.jl#L283\" target=\"_blank\">int.jl:283</a><li> convert(::<b>Type{Uint8}</b>,x::<b>Int128</b>) at <a href=\"https://github.com/JuliaLang/julia/tree/c03f413bbdb46c00033f4eaad402995cfe3b7be5/base/int.jl#L283\" target=\"_blank\">int.jl:283</a><li> convert(::<b>Type{Uint8}</b>,x::<b>Uint128</b>) at <a href=\"https://github.com/JuliaLang/julia/tree/c03f413bbdb46c00033f4eaad402995cfe3b7be5/base/int.jl#L283\" target=\"_blank\">int.jl:283</a><li> convert(::<b>Type{Int16}</b>,x::<b>Bool</b>) at <a href=\"https://github.com/JuliaLang/julia/tree/c03f413bbdb46c00033f4eaad402995cfe3b7be5/base/int.jl#L288\" target=\"_blank\">int.jl:288</a><li> convert(::<b>Type{Int16}</b>,x::<b>Int8</b>) at <a href=\"https://github.com/JuliaLang/julia/tree/c03f413bbdb46c00033f4eaad402995cfe3b7be5/base/int.jl#L286\" target=\"_blank\">int.jl:286</a><li> convert(::<b>Type{Int16}</b>,x::<b>Uint8</b>) at <a href=\"https://github.com/JuliaLang/julia/tree/c03f413bbdb46c00033f4eaad402995cfe3b7be5/base/int.jl#L288\" target=\"_blank\">int.jl:288</a><li> convert(::<b>Type{Int16}</b>,x::<b>Uint16</b>) at <a href=\"https://github.com/JuliaLang/julia/tree/c03f413bbdb46c00033f4eaad402995cfe3b7be5/base/int.jl#L291\" target=\"_blank\">int.jl:291</a><li> convert(::<b>Type{Int16}</b>,x::<b>Int32</b>) at <a href=\"https://github.com/JuliaLang/julia/tree/c03f413bbdb46c00033f4eaad402995cfe3b7be5/base/int.jl#L283\" target=\"_blank\">int.jl:283</a><li> convert(::<b>Type{Int16}</b>,x::<b>Uint32</b>) at <a href=\"https://github.com/JuliaLang/julia/tree/c03f413bbdb46c00033f4eaad402995cfe3b7be5/base/int.jl#L283\" target=\"_blank\">int.jl:283</a><li> convert(::<b>Type{Int16}</b>,x::<b>Char</b>) at <a href=\"https://github.com/JuliaLang/julia/tree/c03f413bbdb46c00033f4eaad402995cfe3b7be5/base/int.jl#L283\" target=\"_blank\">int.jl:283</a><li> convert(::<b>Type{Int16}</b>,x::<b>Int64</b>) at <a href=\"https://github.com/JuliaLang/julia/tree/c03f413bbdb46c00033f4eaad402995cfe3b7be5/base/int.jl#L283\" target=\"_blank\">int.jl:283</a><li> convert(::<b>Type{Int16}</b>,x::<b>Uint64</b>) at <a href=\"https://github.com/JuliaLang/julia/tree/c03f413bbdb46c00033f4eaad402995cfe3b7be5/base/int.jl#L283\" target=\"_blank\">int.jl:283</a><li> convert(::<b>Type{Int16}</b>,x::<b>Int128</b>) at <a href=\"https://github.com/JuliaLang/julia/tree/c03f413bbdb46c00033f4eaad402995cfe3b7be5/base/int.jl#L283\" target=\"_blank\">int.jl:283</a><li> convert(::<b>Type{Int16}</b>,x::<b>Uint128</b>) at <a href=\"https://github.com/JuliaLang/julia/tree/c03f413bbdb46c00033f4eaad402995cfe3b7be5/base/int.jl#L283\" target=\"_blank\">int.jl:283</a><li> convert(::<b>Type{Uint16}</b>,x::<b>Bool</b>) at <a href=\"https://github.com/JuliaLang/julia/tree/c03f413bbdb46c00033f4eaad402995cfe3b7be5/base/int.jl#L288\" target=\"_blank\">int.jl:288</a><li> convert(::<b>Type{Uint16}</b>,x::<b>Int8</b>) at <a href=\"https://github.com/JuliaLang/julia/tree/c03f413bbdb46c00033f4eaad402995cfe3b7be5/base/int.jl#L286\" target=\"_blank\">int.jl:286</a><li> convert(::<b>Type{Uint16}</b>,x::<b>Uint8</b>) at <a href=\"https://github.com/JuliaLang/julia/tree/c03f413bbdb46c00033f4eaad402995cfe3b7be5/base/int.jl#L288\" target=\"_blank\">int.jl:288</a><li> convert(::<b>Type{Uint16}</b>,x::<b>Int16</b>) at <a href=\"https://github.com/JuliaLang/julia/tree/c03f413bbdb46c00033f4eaad402995cfe3b7be5/base/int.jl#L291\" target=\"_blank\">int.jl:291</a><li> convert(::<b>Type{Uint16}</b>,x::<b>Int32</b>) at <a href=\"https://github.com/JuliaLang/julia/tree/c03f413bbdb46c00033f4eaad402995cfe3b7be5/base/int.jl#L283\" target=\"_blank\">int.jl:283</a><li> convert(::<b>Type{Uint16}</b>,x::<b>Uint32</b>) at <a href=\"https://github.com/JuliaLang/julia/tree/c03f413bbdb46c00033f4eaad402995cfe3b7be5/base/int.jl#L283\" target=\"_blank\">int.jl:283</a><li> convert(::<b>Type{Uint16}</b>,x::<b>Char</b>) at <a href=\"https://github.com/JuliaLang/julia/tree/c03f413bbdb46c00033f4eaad402995cfe3b7be5/base/int.jl#L283\" target=\"_blank\">int.jl:283</a><li> convert(::<b>Type{Uint16}</b>,x::<b>Int64</b>) at <a href=\"https://github.com/JuliaLang/julia/tree/c03f413bbdb46c00033f4eaad402995cfe3b7be5/base/int.jl#L283\" target=\"_blank\">int.jl:283</a><li> convert(::<b>Type{Uint16}</b>,x::<b>Uint64</b>) at <a href=\"https://github.com/JuliaLang/julia/tree/c03f413bbdb46c00033f4eaad402995cfe3b7be5/base/int.jl#L283\" target=\"_blank\">int.jl:283</a><li> convert(::<b>Type{Uint16}</b>,x::<b>Int128</b>) at <a href=\"https://github.com/JuliaLang/julia/tree/c03f413bbdb46c00033f4eaad402995cfe3b7be5/base/int.jl#L283\" target=\"_blank\">int.jl:283</a><li> convert(::<b>Type{Uint16}</b>,x::<b>Uint128</b>) at <a href=\"https://github.com/JuliaLang/julia/tree/c03f413bbdb46c00033f4eaad402995cfe3b7be5/base/int.jl#L283\" target=\"_blank\">int.jl:283</a><li> convert(::<b>Type{Int32}</b>,x::<b>Bool</b>) at <a href=\"https://github.com/JuliaLang/julia/tree/c03f413bbdb46c00033f4eaad402995cfe3b7be5/base/int.jl#L288\" target=\"_blank\">int.jl:288</a><li> convert(::<b>Type{Int32}</b>,x::<b>Int8</b>) at <a href=\"https://github.com/JuliaLang/julia/tree/c03f413bbdb46c00033f4eaad402995cfe3b7be5/base/int.jl#L286\" target=\"_blank\">int.jl:286</a><li> convert(::<b>Type{Int32}</b>,x::<b>Uint8</b>) at <a href=\"https://github.com/JuliaLang/julia/tree/c03f413bbdb46c00033f4eaad402995cfe3b7be5/base/int.jl#L288\" target=\"_blank\">int.jl:288</a><li> convert(::<b>Type{Int32}</b>,x::<b>Int16</b>) at <a href=\"https://github.com/JuliaLang/julia/tree/c03f413bbdb46c00033f4eaad402995cfe3b7be5/base/int.jl#L286\" target=\"_blank\">int.jl:286</a><li> convert(::<b>Type{Int32}</b>,x::<b>Uint16</b>) at <a href=\"https://github.com/JuliaLang/julia/tree/c03f413bbdb46c00033f4eaad402995cfe3b7be5/base/int.jl#L288\" target=\"_blank\">int.jl:288</a><li> convert(::<b>Type{Int32}</b>,x::<b>Uint32</b>) at <a href=\"https://github.com/JuliaLang/julia/tree/c03f413bbdb46c00033f4eaad402995cfe3b7be5/base/int.jl#L291\" target=\"_blank\">int.jl:291</a><li> convert(::<b>Type{Int32}</b>,x::<b>Char</b>) at <a href=\"https://github.com/JuliaLang/julia/tree/c03f413bbdb46c00033f4eaad402995cfe3b7be5/base/int.jl#L291\" target=\"_blank\">int.jl:291</a><li> convert(::<b>Type{Int32}</b>,x::<b>Int64</b>) at <a href=\"https://github.com/JuliaLang/julia/tree/c03f413bbdb46c00033f4eaad402995cfe3b7be5/base/int.jl#L283\" target=\"_blank\">int.jl:283</a><li> convert(::<b>Type{Int32}</b>,x::<b>Uint64</b>) at <a href=\"https://github.com/JuliaLang/julia/tree/c03f413bbdb46c00033f4eaad402995cfe3b7be5/base/int.jl#L283\" target=\"_blank\">int.jl:283</a><li> convert(::<b>Type{Int32}</b>,x::<b>Int128</b>) at <a href=\"https://github.com/JuliaLang/julia/tree/c03f413bbdb46c00033f4eaad402995cfe3b7be5/base/int.jl#L283\" target=\"_blank\">int.jl:283</a><li> convert(::<b>Type{Int32}</b>,x::<b>Uint128</b>) at <a href=\"https://github.com/JuliaLang/julia/tree/c03f413bbdb46c00033f4eaad402995cfe3b7be5/base/int.jl#L283\" target=\"_blank\">int.jl:283</a><li> convert(::<b>Type{Uint32}</b>,x::<b>Bool</b>) at <a href=\"https://github.com/JuliaLang/julia/tree/c03f413bbdb46c00033f4eaad402995cfe3b7be5/base/int.jl#L288\" target=\"_blank\">int.jl:288</a><li> convert(::<b>Type{Uint32}</b>,x::<b>Int8</b>) at <a href=\"https://github.com/JuliaLang/julia/tree/c03f413bbdb46c00033f4eaad402995cfe3b7be5/base/int.jl#L286\" target=\"_blank\">int.jl:286</a><li> convert(::<b>Type{Uint32}</b>,x::<b>Uint8</b>) at <a href=\"https://github.com/JuliaLang/julia/tree/c03f413bbdb46c00033f4eaad402995cfe3b7be5/base/int.jl#L288\" target=\"_blank\">int.jl:288</a><li> convert(::<b>Type{Uint32}</b>,x::<b>Int16</b>) at <a href=\"https://github.com/JuliaLang/julia/tree/c03f413bbdb46c00033f4eaad402995cfe3b7be5/base/int.jl#L286\" target=\"_blank\">int.jl:286</a><li> convert(::<b>Type{Uint32}</b>,x::<b>Uint16</b>) at <a href=\"https://github.com/JuliaLang/julia/tree/c03f413bbdb46c00033f4eaad402995cfe3b7be5/base/int.jl#L288\" target=\"_blank\">int.jl:288</a><li> convert(::<b>Type{Uint32}</b>,x::<b>Int32</b>) at <a href=\"https://github.com/JuliaLang/julia/tree/c03f413bbdb46c00033f4eaad402995cfe3b7be5/base/int.jl#L291\" target=\"_blank\">int.jl:291</a><li> convert(::<b>Type{Uint32}</b>,x::<b>Char</b>) at <a href=\"https://github.com/JuliaLang/julia/tree/c03f413bbdb46c00033f4eaad402995cfe3b7be5/base/int.jl#L291\" target=\"_blank\">int.jl:291</a><li> convert(::<b>Type{Uint32}</b>,x::<b>Int64</b>) at <a href=\"https://github.com/JuliaLang/julia/tree/c03f413bbdb46c00033f4eaad402995cfe3b7be5/base/int.jl#L283\" target=\"_blank\">int.jl:283</a><li> convert(::<b>Type{Uint32}</b>,x::<b>Uint64</b>) at <a href=\"https://github.com/JuliaLang/julia/tree/c03f413bbdb46c00033f4eaad402995cfe3b7be5/base/int.jl#L283\" target=\"_blank\">int.jl:283</a><li> convert(::<b>Type{Uint32}</b>,x::<b>Int128</b>) at <a href=\"https://github.com/JuliaLang/julia/tree/c03f413bbdb46c00033f4eaad402995cfe3b7be5/base/int.jl#L283\" target=\"_blank\">int.jl:283</a><li> convert(::<b>Type{Uint32}</b>,x::<b>Uint128</b>) at <a href=\"https://github.com/JuliaLang/julia/tree/c03f413bbdb46c00033f4eaad402995cfe3b7be5/base/int.jl#L283\" target=\"_blank\">int.jl:283</a><li> convert(::<b>Type{Char}</b>,x::<b>Bool</b>) at <a href=\"https://github.com/JuliaLang/julia/tree/c03f413bbdb46c00033f4eaad402995cfe3b7be5/base/int.jl#L288\" target=\"_blank\">int.jl:288</a><li> convert(::<b>Type{Char}</b>,x::<b>Int8</b>) at <a href=\"https://github.com/JuliaLang/julia/tree/c03f413bbdb46c00033f4eaad402995cfe3b7be5/base/int.jl#L286\" target=\"_blank\">int.jl:286</a><li> convert(::<b>Type{Char}</b>,x::<b>Uint8</b>) at <a href=\"https://github.com/JuliaLang/julia/tree/c03f413bbdb46c00033f4eaad402995cfe3b7be5/base/int.jl#L288\" target=\"_blank\">int.jl:288</a><li> convert(::<b>Type{Char}</b>,x::<b>Int16</b>) at <a href=\"https://github.com/JuliaLang/julia/tree/c03f413bbdb46c00033f4eaad402995cfe3b7be5/base/int.jl#L286\" target=\"_blank\">int.jl:286</a><li> convert(::<b>Type{Char}</b>,x::<b>Uint16</b>) at <a href=\"https://github.com/JuliaLang/julia/tree/c03f413bbdb46c00033f4eaad402995cfe3b7be5/base/int.jl#L288\" target=\"_blank\">int.jl:288</a><li> convert(::<b>Type{Char}</b>,x::<b>Int32</b>) at <a href=\"https://github.com/JuliaLang/julia/tree/c03f413bbdb46c00033f4eaad402995cfe3b7be5/base/int.jl#L291\" target=\"_blank\">int.jl:291</a><li> convert(::<b>Type{Char}</b>,x::<b>Uint32</b>) at <a href=\"https://github.com/JuliaLang/julia/tree/c03f413bbdb46c00033f4eaad402995cfe3b7be5/base/int.jl#L291\" target=\"_blank\">int.jl:291</a><li> convert(::<b>Type{Char}</b>,x::<b>Int64</b>) at <a href=\"https://github.com/JuliaLang/julia/tree/c03f413bbdb46c00033f4eaad402995cfe3b7be5/base/int.jl#L283\" target=\"_blank\">int.jl:283</a><li> convert(::<b>Type{Char}</b>,x::<b>Uint64</b>) at <a href=\"https://github.com/JuliaLang/julia/tree/c03f413bbdb46c00033f4eaad402995cfe3b7be5/base/int.jl#L283\" target=\"_blank\">int.jl:283</a><li> convert(::<b>Type{Char}</b>,x::<b>Int128</b>) at <a href=\"https://github.com/JuliaLang/julia/tree/c03f413bbdb46c00033f4eaad402995cfe3b7be5/base/int.jl#L283\" target=\"_blank\">int.jl:283</a><li> convert(::<b>Type{Char}</b>,x::<b>Uint128</b>) at <a href=\"https://github.com/JuliaLang/julia/tree/c03f413bbdb46c00033f4eaad402995cfe3b7be5/base/int.jl#L283\" target=\"_blank\">int.jl:283</a><li> convert(::<b>Type{Int64}</b>,x::<b>Bool</b>) at <a href=\"https://github.com/JuliaLang/julia/tree/c03f413bbdb46c00033f4eaad402995cfe3b7be5/base/int.jl#L288\" target=\"_blank\">int.jl:288</a><li> convert(::<b>Type{Int64}</b>,x::<b>Int8</b>) at <a href=\"https://github.com/JuliaLang/julia/tree/c03f413bbdb46c00033f4eaad402995cfe3b7be5/base/int.jl#L286\" target=\"_blank\">int.jl:286</a><li> convert(::<b>Type{Int64}</b>,x::<b>Uint8</b>) at <a href=\"https://github.com/JuliaLang/julia/tree/c03f413bbdb46c00033f4eaad402995cfe3b7be5/base/int.jl#L288\" target=\"_blank\">int.jl:288</a><li> convert(::<b>Type{Int64}</b>,x::<b>Int16</b>) at <a href=\"https://github.com/JuliaLang/julia/tree/c03f413bbdb46c00033f4eaad402995cfe3b7be5/base/int.jl#L286\" target=\"_blank\">int.jl:286</a><li> convert(::<b>Type{Int64}</b>,x::<b>Uint16</b>) at <a href=\"https://github.com/JuliaLang/julia/tree/c03f413bbdb46c00033f4eaad402995cfe3b7be5/base/int.jl#L288\" target=\"_blank\">int.jl:288</a><li> convert(::<b>Type{Int64}</b>,x::<b>Int32</b>) at <a href=\"https://github.com/JuliaLang/julia/tree/c03f413bbdb46c00033f4eaad402995cfe3b7be5/base/int.jl#L286\" target=\"_blank\">int.jl:286</a><li> convert(::<b>Type{Int64}</b>,x::<b>Uint32</b>) at <a href=\"https://github.com/JuliaLang/julia/tree/c03f413bbdb46c00033f4eaad402995cfe3b7be5/base/int.jl#L288\" target=\"_blank\">int.jl:288</a><li> convert(::<b>Type{Int64}</b>,x::<b>Char</b>) at <a href=\"https://github.com/JuliaLang/julia/tree/c03f413bbdb46c00033f4eaad402995cfe3b7be5/base/int.jl#L288\" target=\"_blank\">int.jl:288</a><li> convert(::<b>Type{Int64}</b>,x::<b>Uint64</b>) at <a href=\"https://github.com/JuliaLang/julia/tree/c03f413bbdb46c00033f4eaad402995cfe3b7be5/base/int.jl#L291\" target=\"_blank\">int.jl:291</a><li> convert(::<b>Type{Int64}</b>,x::<b>Int128</b>) at <a href=\"https://github.com/JuliaLang/julia/tree/c03f413bbdb46c00033f4eaad402995cfe3b7be5/base/int.jl#L283\" target=\"_blank\">int.jl:283</a><li> convert(::<b>Type{Int64}</b>,x::<b>Uint128</b>) at <a href=\"https://github.com/JuliaLang/julia/tree/c03f413bbdb46c00033f4eaad402995cfe3b7be5/base/int.jl#L283\" target=\"_blank\">int.jl:283</a><li> convert(::<b>Type{Uint64}</b>,x::<b>Bool</b>) at <a href=\"https://github.com/JuliaLang/julia/tree/c03f413bbdb46c00033f4eaad402995cfe3b7be5/base/int.jl#L288\" target=\"_blank\">int.jl:288</a><li> convert(::<b>Type{Uint64}</b>,x::<b>Int8</b>) at <a href=\"https://github.com/JuliaLang/julia/tree/c03f413bbdb46c00033f4eaad402995cfe3b7be5/base/int.jl#L286\" target=\"_blank\">int.jl:286</a><li> convert(::<b>Type{Uint64}</b>,x::<b>Uint8</b>) at <a href=\"https://github.com/JuliaLang/julia/tree/c03f413bbdb46c00033f4eaad402995cfe3b7be5/base/int.jl#L288\" target=\"_blank\">int.jl:288</a><li> convert(::<b>Type{Uint64}</b>,x::<b>Int16</b>) at <a href=\"https://github.com/JuliaLang/julia/tree/c03f413bbdb46c00033f4eaad402995cfe3b7be5/base/int.jl#L286\" target=\"_blank\">int.jl:286</a><li> convert(::<b>Type{Uint64}</b>,x::<b>Uint16</b>) at <a href=\"https://github.com/JuliaLang/julia/tree/c03f413bbdb46c00033f4eaad402995cfe3b7be5/base/int.jl#L288\" target=\"_blank\">int.jl:288</a><li> convert(::<b>Type{Uint64}</b>,x::<b>Int32</b>) at <a href=\"https://github.com/JuliaLang/julia/tree/c03f413bbdb46c00033f4eaad402995cfe3b7be5/base/int.jl#L286\" target=\"_blank\">int.jl:286</a><li> convert(::<b>Type{Uint64}</b>,x::<b>Uint32</b>) at <a href=\"https://github.com/JuliaLang/julia/tree/c03f413bbdb46c00033f4eaad402995cfe3b7be5/base/int.jl#L288\" target=\"_blank\">int.jl:288</a><li> convert(::<b>Type{Uint64}</b>,x::<b>Char</b>) at <a href=\"https://github.com/JuliaLang/julia/tree/c03f413bbdb46c00033f4eaad402995cfe3b7be5/base/int.jl#L288\" target=\"_blank\">int.jl:288</a><li> convert(::<b>Type{Uint64}</b>,x::<b>Int64</b>) at <a href=\"https://github.com/JuliaLang/julia/tree/c03f413bbdb46c00033f4eaad402995cfe3b7be5/base/int.jl#L291\" target=\"_blank\">int.jl:291</a><li> convert(::<b>Type{Uint64}</b>,x::<b>Int128</b>) at <a href=\"https://github.com/JuliaLang/julia/tree/c03f413bbdb46c00033f4eaad402995cfe3b7be5/base/int.jl#L283\" target=\"_blank\">int.jl:283</a><li> convert(::<b>Type{Uint64}</b>,x::<b>Uint128</b>) at <a href=\"https://github.com/JuliaLang/julia/tree/c03f413bbdb46c00033f4eaad402995cfe3b7be5/base/int.jl#L283\" target=\"_blank\">int.jl:283</a><li> convert(::<b>Type{Int128}</b>,x::<b>Bool</b>) at <a href=\"https://github.com/JuliaLang/julia/tree/c03f413bbdb46c00033f4eaad402995cfe3b7be5/base/int.jl#L288\" target=\"_blank\">int.jl:288</a><li> convert(::<b>Type{Int128}</b>,x::<b>Int8</b>) at <a href=\"https://github.com/JuliaLang/julia/tree/c03f413bbdb46c00033f4eaad402995cfe3b7be5/base/int.jl#L286\" target=\"_blank\">int.jl:286</a><li> convert(::<b>Type{Int128}</b>,x::<b>Uint8</b>) at <a href=\"https://github.com/JuliaLang/julia/tree/c03f413bbdb46c00033f4eaad402995cfe3b7be5/base/int.jl#L288\" target=\"_blank\">int.jl:288</a><li> convert(::<b>Type{Int128}</b>,x::<b>Int16</b>) at <a href=\"https://github.com/JuliaLang/julia/tree/c03f413bbdb46c00033f4eaad402995cfe3b7be5/base/int.jl#L286\" target=\"_blank\">int.jl:286</a><li> convert(::<b>Type{Int128}</b>,x::<b>Uint16</b>) at <a href=\"https://github.com/JuliaLang/julia/tree/c03f413bbdb46c00033f4eaad402995cfe3b7be5/base/int.jl#L288\" target=\"_blank\">int.jl:288</a><li> convert(::<b>Type{Int128}</b>,x::<b>Int32</b>) at <a href=\"https://github.com/JuliaLang/julia/tree/c03f413bbdb46c00033f4eaad402995cfe3b7be5/base/int.jl#L286\" target=\"_blank\">int.jl:286</a><li> convert(::<b>Type{Int128}</b>,x::<b>Uint32</b>) at <a href=\"https://github.com/JuliaLang/julia/tree/c03f413bbdb46c00033f4eaad402995cfe3b7be5/base/int.jl#L288\" target=\"_blank\">int.jl:288</a><li> convert(::<b>Type{Int128}</b>,x::<b>Char</b>) at <a href=\"https://github.com/JuliaLang/julia/tree/c03f413bbdb46c00033f4eaad402995cfe3b7be5/base/int.jl#L288\" target=\"_blank\">int.jl:288</a><li> convert(::<b>Type{Int128}</b>,x::<b>Int64</b>) at <a href=\"https://github.com/JuliaLang/julia/tree/c03f413bbdb46c00033f4eaad402995cfe3b7be5/base/int.jl#L286\" target=\"_blank\">int.jl:286</a><li> convert(::<b>Type{Int128}</b>,x::<b>Uint64</b>) at <a href=\"https://github.com/JuliaLang/julia/tree/c03f413bbdb46c00033f4eaad402995cfe3b7be5/base/int.jl#L288\" target=\"_blank\">int.jl:288</a><li> convert(::<b>Type{Int128}</b>,x::<b>Uint128</b>) at <a href=\"https://github.com/JuliaLang/julia/tree/c03f413bbdb46c00033f4eaad402995cfe3b7be5/base/int.jl#L291\" target=\"_blank\">int.jl:291</a><li> convert(::<b>Type{Uint128}</b>,x::<b>Bool</b>) at <a href=\"https://github.com/JuliaLang/julia/tree/c03f413bbdb46c00033f4eaad402995cfe3b7be5/base/int.jl#L288\" target=\"_blank\">int.jl:288</a><li> convert(::<b>Type{Uint128}</b>,x::<b>Int8</b>) at <a href=\"https://github.com/JuliaLang/julia/tree/c03f413bbdb46c00033f4eaad402995cfe3b7be5/base/int.jl#L286\" target=\"_blank\">int.jl:286</a><li> convert(::<b>Type{Uint128}</b>,x::<b>Uint8</b>) at <a href=\"https://github.com/JuliaLang/julia/tree/c03f413bbdb46c00033f4eaad402995cfe3b7be5/base/int.jl#L288\" target=\"_blank\">int.jl:288</a><li> convert(::<b>Type{Uint128}</b>,x::<b>Int16</b>) at <a href=\"https://github.com/JuliaLang/julia/tree/c03f413bbdb46c00033f4eaad402995cfe3b7be5/base/int.jl#L286\" target=\"_blank\">int.jl:286</a><li> convert(::<b>Type{Uint128}</b>,x::<b>Uint16</b>) at <a href=\"https://github.com/JuliaLang/julia/tree/c03f413bbdb46c00033f4eaad402995cfe3b7be5/base/int.jl#L288\" target=\"_blank\">int.jl:288</a><li> convert(::<b>Type{Uint128}</b>,x::<b>Int32</b>) at <a href=\"https://github.com/JuliaLang/julia/tree/c03f413bbdb46c00033f4eaad402995cfe3b7be5/base/int.jl#L286\" target=\"_blank\">int.jl:286</a><li> convert(::<b>Type{Uint128}</b>,x::<b>Uint32</b>) at <a href=\"https://github.com/JuliaLang/julia/tree/c03f413bbdb46c00033f4eaad402995cfe3b7be5/base/int.jl#L288\" target=\"_blank\">int.jl:288</a><li> convert(::<b>Type{Uint128}</b>,x::<b>Char</b>) at <a href=\"https://github.com/JuliaLang/julia/tree/c03f413bbdb46c00033f4eaad402995cfe3b7be5/base/int.jl#L288\" target=\"_blank\">int.jl:288</a><li> convert(::<b>Type{Uint128}</b>,x::<b>Int64</b>) at <a href=\"https://github.com/JuliaLang/julia/tree/c03f413bbdb46c00033f4eaad402995cfe3b7be5/base/int.jl#L286\" target=\"_blank\">int.jl:286</a><li> convert(::<b>Type{Uint128}</b>,x::<b>Uint64</b>) at <a href=\"https://github.com/JuliaLang/julia/tree/c03f413bbdb46c00033f4eaad402995cfe3b7be5/base/int.jl#L288\" target=\"_blank\">int.jl:288</a><li> convert(::<b>Type{Uint128}</b>,x::<b>Int128</b>) at <a href=\"https://github.com/JuliaLang/julia/tree/c03f413bbdb46c00033f4eaad402995cfe3b7be5/base/int.jl#L291\" target=\"_blank\">int.jl:291</a><li> convert(::<b>Type{Int8}</b>,x::<b>Float32</b>) at <a href=\"https://github.com/JuliaLang/julia/tree/c03f413bbdb46c00033f4eaad402995cfe3b7be5/base/int.jl#L298\" target=\"_blank\">int.jl:298</a><li> convert(::<b>Type{Int8}</b>,x::<b>Float64</b>) at <a href=\"https://github.com/JuliaLang/julia/tree/c03f413bbdb46c00033f4eaad402995cfe3b7be5/base/int.jl#L299\" target=\"_blank\">int.jl:299</a><li> convert(::<b>Type{Int16}</b>,x::<b>Float32</b>) at <a href=\"https://github.com/JuliaLang/julia/tree/c03f413bbdb46c00033f4eaad402995cfe3b7be5/base/int.jl#L298\" target=\"_blank\">int.jl:298</a><li> convert(::<b>Type{Int16}</b>,x::<b>Float64</b>) at <a href=\"https://github.com/JuliaLang/julia/tree/c03f413bbdb46c00033f4eaad402995cfe3b7be5/base/int.jl#L299\" target=\"_blank\">int.jl:299</a><li> convert(::<b>Type{Int32}</b>,x::<b>Float32</b>) at <a href=\"https://github.com/JuliaLang/julia/tree/c03f413bbdb46c00033f4eaad402995cfe3b7be5/base/int.jl#L298\" target=\"_blank\">int.jl:298</a><li> convert(::<b>Type{Int32}</b>,x::<b>Float64</b>) at <a href=\"https://github.com/JuliaLang/julia/tree/c03f413bbdb46c00033f4eaad402995cfe3b7be5/base/int.jl#L299\" target=\"_blank\">int.jl:299</a><li> convert(::<b>Type{Int64}</b>,x::<b>Float32</b>) at <a href=\"https://github.com/JuliaLang/julia/tree/c03f413bbdb46c00033f4eaad402995cfe3b7be5/base/int.jl#L298\" target=\"_blank\">int.jl:298</a><li> convert(::<b>Type{Int64}</b>,x::<b>Float64</b>) at <a href=\"https://github.com/JuliaLang/julia/tree/c03f413bbdb46c00033f4eaad402995cfe3b7be5/base/int.jl#L299\" target=\"_blank\">int.jl:299</a><li> convert(::<b>Type{Uint8}</b>,x::<b>Float32</b>) at <a href=\"https://github.com/JuliaLang/julia/tree/c03f413bbdb46c00033f4eaad402995cfe3b7be5/base/int.jl#L305\" target=\"_blank\">int.jl:305</a><li> convert(::<b>Type{Uint8}</b>,x::<b>Float64</b>) at <a href=\"https://github.com/JuliaLang/julia/tree/c03f413bbdb46c00033f4eaad402995cfe3b7be5/base/int.jl#L306\" target=\"_blank\">int.jl:306</a><li> convert(::<b>Type{Uint16}</b>,x::<b>Float32</b>) at <a href=\"https://github.com/JuliaLang/julia/tree/c03f413bbdb46c00033f4eaad402995cfe3b7be5/base/int.jl#L305\" target=\"_blank\">int.jl:305</a><li> convert(::<b>Type{Uint16}</b>,x::<b>Float64</b>) at <a href=\"https://github.com/JuliaLang/julia/tree/c03f413bbdb46c00033f4eaad402995cfe3b7be5/base/int.jl#L306\" target=\"_blank\">int.jl:306</a><li> convert(::<b>Type{Uint32}</b>,x::<b>Float32</b>) at <a href=\"https://github.com/JuliaLang/julia/tree/c03f413bbdb46c00033f4eaad402995cfe3b7be5/base/int.jl#L305\" target=\"_blank\">int.jl:305</a><li> convert(::<b>Type{Uint32}</b>,x::<b>Float64</b>) at <a href=\"https://github.com/JuliaLang/julia/tree/c03f413bbdb46c00033f4eaad402995cfe3b7be5/base/int.jl#L306\" target=\"_blank\">int.jl:306</a><li> convert(::<b>Type{Uint64}</b>,x::<b>Float32</b>) at <a href=\"https://github.com/JuliaLang/julia/tree/c03f413bbdb46c00033f4eaad402995cfe3b7be5/base/int.jl#L305\" target=\"_blank\">int.jl:305</a><li> convert(::<b>Type{Uint64}</b>,x::<b>Float64</b>) at <a href=\"https://github.com/JuliaLang/julia/tree/c03f413bbdb46c00033f4eaad402995cfe3b7be5/base/int.jl#L306\" target=\"_blank\">int.jl:306</a><li> convert(::<b>Type{Int128}</b>,x::<b>Float32</b>) at <a href=\"https://github.com/JuliaLang/julia/tree/c03f413bbdb46c00033f4eaad402995cfe3b7be5/base/int.jl#L317\" target=\"_blank\">int.jl:317</a><li> convert(::<b>Type{Int128}</b>,x::<b>Float16</b>) at <a href=\"https://github.com/JuliaLang/julia/tree/c03f413bbdb46c00033f4eaad402995cfe3b7be5/base/float16.jl#L100\" target=\"_blank\">float16.jl:100</a><li> convert(::<b>Type{Int128}</b>,x::<b>FloatingPoint</b>) at <a href=\"https://github.com/JuliaLang/julia/tree/c03f413bbdb46c00033f4eaad402995cfe3b7be5/base/int.jl#L311\" target=\"_blank\">int.jl:311</a><li> convert(::<b>Type{Uint128}</b>,x::<b>Float32</b>) at <a href=\"https://github.com/JuliaLang/julia/tree/c03f413bbdb46c00033f4eaad402995cfe3b7be5/base/int.jl#L326\" target=\"_blank\">int.jl:326</a><li> convert(::<b>Type{Uint128}</b>,x::<b>Float16</b>) at <a href=\"https://github.com/JuliaLang/julia/tree/c03f413bbdb46c00033f4eaad402995cfe3b7be5/base/float16.jl#L101\" target=\"_blank\">float16.jl:101</a><li> convert(::<b>Type{Uint128}</b>,x::<b>FloatingPoint</b>) at <a href=\"https://github.com/JuliaLang/julia/tree/c03f413bbdb46c00033f4eaad402995cfe3b7be5/base/int.jl#L320\" target=\"_blank\">int.jl:320</a><li> convert(::<b>Type{Char}</b>,x::<b>Float32</b>) at <a href=\"https://github.com/JuliaLang/julia/tree/c03f413bbdb46c00033f4eaad402995cfe3b7be5/base/int.jl#L328\" target=\"_blank\">int.jl:328</a><li> convert(::<b>Type{Char}</b>,x::<b>Float64</b>) at <a href=\"https://github.com/JuliaLang/julia/tree/c03f413bbdb46c00033f4eaad402995cfe3b7be5/base/int.jl#L329\" target=\"_blank\">int.jl:329</a><li> convert(::<b>Type{Signed}</b>,x::<b>Uint8</b>) at <a href=\"https://github.com/JuliaLang/julia/tree/c03f413bbdb46c00033f4eaad402995cfe3b7be5/base/int.jl#L331\" target=\"_blank\">int.jl:331</a><li> convert(::<b>Type{Signed}</b>,x::<b>Uint16</b>) at <a href=\"https://github.com/JuliaLang/julia/tree/c03f413bbdb46c00033f4eaad402995cfe3b7be5/base/int.jl#L332\" target=\"_blank\">int.jl:332</a><li> convert(::<b>Type{Signed}</b>,x::<b>Uint32</b>) at <a href=\"https://github.com/JuliaLang/julia/tree/c03f413bbdb46c00033f4eaad402995cfe3b7be5/base/int.jl#L333\" target=\"_blank\">int.jl:333</a><li> convert(::<b>Type{Signed}</b>,x::<b>Uint64</b>) at <a href=\"https://github.com/JuliaLang/julia/tree/c03f413bbdb46c00033f4eaad402995cfe3b7be5/base/int.jl#L334\" target=\"_blank\">int.jl:334</a><li> convert(::<b>Type{Signed}</b>,x::<b>Uint128</b>) at <a href=\"https://github.com/JuliaLang/julia/tree/c03f413bbdb46c00033f4eaad402995cfe3b7be5/base/int.jl#L335\" target=\"_blank\">int.jl:335</a><li> convert(::<b>Type{Signed}</b>,x::<b>Float32</b>) at <a href=\"https://github.com/JuliaLang/julia/tree/c03f413bbdb46c00033f4eaad402995cfe3b7be5/base/int.jl#L336\" target=\"_blank\">int.jl:336</a><li> convert(::<b>Type{Signed}</b>,x::<b>Float64</b>) at <a href=\"https://github.com/JuliaLang/julia/tree/c03f413bbdb46c00033f4eaad402995cfe3b7be5/base/int.jl#L337\" target=\"_blank\">int.jl:337</a><li> convert(::<b>Type{Signed}</b>,x::<b>Char</b>) at <a href=\"https://github.com/JuliaLang/julia/tree/c03f413bbdb46c00033f4eaad402995cfe3b7be5/base/int.jl#L338\" target=\"_blank\">int.jl:338</a><li> convert(::<b>Type{Unsigned}</b>,x::<b>Int8</b>) at <a href=\"https://github.com/JuliaLang/julia/tree/c03f413bbdb46c00033f4eaad402995cfe3b7be5/base/int.jl#L340\" target=\"_blank\">int.jl:340</a><li> convert(::<b>Type{Unsigned}</b>,x::<b>Int16</b>) at <a href=\"https://github.com/JuliaLang/julia/tree/c03f413bbdb46c00033f4eaad402995cfe3b7be5/base/int.jl#L341\" target=\"_blank\">int.jl:341</a><li> convert(::<b>Type{Unsigned}</b>,x::<b>Int32</b>) at <a href=\"https://github.com/JuliaLang/julia/tree/c03f413bbdb46c00033f4eaad402995cfe3b7be5/base/int.jl#L342\" target=\"_blank\">int.jl:342</a><li> convert(::<b>Type{Unsigned}</b>,x::<b>Int64</b>) at <a href=\"https://github.com/JuliaLang/julia/tree/c03f413bbdb46c00033f4eaad402995cfe3b7be5/base/int.jl#L343\" target=\"_blank\">int.jl:343</a><li> convert(::<b>Type{Unsigned}</b>,x::<b>Int128</b>) at <a href=\"https://github.com/JuliaLang/julia/tree/c03f413bbdb46c00033f4eaad402995cfe3b7be5/base/int.jl#L344\" target=\"_blank\">int.jl:344</a><li> convert(::<b>Type{Unsigned}</b>,x::<b>Float32</b>) at <a href=\"https://github.com/JuliaLang/julia/tree/c03f413bbdb46c00033f4eaad402995cfe3b7be5/base/int.jl#L345\" target=\"_blank\">int.jl:345</a><li> convert(::<b>Type{Unsigned}</b>,x::<b>Float64</b>) at <a href=\"https://github.com/JuliaLang/julia/tree/c03f413bbdb46c00033f4eaad402995cfe3b7be5/base/int.jl#L346\" target=\"_blank\">int.jl:346</a><li> convert(::<b>Type{Unsigned}</b>,x::<b>Char</b>) at <a href=\"https://github.com/JuliaLang/julia/tree/c03f413bbdb46c00033f4eaad402995cfe3b7be5/base/int.jl#L347\" target=\"_blank\">int.jl:347</a><li> convert(::<b>Type{Integer}</b>,x::<b>Float32</b>) at <a href=\"https://github.com/JuliaLang/julia/tree/c03f413bbdb46c00033f4eaad402995cfe3b7be5/base/int.jl#L349\" target=\"_blank\">int.jl:349</a><li> convert(::<b>Type{Integer}</b>,x::<b>Float64</b>) at <a href=\"https://github.com/JuliaLang/julia/tree/c03f413bbdb46c00033f4eaad402995cfe3b7be5/base/int.jl#L350\" target=\"_blank\">int.jl:350</a><li> convert(::<b>Type{Uint64}</b>,x::<b>Ptr{T}</b>) at <a href=\"https://github.com/JuliaLang/julia/tree/c03f413bbdb46c00033f4eaad402995cfe3b7be5/base/pointer.jl#L6\" target=\"_blank\">pointer.jl:6</a><li> convert<i>{T<:Integer}</i>(::<b>Type{T<:Integer}</b>,x::<b>Ptr{T}</b>) at <a href=\"https://github.com/JuliaLang/julia/tree/c03f413bbdb46c00033f4eaad402995cfe3b7be5/base/pointer.jl#L7\" target=\"_blank\">pointer.jl:7</a><li> convert<i>{T}</i>(::<b>Type{Ptr{T}}</b>,x::<b>Integer</b>) at <a href=\"https://github.com/JuliaLang/julia/tree/c03f413bbdb46c00033f4eaad402995cfe3b7be5/base/pointer.jl#L10\" target=\"_blank\">pointer.jl:10</a><li> convert<i>{T}</i>(::<b>Type{Ptr{T}}</b>,p::<b>Ptr{T}</b>) at <a href=\"https://github.com/JuliaLang/julia/tree/c03f413bbdb46c00033f4eaad402995cfe3b7be5/base/pointer.jl#L13\" target=\"_blank\">pointer.jl:13</a><li> convert<i>{T}</i>(::<b>Type{Ptr{T}}</b>,p::<b>Ptr{T}</b>) at <a href=\"https://github.com/JuliaLang/julia/tree/c03f413bbdb46c00033f4eaad402995cfe3b7be5/base/pointer.jl#L14\" target=\"_blank\">pointer.jl:14</a><li> convert(::<b>Type{Ptr{Uint8}}</b>,x::<b>Symbol</b>) at <a href=\"https://github.com/JuliaLang/julia/tree/c03f413bbdb46c00033f4eaad402995cfe3b7be5/base/pointer.jl#L17\" target=\"_blank\">pointer.jl:17</a><li> convert(::<b>Type{Ptr{Int8}}</b>,x::<b>Symbol</b>) at <a href=\"https://github.com/JuliaLang/julia/tree/c03f413bbdb46c00033f4eaad402995cfe3b7be5/base/pointer.jl#L18\" target=\"_blank\">pointer.jl:18</a><li> convert(::<b>Type{Ptr{Uint8}}</b>,s::<b>Union(ASCIIString,UTF8String)</b>) at <a href=\"https://github.com/JuliaLang/julia/tree/c03f413bbdb46c00033f4eaad402995cfe3b7be5/base/pointer.jl#L19\" target=\"_blank\">pointer.jl:19</a><li> convert(::<b>Type{Ptr{Int8}}</b>,s::<b>Union(ASCIIString,UTF8String)</b>) at <a href=\"https://github.com/JuliaLang/julia/tree/c03f413bbdb46c00033f4eaad402995cfe3b7be5/base/pointer.jl#L20\" target=\"_blank\">pointer.jl:20</a><li> convert(::<b>Type{Ptr{None}}</b>,a::<b>Array{T,N}</b>) at <a href=\"https://github.com/JuliaLang/julia/tree/c03f413bbdb46c00033f4eaad402995cfe3b7be5/base/pointer.jl#L23\" target=\"_blank\">pointer.jl:23</a><li> convert<i>{T}</i>(::<b>Type{Ptr{T}}</b>,a::<b>Array{T,N}</b>) at <a href=\"https://github.com/JuliaLang/julia/tree/c03f413bbdb46c00033f4eaad402995cfe3b7be5/base/pointer.jl#L22\" target=\"_blank\">pointer.jl:22</a><li> convert(::<b>Type{Float32}</b>,x::<b>Int128</b>) at <a href=\"https://github.com/JuliaLang/julia/tree/c03f413bbdb46c00033f4eaad402995cfe3b7be5/base/float.jl#L3\" target=\"_blank\">float.jl:3</a><li> convert(::<b>Type{Float32}</b>,x::<b>Uint128</b>) at <a href=\"https://github.com/JuliaLang/julia/tree/c03f413bbdb46c00033f4eaad402995cfe3b7be5/base/float.jl#L4\" target=\"_blank\">float.jl:4</a><li> convert(::<b>Type{Float64}</b>,x::<b>Int128</b>) at <a href=\"https://github.com/JuliaLang/julia/tree/c03f413bbdb46c00033f4eaad402995cfe3b7be5/base/float.jl#L8\" target=\"_blank\">float.jl:8</a><li> convert(::<b>Type{Float64}</b>,x::<b>Uint128</b>) at <a href=\"https://github.com/JuliaLang/julia/tree/c03f413bbdb46c00033f4eaad402995cfe3b7be5/base/float.jl#L9\" target=\"_blank\">float.jl:9</a><li> convert(::<b>Type{Float16}</b>,x::<b>Union(Signed,Unsigned)</b>) at <a href=\"https://github.com/JuliaLang/julia/tree/c03f413bbdb46c00033f4eaad402995cfe3b7be5/base/float.jl#L13\" target=\"_blank\">float.jl:13</a><li> convert(::<b>Type{Float32}</b>,x::<b>Int8</b>) at <a href=\"https://github.com/JuliaLang/julia/tree/c03f413bbdb46c00033f4eaad402995cfe3b7be5/base/float.jl#L21\" target=\"_blank\">float.jl:21</a><li> convert(::<b>Type{Float32}</b>,x::<b>Int16</b>) at <a href=\"https://github.com/JuliaLang/julia/tree/c03f413bbdb46c00033f4eaad402995cfe3b7be5/base/float.jl#L21\" target=\"_blank\">float.jl:21</a><li> convert(::<b>Type{Float32}</b>,x::<b>Int32</b>) at <a href=\"https://github.com/JuliaLang/julia/tree/c03f413bbdb46c00033f4eaad402995cfe3b7be5/base/float.jl#L21\" target=\"_blank\">float.jl:21</a><li> convert(::<b>Type{Float32}</b>,x::<b>Int64</b>) at <a href=\"https://github.com/JuliaLang/julia/tree/c03f413bbdb46c00033f4eaad402995cfe3b7be5/base/float.jl#L21\" target=\"_blank\">float.jl:21</a><li> convert(::<b>Type{Float32}</b>,x::<b>Bool</b>) at <a href=\"https://github.com/JuliaLang/julia/tree/c03f413bbdb46c00033f4eaad402995cfe3b7be5/base/float.jl#L27\" target=\"_blank\">float.jl:27</a><li> convert(::<b>Type{Float32}</b>,x::<b>Char</b>) at <a href=\"https://github.com/JuliaLang/julia/tree/c03f413bbdb46c00033f4eaad402995cfe3b7be5/base/float.jl#L27\" target=\"_blank\">float.jl:27</a><li> convert(::<b>Type{Float32}</b>,x::<b>Uint8</b>) at <a href=\"https://github.com/JuliaLang/julia/tree/c03f413bbdb46c00033f4eaad402995cfe3b7be5/base/float.jl#L27\" target=\"_blank\">float.jl:27</a><li> convert(::<b>Type{Float32}</b>,x::<b>Uint16</b>) at <a href=\"https://github.com/JuliaLang/julia/tree/c03f413bbdb46c00033f4eaad402995cfe3b7be5/base/float.jl#L27\" target=\"_blank\">float.jl:27</a><li> convert(::<b>Type{Float32}</b>,x::<b>Uint32</b>) at <a href=\"https://github.com/JuliaLang/julia/tree/c03f413bbdb46c00033f4eaad402995cfe3b7be5/base/float.jl#L27\" target=\"_blank\">float.jl:27</a><li> convert(::<b>Type{Float32}</b>,x::<b>Uint64</b>) at <a href=\"https://github.com/JuliaLang/julia/tree/c03f413bbdb46c00033f4eaad402995cfe3b7be5/base/float.jl#L27\" target=\"_blank\">float.jl:27</a><li> convert(::<b>Type{Float64}</b>,x::<b>Int8</b>) at <a href=\"https://github.com/JuliaLang/julia/tree/c03f413bbdb46c00033f4eaad402995cfe3b7be5/base/float.jl#L21\" target=\"_blank\">float.jl:21</a><li> convert(::<b>Type{Float64}</b>,x::<b>Int16</b>) at <a href=\"https://github.com/JuliaLang/julia/tree/c03f413bbdb46c00033f4eaad402995cfe3b7be5/base/float.jl#L21\" target=\"_blank\">float.jl:21</a><li> convert(::<b>Type{Float64}</b>,x::<b>Int32</b>) at <a href=\"https://github.com/JuliaLang/julia/tree/c03f413bbdb46c00033f4eaad402995cfe3b7be5/base/float.jl#L21\" target=\"_blank\">float.jl:21</a><li> convert(::<b>Type{Float64}</b>,x::<b>Int64</b>) at <a href=\"https://github.com/JuliaLang/julia/tree/c03f413bbdb46c00033f4eaad402995cfe3b7be5/base/float.jl#L21\" target=\"_blank\">float.jl:21</a><li> convert(::<b>Type{Float64}</b>,x::<b>Bool</b>) at <a href=\"https://github.com/JuliaLang/julia/tree/c03f413bbdb46c00033f4eaad402995cfe3b7be5/base/float.jl#L27\" target=\"_blank\">float.jl:27</a><li> convert(::<b>Type{Float64}</b>,x::<b>Char</b>) at <a href=\"https://github.com/JuliaLang/julia/tree/c03f413bbdb46c00033f4eaad402995cfe3b7be5/base/float.jl#L27\" target=\"_blank\">float.jl:27</a><li> convert(::<b>Type{Float64}</b>,x::<b>Uint8</b>) at <a href=\"https://github.com/JuliaLang/julia/tree/c03f413bbdb46c00033f4eaad402995cfe3b7be5/base/float.jl#L27\" target=\"_blank\">float.jl:27</a><li> convert(::<b>Type{Float64}</b>,x::<b>Uint16</b>) at <a href=\"https://github.com/JuliaLang/julia/tree/c03f413bbdb46c00033f4eaad402995cfe3b7be5/base/float.jl#L27\" target=\"_blank\">float.jl:27</a><li> convert(::<b>Type{Float64}</b>,x::<b>Uint32</b>) at <a href=\"https://github.com/JuliaLang/julia/tree/c03f413bbdb46c00033f4eaad402995cfe3b7be5/base/float.jl#L27\" target=\"_blank\">float.jl:27</a><li> convert(::<b>Type{Float64}</b>,x::<b>Uint64</b>) at <a href=\"https://github.com/JuliaLang/julia/tree/c03f413bbdb46c00033f4eaad402995cfe3b7be5/base/float.jl#L27\" target=\"_blank\">float.jl:27</a><li> convert(::<b>Type{Float16}</b>,x::<b>Float64</b>) at <a href=\"https://github.com/JuliaLang/julia/tree/c03f413bbdb46c00033f4eaad402995cfe3b7be5/base/float.jl#L33\" target=\"_blank\">float.jl:33</a><li> convert(::<b>Type{Float32}</b>,x::<b>Float64</b>) at <a href=\"https://github.com/JuliaLang/julia/tree/c03f413bbdb46c00033f4eaad402995cfe3b7be5/base/float.jl#L34\" target=\"_blank\">float.jl:34</a><li> convert(::<b>Type{Float64}</b>,x::<b>Float16</b>) at <a href=\"https://github.com/JuliaLang/julia/tree/c03f413bbdb46c00033f4eaad402995cfe3b7be5/base/float.jl#L37\" target=\"_blank\">float.jl:37</a><li> convert(::<b>Type{Float64}</b>,x::<b>Float32</b>) at <a href=\"https://github.com/JuliaLang/julia/tree/c03f413bbdb46c00033f4eaad402995cfe3b7be5/base/float.jl#L38\" target=\"_blank\">float.jl:38</a><li> convert(::<b>Type{FloatingPoint}</b>,x::<b>Bool</b>) at <a href=\"https://github.com/JuliaLang/julia/tree/c03f413bbdb46c00033f4eaad402995cfe3b7be5/base/float.jl#L40\" target=\"_blank\">float.jl:40</a><li> convert(::<b>Type{FloatingPoint}</b>,x::<b>Char</b>) at <a href=\"https://github.com/JuliaLang/julia/tree/c03f413bbdb46c00033f4eaad402995cfe3b7be5/base/float.jl#L41\" target=\"_blank\">float.jl:41</a><li> convert(::<b>Type{FloatingPoint}</b>,x::<b>Int8</b>) at <a href=\"https://github.com/JuliaLang/julia/tree/c03f413bbdb46c00033f4eaad402995cfe3b7be5/base/float.jl#L42\" target=\"_blank\">float.jl:42</a><li> convert(::<b>Type{FloatingPoint}</b>,x::<b>Int16</b>) at <a href=\"https://github.com/JuliaLang/julia/tree/c03f413bbdb46c00033f4eaad402995cfe3b7be5/base/float.jl#L43\" target=\"_blank\">float.jl:43</a><li> convert(::<b>Type{FloatingPoint}</b>,x::<b>Int32</b>) at <a href=\"https://github.com/JuliaLang/julia/tree/c03f413bbdb46c00033f4eaad402995cfe3b7be5/base/float.jl#L44\" target=\"_blank\">float.jl:44</a><li> convert(::<b>Type{FloatingPoint}</b>,x::<b>Int64</b>) at <a href=\"https://github.com/JuliaLang/julia/tree/c03f413bbdb46c00033f4eaad402995cfe3b7be5/base/float.jl#L45\" target=\"_blank\">float.jl:45</a><li> convert(::<b>Type{FloatingPoint}</b>,x::<b>Int128</b>) at <a href=\"https://github.com/JuliaLang/julia/tree/c03f413bbdb46c00033f4eaad402995cfe3b7be5/base/float.jl#L46\" target=\"_blank\">float.jl:46</a><li> convert(::<b>Type{FloatingPoint}</b>,x::<b>Uint8</b>) at <a href=\"https://github.com/JuliaLang/julia/tree/c03f413bbdb46c00033f4eaad402995cfe3b7be5/base/float.jl#L47\" target=\"_blank\">float.jl:47</a><li> convert(::<b>Type{FloatingPoint}</b>,x::<b>Uint16</b>) at <a href=\"https://github.com/JuliaLang/julia/tree/c03f413bbdb46c00033f4eaad402995cfe3b7be5/base/float.jl#L48\" target=\"_blank\">float.jl:48</a><li> convert(::<b>Type{FloatingPoint}</b>,x::<b>Uint32</b>) at <a href=\"https://github.com/JuliaLang/julia/tree/c03f413bbdb46c00033f4eaad402995cfe3b7be5/base/float.jl#L49\" target=\"_blank\">float.jl:49</a><li> convert(::<b>Type{FloatingPoint}</b>,x::<b>Uint64</b>) at <a href=\"https://github.com/JuliaLang/julia/tree/c03f413bbdb46c00033f4eaad402995cfe3b7be5/base/float.jl#L50\" target=\"_blank\">float.jl:50</a><li> convert(::<b>Type{FloatingPoint}</b>,x::<b>Uint128</b>) at <a href=\"https://github.com/JuliaLang/julia/tree/c03f413bbdb46c00033f4eaad402995cfe3b7be5/base/float.jl#L51\" target=\"_blank\">float.jl:51</a><li> convert<i>{T<:Real}</i>(::<b>Type{Complex{T<:Real}}</b>,x::<b>MathConst{sym}</b>) at <a href=\"https://github.com/JuliaLang/julia/tree/c03f413bbdb46c00033f4eaad402995cfe3b7be5/base/constants.jl#L13\" target=\"_blank\">constants.jl:13</a><li> convert<i>{T<:Real}</i>(::<b>Type{Complex{T<:Real}}</b>,x::<b>Real</b>) at <a href=\"https://github.com/JuliaLang/julia/tree/c03f413bbdb46c00033f4eaad402995cfe3b7be5/base/complex.jl#L16\" target=\"_blank\">complex.jl:16</a><li> convert<i>{T<:Real}</i>(::<b>Type{Complex{T<:Real}}</b>,z::<b>Complex{T<:Real}</b>) at <a href=\"https://github.com/JuliaLang/julia/tree/c03f413bbdb46c00033f4eaad402995cfe3b7be5/base/complex.jl#L17\" target=\"_blank\">complex.jl:17</a><li> convert<i>{T<:Real}</i>(::<b>Type{T<:Real}</b>,z::<b>Complex{T<:Real}</b>) at <a href=\"https://github.com/JuliaLang/julia/tree/c03f413bbdb46c00033f4eaad402995cfe3b7be5/base/complex.jl#L18\" target=\"_blank\">complex.jl:18</a><li> convert(::<b>Type{Complex{T<:Real}}</b>,z::<b>Complex{T<:Real}</b>) at <a href=\"https://github.com/JuliaLang/julia/tree/c03f413bbdb46c00033f4eaad402995cfe3b7be5/base/complex.jl#L21\" target=\"_blank\">complex.jl:21</a><li> convert(::<b>Type{Complex{T<:Real}}</b>,x::<b>Real</b>) at <a href=\"https://github.com/JuliaLang/julia/tree/c03f413bbdb46c00033f4eaad402995cfe3b7be5/base/complex.jl#L22\" target=\"_blank\">complex.jl:22</a><li> convert<i>{T<:Integer}</i>(::<b>Type{Rational{T<:Integer}}</b>,x::<b>Rational{T<:Integer}</b>) at <a href=\"https://github.com/JuliaLang/julia/tree/c03f413bbdb46c00033f4eaad402995cfe3b7be5/base/rational.jl#L38\" target=\"_blank\">rational.jl:38</a><li> convert<i>{T<:Integer}</i>(::<b>Type{Rational{T<:Integer}}</b>,x::<b>Integer</b>) at <a href=\"https://github.com/JuliaLang/julia/tree/c03f413bbdb46c00033f4eaad402995cfe3b7be5/base/rational.jl#L39\" target=\"_blank\">rational.jl:39</a><li> convert(::<b>Type{Rational{T<:Integer}}</b>,x::<b>Rational{T<:Integer}</b>) at <a href=\"https://github.com/JuliaLang/julia/tree/c03f413bbdb46c00033f4eaad402995cfe3b7be5/base/rational.jl#L41\" target=\"_blank\">rational.jl:41</a><li> convert(::<b>Type{Rational{T<:Integer}}</b>,x::<b>Integer</b>) at <a href=\"https://github.com/JuliaLang/julia/tree/c03f413bbdb46c00033f4eaad402995cfe3b7be5/base/rational.jl#L42\" target=\"_blank\">rational.jl:42</a><li> convert<i>{T<:Integer}</i>(::<b>Type{T<:Integer}</b>,x::<b>Rational{T<:Integer}</b>) at <a href=\"https://github.com/JuliaLang/julia/tree/c03f413bbdb46c00033f4eaad402995cfe3b7be5/base/rational.jl#L45\" target=\"_blank\">rational.jl:45</a><li> convert(::<b>Type{FloatingPoint}</b>,x::<b>Rational{T<:Integer}</b>) at <a href=\"https://github.com/JuliaLang/julia/tree/c03f413bbdb46c00033f4eaad402995cfe3b7be5/base/rational.jl#L47\" target=\"_blank\">rational.jl:47</a><li> convert<i>{S}</i>(::<b>Type{BigFloat}</b>,x::<b>Rational{S}</b>) at <a href=\"https://github.com/JuliaLang/julia/tree/c03f413bbdb46c00033f4eaad402995cfe3b7be5/base/mpfr.jl#L88\" target=\"_blank\">mpfr.jl:88</a><li> convert<i>{T<:FloatingPoint,S}</i>(::<b>Type{T<:FloatingPoint}</b>,x::<b>Rational{S}</b>) at <a href=\"https://github.com/JuliaLang/julia/tree/c03f413bbdb46c00033f4eaad402995cfe3b7be5/base/rational.jl#L49\" target=\"_blank\">rational.jl:49</a><li> convert(::<b>Type{Rational{T<:Integer}}</b>,x::<b>Float64</b>) at <a href=\"https://github.com/JuliaLang/julia/tree/c03f413bbdb46c00033f4eaad402995cfe3b7be5/base/rational.jl#L58\" target=\"_blank\">rational.jl:58</a><li> convert(::<b>Type{Rational{T<:Integer}}</b>,x::<b>Float32</b>) at <a href=\"https://github.com/JuliaLang/julia/tree/c03f413bbdb46c00033f4eaad402995cfe3b7be5/base/rational.jl#L59\" target=\"_blank\">rational.jl:59</a><li> convert(::<b>Type{Rational{T<:Integer}}</b>,x::<b>BigFloat</b>) at <a href=\"https://github.com/JuliaLang/julia/tree/c03f413bbdb46c00033f4eaad402995cfe3b7be5/base/mpfr.jl#L87\" target=\"_blank\">mpfr.jl:87</a><li> convert(::<b>Type{Rational{BigInt}}</b>,x::<b>FloatingPoint</b>) at <a href=\"https://github.com/JuliaLang/julia/tree/c03f413bbdb46c00033f4eaad402995cfe3b7be5/base/mpfr.jl#L128\" target=\"_blank\">mpfr.jl:128</a><li> convert<i>{T<:Integer}</i>(::<b>Type{Rational{T<:Integer}}</b>,x::<b>FloatingPoint</b>) at <a href=\"https://github.com/JuliaLang/julia/tree/c03f413bbdb46c00033f4eaad402995cfe3b7be5/base/rational.jl#L54\" target=\"_blank\">rational.jl:54</a><li> convert<i>{T,N}</i>(::<b>Type{AbstractArray{T,N}}</b>,B::<b>BitArray{N}</b>) at <a href=\"https://github.com/JuliaLang/julia/tree/c03f413bbdb46c00033f4eaad402995cfe3b7be5/base/bitarray.jl#L323\" target=\"_blank\">bitarray.jl:323</a><li> convert<i>{T}</i>(::<b>Type{AbstractArray{T,2}}</b>,A::<b>SparseMatrixCSC{Tv,Ti<:Integer}</b>) at <a href=\"https://github.com/JuliaLang/julia/tree/c03f413bbdb46c00033f4eaad402995cfe3b7be5/base/sparse/sparsematrix.jl#L169\" target=\"_blank\">sparse/sparsematrix.jl:169</a><li> convert<i>{T}</i>(::<b>Type{AbstractArray{T,2}}</b>,S::<b>SymTridiagonal{T}</b>) at <a href=\"https://github.com/JuliaLang/julia/tree/c03f413bbdb46c00033f4eaad402995cfe3b7be5/base/linalg/tridiag.jl#L23\" target=\"_blank\">linalg/tridiag.jl:23</a><li> convert<i>{T}</i>(::<b>Type{AbstractArray{T,2}}</b>,M::<b>Tridiagonal{T}</b>) at <a href=\"https://github.com/JuliaLang/julia/tree/c03f413bbdb46c00033f4eaad402995cfe3b7be5/base/linalg/tridiag.jl#L228\" target=\"_blank\">linalg/tridiag.jl:228</a><li> convert<i>{T,TA,S,UpLo,IsUnit}</i>(::<b>Type{AbstractArray{T,2}}</b>,A::<b>Triangular{TA,S,UpLo,IsUnit}</b>) at <a href=\"https://github.com/JuliaLang/julia/tree/c03f413bbdb46c00033f4eaad402995cfe3b7be5/base/linalg/triangular.jl#L99\" target=\"_blank\">linalg/triangular.jl:99</a><li> convert<i>{T}</i>(::<b>Type{AbstractArray{T,2}}</b>,Q::<b>QRPackedQ{T}</b>) at <a href=\"https://github.com/JuliaLang/julia/tree/c03f413bbdb46c00033f4eaad402995cfe3b7be5/base/linalg/factorization.jl#L237\" target=\"_blank\">linalg/factorization.jl:237</a><li> convert<i>{S}</i>(::<b>Type{AbstractArray{S,2}}</b>,Q::<b>QRCompactWYQ{S}</b>) at <a href=\"https://github.com/JuliaLang/julia/tree/c03f413bbdb46c00033f4eaad402995cfe3b7be5/base/linalg/factorization.jl#L239\" target=\"_blank\">linalg/factorization.jl:239</a><li> convert<i>{T}</i>(::<b>Type{AbstractArray{T,2}}</b>,A::<b>Symmetric{T}</b>) at <a href=\"https://github.com/JuliaLang/julia/tree/c03f413bbdb46c00033f4eaad402995cfe3b7be5/base/linalg/symmetric.jl#L21\" target=\"_blank\">linalg/symmetric.jl:21</a><li> convert<i>{T}</i>(::<b>Type{AbstractArray{T,2}}</b>,A::<b>Hermitian{T}</b>) at <a href=\"https://github.com/JuliaLang/julia/tree/c03f413bbdb46c00033f4eaad402995cfe3b7be5/base/linalg/symmetric.jl#L23\" target=\"_blank\">linalg/symmetric.jl:23</a><li> convert<i>{T}</i>(::<b>Type{AbstractArray{T,2}}</b>,D::<b>Diagonal{T}</b>) at <a href=\"https://github.com/JuliaLang/julia/tree/c03f413bbdb46c00033f4eaad402995cfe3b7be5/base/linalg/diagonal.jl#L10\" target=\"_blank\">linalg/diagonal.jl:10</a><li> convert<i>{T,N}</i>(::<b>Type{AbstractArray{T,N}}</b>,A::<b>AbstractArray{T,N}</b>) at <a href=\"https://github.com/JuliaLang/julia/tree/c03f413bbdb46c00033f4eaad402995cfe3b7be5/base/abstractarray.jl#L306\" target=\"_blank\">abstractarray.jl:306</a><li> convert<i>{T,S,N}</i>(::<b>Type{AbstractArray{T,N}}</b>,A::<b>AbstractArray{S,N}</b>) at <a href=\"https://github.com/JuliaLang/julia/tree/c03f413bbdb46c00033f4eaad402995cfe3b7be5/base/abstractarray.jl#L307\" target=\"_blank\">abstractarray.jl:307</a><li> convert<i>{T,S,N}</i>(::<b>Type{AbstractArray{T,N}}</b>,A::<b>AbstractArray{S,N}</b>) at <a href=\"https://github.com/JuliaLang/julia/tree/c03f413bbdb46c00033f4eaad402995cfe3b7be5/base/abstractarray.jl#L308\" target=\"_blank\">abstractarray.jl:308</a><li> convert<i>{S,T,N}</i>(::<b>Type{Array{S,N}}</b>,s::<b>SubArray{T,N,D<:DArray{T,N,A},I<:(Union(Range{Int64},Int64)...,)}</b>) at <a href=\"https://github.com/JuliaLang/julia/tree/c03f413bbdb46c00033f4eaad402995cfe3b7be5/base/darray.jl#L185\" target=\"_blank\">darray.jl:185</a><li> convert<i>{T,S,N}</i>(::<b>Type{Array{T,N}}</b>,A::<b>SubArray{S,N,A<:AbstractArray{T,N},I<:(Union(Range{Int64},Int64)...,)}</b>) at <a href=\"https://github.com/JuliaLang/julia/tree/c03f413bbdb46c00033f4eaad402995cfe3b7be5/base/subarray.jl#L404\" target=\"_blank\">subarray.jl:404</a><li> convert<i>{T,n}</i>(::<b>Type{Array{T,n}}</b>,x::<b>Array{T,n}</b>) at <a href=\"https://github.com/JuliaLang/julia/tree/c03f413bbdb46c00033f4eaad402995cfe3b7be5/base/array.jl#L218\" target=\"_blank\">array.jl:218</a><li> convert<i>{T,n,S}</i>(::<b>Type{Array{T,n}}</b>,x::<b>Array{S,n}</b>) at <a href=\"https://github.com/JuliaLang/julia/tree/c03f413bbdb46c00033f4eaad402995cfe3b7be5/base/array.jl#L220\" target=\"_blank\">array.jl:220</a><li> convert<i>{T,n}</i>(::<b>Type{Array{T,N}}</b>,x::<b>Array{T,n}</b>) at <a href=\"https://github.com/JuliaLang/julia/tree/c03f413bbdb46c00033f4eaad402995cfe3b7be5/base/array.jl#L217\" target=\"_blank\">array.jl:217</a><li> convert<i>{T,n,S}</i>(::<b>Type{Array{T,N}}</b>,x::<b>Array{S,n}</b>) at <a href=\"https://github.com/JuliaLang/julia/tree/c03f413bbdb46c00033f4eaad402995cfe3b7be5/base/array.jl#L219\" target=\"_blank\">array.jl:219</a><li> convert<i>{T,N}</i>(::<b>Type{Array{T,N}}</b>,B::<b>BitArray{N}</b>) at <a href=\"https://github.com/JuliaLang/julia/tree/c03f413bbdb46c00033f4eaad402995cfe3b7be5/base/bitarray.jl#L284\" target=\"_blank\">bitarray.jl:284</a><li> convert<i>{T,N}</i>(::<b>Type{Array{T,N}}</b>,B::<b>BitArray{N}</b>) at <a href=\"https://github.com/JuliaLang/julia/tree/c03f413bbdb46c00033f4eaad402995cfe3b7be5/base/bitarray.jl#L282\" target=\"_blank\">bitarray.jl:282</a><li> convert<i>{S,T,N}</i>(::<b>Type{Array{S,N}}</b>,d::<b>DArray{T,N,A}</b>) at <a href=\"https://github.com/JuliaLang/julia/tree/c03f413bbdb46c00033f4eaad402995cfe3b7be5/base/darray.jl#L175\" target=\"_blank\">darray.jl:175</a><li> convert(::<b>Type{Array{T,N}}</b>,S::<b>SharedArray{T,N}</b>) at <a href=\"https://github.com/JuliaLang/julia/tree/c03f413bbdb46c00033f4eaad402995cfe3b7be5/base/sharedarray.jl#L205\" target=\"_blank\">sharedarray.jl:205</a><li> convert(::<b>Type{Array{T,2}}</b>,S::<b>SparseMatrixCSC{Tv,Ti<:Integer}</b>) at <a href=\"https://github.com/JuliaLang/julia/tree/c03f413bbdb46c00033f4eaad402995cfe3b7be5/base/sparse/sparsematrix.jl#L170\" target=\"_blank\">sparse/sparsematrix.jl:170</a><li> convert<i>{T}</i>(::<b>Type{Array{T,2}}</b>,M::<b>SymTridiagonal{T}</b>) at <a href=\"https://github.com/JuliaLang/julia/tree/c03f413bbdb46c00033f4eaad402995cfe3b7be5/base/linalg/tridiag.jl#L24\" target=\"_blank\">linalg/tridiag.jl:24</a><li> convert<i>{T}</i>(::<b>Type{Array{T,2}}</b>,M::<b>SymTridiagonal{T}</b>) at <a href=\"https://github.com/JuliaLang/julia/tree/c03f413bbdb46c00033f4eaad402995cfe3b7be5/base/linalg/tridiag.jl#L25\" target=\"_blank\">linalg/tridiag.jl:25</a><li> convert<i>{T}</i>(::<b>Type{Array{T,2}}</b>,M::<b>Tridiagonal{T}</b>) at <a href=\"https://github.com/JuliaLang/julia/tree/c03f413bbdb46c00033f4eaad402995cfe3b7be5/base/linalg/tridiag.jl#L166\" target=\"_blank\">linalg/tridiag.jl:166</a><li> convert<i>{T}</i>(::<b>Type{Array{T,2}}</b>,M::<b>Tridiagonal{T}</b>) at <a href=\"https://github.com/JuliaLang/julia/tree/c03f413bbdb46c00033f4eaad402995cfe3b7be5/base/linalg/tridiag.jl#L176\" target=\"_blank\">linalg/tridiag.jl:176</a><li> convert<i>{Tret,T,S,UpLo,IsUnit}</i>(::<b>Type{Array{Tret,2}}</b>,A::<b>Triangular{T,S,UpLo,IsUnit}</b>) at <a href=\"https://github.com/JuliaLang/julia/tree/c03f413bbdb46c00033f4eaad402995cfe3b7be5/base/linalg/triangular.jl#L103\" target=\"_blank\">linalg/triangular.jl:103</a><li> convert<i>{T,S,UpLo,IsUnit}</i>(::<b>Type{Array{T,2}}</b>,A::<b>Triangular{T,S,UpLo,IsUnit}</b>) at <a href=\"https://github.com/JuliaLang/julia/tree/c03f413bbdb46c00033f4eaad402995cfe3b7be5/base/linalg/triangular.jl#L113\" target=\"_blank\">linalg/triangular.jl:113</a><li> convert<i>{T}</i>(::<b>Type{Array{T,2}}</b>,W::<b>Woodbury{T}</b>) at <a href=\"https://github.com/JuliaLang/julia/tree/c03f413bbdb46c00033f4eaad402995cfe3b7be5/base/linalg/woodbury.jl#L57\" target=\"_blank\">linalg/woodbury.jl:57</a><li> convert<i>{T}</i>(::<b>Type{Array{T,2}}</b>,A::<b>Bidiagonal{T}</b>) at <a href=\"https://github.com/JuliaLang/julia/tree/c03f413bbdb46c00033f4eaad402995cfe3b7be5/base/linalg/bidiag.jl#L31\" target=\"_blank\">linalg/bidiag.jl:31</a><li> convert<i>{T}</i>(::<b>Type{Array{T,2}}</b>,A::<b>Bidiagonal{T}</b>) at <a href=\"https://github.com/JuliaLang/julia/tree/c03f413bbdb46c00033f4eaad402995cfe3b7be5/base/linalg/bidiag.jl#L32\" target=\"_blank\">linalg/bidiag.jl:32</a><li> convert(::<b>Type{Array{T,2}}</b>,D::<b>Diagonal{T}</b>) at <a href=\"https://github.com/JuliaLang/julia/tree/c03f413bbdb46c00033f4eaad402995cfe3b7be5/base/linalg/special.jl#L9\" target=\"_blank\">linalg/special.jl:9</a><li> convert<i>{T,N}</i>(::<b>Type{Array{T,N}}</b>,A::<b>AbstractArray{T,N}</b>) at <a href=\"https://github.com/JuliaLang/julia/tree/c03f413bbdb46c00033f4eaad402995cfe3b7be5/base/abstractarray.jl#L310\" target=\"_blank\">abstractarray.jl:310</a><li> convert<i>{T}</i>(::<b>Type{Ptr{None}}</b>,x::<b>SubArray{T,N,A<:AbstractArray{T,N},I<:(Union(Range{Int64},Int64)...,)}</b>) at <a href=\"https://github.com/JuliaLang/julia/tree/c03f413bbdb46c00033f4eaad402995cfe3b7be5/base/subarray.jl#L403\" target=\"_blank\">subarray.jl:403</a><li> convert<i>{T}</i>(::<b>Type{Ptr{T}}</b>,x::<b>SubArray{T,N,A<:AbstractArray{T,N},I<:(Union(Range{Int64},Int64)...,)}</b>) at <a href=\"https://github.com/JuliaLang/julia/tree/c03f413bbdb46c00033f4eaad402995cfe3b7be5/base/subarray.jl#L401\" target=\"_blank\">subarray.jl:401</a><li> convert<i>{N}</i>(::<b>Type{BitArray{N}}</b>,B::<b>BitArray{N}</b>) at <a href=\"https://github.com/JuliaLang/julia/tree/c03f413bbdb46c00033f4eaad402995cfe3b7be5/base/bitarray.jl#L322\" target=\"_blank\">bitarray.jl:322</a><li> convert<i>{T,N}</i>(::<b>Type{BitArray{N}}</b>,A::<b>AbstractArray{T,N}</b>) at <a href=\"https://github.com/JuliaLang/julia/tree/c03f413bbdb46c00033f4eaad402995cfe3b7be5/base/bitarray.jl#L294\" target=\"_blank\">bitarray.jl:294</a><li> convert<i>{T,N}</i>(::<b>Type{BitArray{N}}</b>,A::<b>AbstractArray{T,N}</b>) at <a href=\"https://github.com/JuliaLang/julia/tree/c03f413bbdb46c00033f4eaad402995cfe3b7be5/base/bitarray.jl#L292\" target=\"_blank\">bitarray.jl:292</a><li> convert<i>{K,V}</i>(::<b>Type{Dict{K,V}}</b>,d::<b>Dict{K,V}</b>) at <a href=\"https://github.com/JuliaLang/julia/tree/c03f413bbdb46c00033f4eaad402995cfe3b7be5/base/dict.jl#L356\" target=\"_blank\">dict.jl:356</a><li> convert<i>{K,V}</i>(::<b>Type{Dict{K,V}}</b>,d::<b>Dict{K,V}</b>) at <a href=\"https://github.com/JuliaLang/julia/tree/c03f413bbdb46c00033f4eaad402995cfe3b7be5/base/dict.jl#L345\" target=\"_blank\">dict.jl:345</a><li> convert(::<b>Type{ASCIIString}</b>,s::<b>ASCIIString</b>) at <a href=\"https://github.com/JuliaLang/julia/tree/c03f413bbdb46c00033f4eaad402995cfe3b7be5/base/ascii.jl#L99\" target=\"_blank\">ascii.jl:99</a><li> convert(::<b>Type{ASCIIString}</b>,s::<b>UTF8String</b>) at <a href=\"https://github.com/JuliaLang/julia/tree/c03f413bbdb46c00033f4eaad402995cfe3b7be5/base/ascii.jl#L100\" target=\"_blank\">ascii.jl:100</a><li> convert(::<b>Type{ASCIIString}</b>,a::<b>Array{Uint8,1}</b>) at <a href=\"https://github.com/JuliaLang/julia/tree/c03f413bbdb46c00033f4eaad402995cfe3b7be5/base/ascii.jl#L101\" target=\"_blank\">ascii.jl:101</a><li> convert(::<b>Type{ASCIIString}</b>,a::<b>Array{Uint8,1}</b>,invalids_as::<b>ASCIIString</b>) at <a href=\"https://github.com/JuliaLang/julia/tree/c03f413bbdb46c00033f4eaad402995cfe3b7be5/base/ascii.jl#L103\" target=\"_blank\">ascii.jl:103</a><li> convert(::<b>Type{ASCIIString}</b>,s::<b>String</b>) at <a href=\"https://github.com/JuliaLang/julia/tree/c03f413bbdb46c00033f4eaad402995cfe3b7be5/base/ascii.jl#L120\" target=\"_blank\">ascii.jl:120</a><li> convert(::<b>Type{UTF8String}</b>,s::<b>UTF8String</b>) at <a href=\"https://github.com/JuliaLang/julia/tree/c03f413bbdb46c00033f4eaad402995cfe3b7be5/base/utf8.jl#L160\" target=\"_blank\">utf8.jl:160</a><li> convert(::<b>Type{UTF8String}</b>,s::<b>ASCIIString</b>) at <a href=\"https://github.com/JuliaLang/julia/tree/c03f413bbdb46c00033f4eaad402995cfe3b7be5/base/utf8.jl#L161\" target=\"_blank\">utf8.jl:161</a><li> convert(::<b>Type{UTF8String}</b>,a::<b>Array{Uint8,1}</b>) at <a href=\"https://github.com/JuliaLang/julia/tree/c03f413bbdb46c00033f4eaad402995cfe3b7be5/base/utf8.jl#L162\" target=\"_blank\">utf8.jl:162</a><li> convert(::<b>Type{UTF8String}</b>,a::<b>Array{Uint8,1}</b>,invalids_as::<b>String</b>) at <a href=\"https://github.com/JuliaLang/julia/tree/c03f413bbdb46c00033f4eaad402995cfe3b7be5/base/utf8.jl#L164\" target=\"_blank\">utf8.jl:164</a><li> convert(::<b>Type{UTF8String}</b>,s::<b>UTF16String</b>) at <a href=\"https://github.com/JuliaLang/julia/tree/c03f413bbdb46c00033f4eaad402995cfe3b7be5/base/utf16.jl#L53\" target=\"_blank\">utf16.jl:53</a><li> convert(::<b>Type{UTF8String}</b>,s::<b>String</b>) at <a href=\"https://github.com/JuliaLang/julia/tree/c03f413bbdb46c00033f4eaad402995cfe3b7be5/base/utf8.jl#L184\" target=\"_blank\">utf8.jl:184</a><li> convert(::<b>Type{UTF16String}</b>,s::<b>UTF16String</b>) at <a href=\"https://github.com/JuliaLang/julia/tree/c03f413bbdb46c00033f4eaad402995cfe3b7be5/base/utf16.jl#L47\" target=\"_blank\">utf16.jl:47</a><li> convert(::<b>Type{UTF16String}</b>,s::<b>String</b>) at <a href=\"https://github.com/JuliaLang/julia/tree/c03f413bbdb46c00033f4eaad402995cfe3b7be5/base/utf16.jl#L48\" target=\"_blank\">utf16.jl:48</a><li> convert(::<b>Type{Array{Uint16,1}}</b>,s::<b>UTF16String</b>) at <a href=\"https://github.com/JuliaLang/julia/tree/c03f413bbdb46c00033f4eaad402995cfe3b7be5/base/utf16.jl#L49\" target=\"_blank\">utf16.jl:49</a><li> convert(::<b>Type{Array{Uint16,N}}</b>,s::<b>UTF16String</b>) at <a href=\"https://github.com/JuliaLang/julia/tree/c03f413bbdb46c00033f4eaad402995cfe3b7be5/base/utf16.jl#L50\" target=\"_blank\">utf16.jl:50</a><li> convert<i>{T<:Union(Uint16,Int16)}</i>(::<b>Type{Ptr{T<:Union(Uint16,Int16)}}</b>,s::<b>UTF16String</b>) at <a href=\"https://github.com/JuliaLang/julia/tree/c03f413bbdb46c00033f4eaad402995cfe3b7be5/base/utf16.jl#L57\" target=\"_blank\">utf16.jl:57</a><li> convert(::<b>Type{UTF16String}</b>,data::<b>AbstractArray{Uint16,1}</b>) at <a href=\"https://github.com/JuliaLang/julia/tree/c03f413bbdb46c00033f4eaad402995cfe3b7be5/base/utf16.jl#L78\" target=\"_blank\">utf16.jl:78</a><li> convert(T::<b>Type{UTF16String}</b>,data::<b>AbstractArray{Uint16,N}</b>) at <a href=\"https://github.com/JuliaLang/julia/tree/c03f413bbdb46c00033f4eaad402995cfe3b7be5/base/utf16.jl#L85\" target=\"_blank\">utf16.jl:85</a><li> convert(T::<b>Type{UTF16String}</b>,data::<b>AbstractArray{Int16,N}</b>) at <a href=\"https://github.com/JuliaLang/julia/tree/c03f413bbdb46c00033f4eaad402995cfe3b7be5/base/utf16.jl#L88\" target=\"_blank\">utf16.jl:88</a><li> convert(T::<b>Type{UTF16String}</b>,bytes::<b>AbstractArray{Uint8,N}</b>) at <a href=\"https://github.com/JuliaLang/julia/tree/c03f413bbdb46c00033f4eaad402995cfe3b7be5/base/utf16.jl#L92\" target=\"_blank\">utf16.jl:92</a><li> convert(::<b>Type{UTF32String}</b>,s::<b>UTF32String</b>) at <a href=\"https://github.com/JuliaLang/julia/tree/c03f413bbdb46c00033f4eaad402995cfe3b7be5/base/utf32.jl#L28\" target=\"_blank\">utf32.jl:28</a><li> convert(::<b>Type{UTF32String}</b>,s::<b>String</b>) at <a href=\"https://github.com/JuliaLang/julia/tree/c03f413bbdb46c00033f4eaad402995cfe3b7be5/base/utf32.jl#L31\" target=\"_blank\">utf32.jl:31</a><li> convert(::<b>Type{UTF32String}</b>,data::<b>AbstractArray{Char,1}</b>) at <a href=\"https://github.com/JuliaLang/julia/tree/c03f413bbdb46c00033f4eaad402995cfe3b7be5/base/utf32.jl#L41\" target=\"_blank\">utf32.jl:41</a><li> convert<i>{T<:Union(Int32,Uint32)}</i>(::<b>Type{UTF32String}</b>,data::<b>AbstractArray{T<:Union(Int32,Uint32),1}</b>) at <a href=\"https://github.com/JuliaLang/julia/tree/c03f413bbdb46c00033f4eaad402995cfe3b7be5/base/utf32.jl#L47\" target=\"_blank\">utf32.jl:47</a><li> convert<i>{T<:Union(ASCIIString,UTF8String)}</i>(::<b>Type{T<:Union(ASCIIString,UTF8String)}</b>,data::<b>AbstractArray{Char,1}</b>) at <a href=\"https://github.com/JuliaLang/julia/tree/c03f413bbdb46c00033f4eaad402995cfe3b7be5/base/utf32.jl#L54\" target=\"_blank\">utf32.jl:54</a><li> convert<i>{T<:String}</i>(::<b>Type{T<:String}</b>,v::<b>AbstractArray{Char,1}</b>) at <a href=\"https://github.com/JuliaLang/julia/tree/c03f413bbdb46c00033f4eaad402995cfe3b7be5/base/utf32.jl#L50\" target=\"_blank\">utf32.jl:50</a><li> convert(::<b>Type{Array{Char,1}}</b>,s::<b>UTF32String</b>) at <a href=\"https://github.com/JuliaLang/julia/tree/c03f413bbdb46c00033f4eaad402995cfe3b7be5/base/utf32.jl#L62\" target=\"_blank\">utf32.jl:62</a><li> convert(::<b>Type{Array{Char,N}}</b>,s::<b>UTF32String</b>) at <a href=\"https://github.com/JuliaLang/julia/tree/c03f413bbdb46c00033f4eaad402995cfe3b7be5/base/utf32.jl#L63\" target=\"_blank\">utf32.jl:63</a><li> convert<i>{T<:Union(Int32,Uint32,Char)}</i>(::<b>Type{Ptr{T<:Union(Int32,Uint32,Char)}}</b>,s::<b>UTF32String</b>) at <a href=\"https://github.com/JuliaLang/julia/tree/c03f413bbdb46c00033f4eaad402995cfe3b7be5/base/utf32.jl#L68\" target=\"_blank\">utf32.jl:68</a><li> convert(T::<b>Type{UTF32String}</b>,bytes::<b>AbstractArray{Uint8,N}</b>) at <a href=\"https://github.com/JuliaLang/julia/tree/c03f413bbdb46c00033f4eaad402995cfe3b7be5/base/utf32.jl#L72\" target=\"_blank\">utf32.jl:72</a><li> convert(::<b>Type{Array{Uint8,1}}</b>,s::<b>String</b>) at <a href=\"https://github.com/JuliaLang/julia/tree/c03f413bbdb46c00033f4eaad402995cfe3b7be5/base/string.jl#L47\" target=\"_blank\">string.jl:47</a><li> convert(::<b>Type{Array{Uint8,N}}</b>,s::<b>String</b>) at <a href=\"https://github.com/JuliaLang/julia/tree/c03f413bbdb46c00033f4eaad402995cfe3b7be5/base/string.jl#L48\" target=\"_blank\">string.jl:48</a><li> convert(::<b>Type{Union(ASCIIString,UTF8String)}</b>,s::<b>String</b>) at <a href=\"https://github.com/JuliaLang/julia/tree/c03f413bbdb46c00033f4eaad402995cfe3b7be5/base/string.jl#L49\" target=\"_blank\">string.jl:49</a><li> convert(::<b>Type{Array{Char,1}}</b>,s::<b>String</b>) at <a href=\"https://github.com/JuliaLang/julia/tree/c03f413bbdb46c00033f4eaad402995cfe3b7be5/base/string.jl#L50\" target=\"_blank\">string.jl:50</a><li> convert(::<b>Type{Symbol}</b>,s::<b>String</b>) at <a href=\"https://github.com/JuliaLang/julia/tree/c03f413bbdb46c00033f4eaad402995cfe3b7be5/base/string.jl#L51\" target=\"_blank\">string.jl:51</a><li> convert<i>{T<:String}</i>(::<b>Type{SubString{T<:String}}</b>,s::<b>T<:String</b>) at <a href=\"https://github.com/JuliaLang/julia/tree/c03f413bbdb46c00033f4eaad402995cfe3b7be5/base/string.jl#L644\" target=\"_blank\">string.jl:644</a><li> convert<i>{P<:Union(Uint8,Int8),T<:Union(ASCIIString,UTF8String)}</i>(::<b>Type{Ptr{P<:Union(Uint8,Int8)}}</b>,s::<b>SubString{T<:Union(ASCIIString,UTF8String)}</b>) at <a href=\"https://github.com/JuliaLang/julia/tree/c03f413bbdb46c00033f4eaad402995cfe3b7be5/base/string.jl#L661\" target=\"_blank\">string.jl:661</a><li> convert(::<b>Type{RepString}</b>,s::<b>String</b>) at <a href=\"https://github.com/JuliaLang/julia/tree/c03f413bbdb46c00033f4eaad402995cfe3b7be5/base/string.jl#L718\" target=\"_blank\">string.jl:718</a><li> convert(T::<b>Type{Ptr{None}}</b>,s::<b>IOStream</b>) at <a href=\"https://github.com/JuliaLang/julia/tree/c03f413bbdb46c00033f4eaad402995cfe3b7be5/base/iostream.jl#L25\" target=\"_blank\">iostream.jl:25</a><li> convert(::<b>Type{CFILE}</b>,s::<b>IO</b>) at <a href=\"https://github.com/JuliaLang/julia/tree/c03f413bbdb46c00033f4eaad402995cfe3b7be5/base/iostream.jl#L90\" target=\"_blank\">iostream.jl:90</a><li> convert(::<b>Type{Int32}</b>,fd::<b>RawFD</b>) at <a href=\"https://github.com/JuliaLang/julia/tree/c03f413bbdb46c00033f4eaad402995cfe3b7be5/base/stream.jl#L27\" target=\"_blank\">stream.jl:27</a><li> convert(T::<b>Type{Ptr{None}}</b>,s::<b>AsyncStream</b>) at <a href=\"https://github.com/JuliaLang/julia/tree/c03f413bbdb46c00033f4eaad402995cfe3b7be5/base/stream.jl#L226\" target=\"_blank\">stream.jl:226</a><li> convert(::<b>Type{Float32}</b>,val::<b>Float16</b>) at <a href=\"https://github.com/JuliaLang/julia/tree/c03f413bbdb46c00033f4eaad402995cfe3b7be5/base/float16.jl#L2\" target=\"_blank\">float16.jl:2</a><li> convert(::<b>Type{Float16}</b>,val::<b>Float32</b>) at <a href=\"https://github.com/JuliaLang/julia/tree/c03f413bbdb46c00033f4eaad402995cfe3b7be5/base/float16.jl#L81\" target=\"_blank\">float16.jl:81</a><li> convert(::<b>Type{BigInt}</b>,x::<b>Float16</b>) at <a href=\"https://github.com/JuliaLang/julia/tree/c03f413bbdb46c00033f4eaad402995cfe3b7be5/base/gmp.jl#L114\" target=\"_blank\">gmp.jl:114</a><li> convert<i>{T<:Integer}</i>(::<b>Type{T<:Integer}</b>,x::<b>Float16</b>) at <a href=\"https://github.com/JuliaLang/julia/tree/c03f413bbdb46c00033f4eaad402995cfe3b7be5/base/float16.jl#L103\" target=\"_blank\">float16.jl:103</a><li> convert(::<b>Type{BigInt}</b>,x::<b>Integer</b>) at <a href=\"https://github.com/JuliaLang/julia/tree/c03f413bbdb46c00033f4eaad402995cfe3b7be5/base/gmp.jl#L113\" target=\"_blank\">gmp.jl:113</a><li> convert(::<b>Type{BigInt}</b>,x::<b>FloatingPoint</b>) at <a href=\"https://github.com/JuliaLang/julia/tree/c03f413bbdb46c00033f4eaad402995cfe3b7be5/base/gmp.jl#L115\" target=\"_blank\">gmp.jl:115</a><li> convert(::<b>Type{Int64}</b>,n::<b>BigInt</b>) at <a href=\"https://github.com/JuliaLang/julia/tree/c03f413bbdb46c00033f4eaad402995cfe3b7be5/base/gmp.jl#L127\" target=\"_blank\">gmp.jl:127</a><li> convert(::<b>Type{Int32}</b>,n::<b>BigInt</b>) at <a href=\"https://github.com/JuliaLang/julia/tree/c03f413bbdb46c00033f4eaad402995cfe3b7be5/base/gmp.jl#L122\" target=\"_blank\">gmp.jl:122</a><li> convert(::<b>Type{Int16}</b>,n::<b>BigInt</b>) at <a href=\"https://github.com/JuliaLang/julia/tree/c03f413bbdb46c00033f4eaad402995cfe3b7be5/base/gmp.jl#L123\" target=\"_blank\">gmp.jl:123</a><li> convert(::<b>Type{Int8}</b>,n::<b>BigInt</b>) at <a href=\"https://github.com/JuliaLang/julia/tree/c03f413bbdb46c00033f4eaad402995cfe3b7be5/base/gmp.jl#L124\" target=\"_blank\">gmp.jl:124</a><li> convert(::<b>Type{Uint64}</b>,n::<b>BigInt</b>) at <a href=\"https://github.com/JuliaLang/julia/tree/c03f413bbdb46c00033f4eaad402995cfe3b7be5/base/gmp.jl#L145\" target=\"_blank\">gmp.jl:145</a><li> convert(::<b>Type{Uint32}</b>,x::<b>BigInt</b>) at <a href=\"https://github.com/JuliaLang/julia/tree/c03f413bbdb46c00033f4eaad402995cfe3b7be5/base/gmp.jl#L140\" target=\"_blank\">gmp.jl:140</a><li> convert(::<b>Type{Uint16}</b>,x::<b>BigInt</b>) at <a href=\"https://github.com/JuliaLang/julia/tree/c03f413bbdb46c00033f4eaad402995cfe3b7be5/base/gmp.jl#L141\" target=\"_blank\">gmp.jl:141</a><li> convert(::<b>Type{Uint8}</b>,x::<b>BigInt</b>) at <a href=\"https://github.com/JuliaLang/julia/tree/c03f413bbdb46c00033f4eaad402995cfe3b7be5/base/gmp.jl#L142\" target=\"_blank\">gmp.jl:142</a><li> convert(::<b>Type{Uint128}</b>,x::<b>BigInt</b>) at <a href=\"https://github.com/JuliaLang/julia/tree/c03f413bbdb46c00033f4eaad402995cfe3b7be5/base/gmp.jl#L163\" target=\"_blank\">gmp.jl:163</a><li> convert(::<b>Type{Int128}</b>,x::<b>BigInt</b>) at <a href=\"https://github.com/JuliaLang/julia/tree/c03f413bbdb46c00033f4eaad402995cfe3b7be5/base/gmp.jl#L167\" target=\"_blank\">gmp.jl:167</a><li> convert(::<b>Type{Float64}</b>,n::<b>BigInt</b>) at <a href=\"https://github.com/JuliaLang/julia/tree/c03f413bbdb46c00033f4eaad402995cfe3b7be5/base/gmp.jl#L171\" target=\"_blank\">gmp.jl:171</a><li> convert(::<b>Type{Float32}</b>,n::<b>BigInt</b>) at <a href=\"https://github.com/JuliaLang/julia/tree/c03f413bbdb46c00033f4eaad402995cfe3b7be5/base/gmp.jl#L173\" target=\"_blank\">gmp.jl:173</a><li> convert(::<b>Type{Float16}</b>,n::<b>BigInt</b>) at <a href=\"https://github.com/JuliaLang/julia/tree/c03f413bbdb46c00033f4eaad402995cfe3b7be5/base/gmp.jl#L174\" target=\"_blank\">gmp.jl:174</a><li> convert(::<b>Type{BigFloat}</b>,::<b>MathConst{:\u03c0}</b>) at <a href=\"https://github.com/JuliaLang/julia/tree/c03f413bbdb46c00033f4eaad402995cfe3b7be5/base/constants.jl#L31\" target=\"_blank\">constants.jl:31</a><li> convert(::<b>Type{BigFloat}</b>,::<b>MathConst{:e}</b>) at <a href=\"https://github.com/JuliaLang/julia/tree/c03f413bbdb46c00033f4eaad402995cfe3b7be5/base/constants.jl#L38\" target=\"_blank\">constants.jl:38</a><li> convert(::<b>Type{BigFloat}</b>,::<b>MathConst{:\u03b3}</b>) at <a href=\"https://github.com/JuliaLang/julia/tree/c03f413bbdb46c00033f4eaad402995cfe3b7be5/base/constants.jl#L31\" target=\"_blank\">constants.jl:31</a><li> convert(::<b>Type{BigFloat}</b>,::<b>MathConst{:catalan}</b>) at <a href=\"https://github.com/JuliaLang/julia/tree/c03f413bbdb46c00033f4eaad402995cfe3b7be5/base/constants.jl#L31\" target=\"_blank\">constants.jl:31</a><li> convert(::<b>Type{BigFloat}</b>,::<b>MathConst{:\u03c6}</b>) at <a href=\"https://github.com/JuliaLang/julia/tree/c03f413bbdb46c00033f4eaad402995cfe3b7be5/base/constants.jl#L38\" target=\"_blank\">constants.jl:38</a><li> convert(::<b>Type{BigFloat}</b>,x::<b>Real</b>) at <a href=\"https://github.com/JuliaLang/julia/tree/c03f413bbdb46c00033f4eaad402995cfe3b7be5/base/mpfr.jl#L89\" target=\"_blank\">mpfr.jl:89</a><li> convert(::<b>Type{FloatingPoint}</b>,x::<b>BigInt</b>) at <a href=\"https://github.com/JuliaLang/julia/tree/c03f413bbdb46c00033f4eaad402995cfe3b7be5/base/mpfr.jl#L90\" target=\"_blank\">mpfr.jl:90</a><li> convert(::<b>Type{Int8}</b>,x::<b>BigFloat</b>) at <a href=\"https://github.com/JuliaLang/julia/tree/c03f413bbdb46c00033f4eaad402995cfe3b7be5/base/mpfr.jl#L95\" target=\"_blank\">mpfr.jl:95</a><li> convert(::<b>Type{Int16}</b>,x::<b>BigFloat</b>) at <a href=\"https://github.com/JuliaLang/julia/tree/c03f413bbdb46c00033f4eaad402995cfe3b7be5/base/mpfr.jl#L95\" target=\"_blank\">mpfr.jl:95</a><li> convert(::<b>Type{Int32}</b>,x::<b>BigFloat</b>) at <a href=\"https://github.com/JuliaLang/julia/tree/c03f413bbdb46c00033f4eaad402995cfe3b7be5/base/mpfr.jl#L95\" target=\"_blank\">mpfr.jl:95</a><li> convert(::<b>Type{Int64}</b>,x::<b>BigFloat</b>) at <a href=\"https://github.com/JuliaLang/julia/tree/c03f413bbdb46c00033f4eaad402995cfe3b7be5/base/mpfr.jl#L95\" target=\"_blank\">mpfr.jl:95</a><li> convert(::<b>Type{Uint8}</b>,x::<b>BigFloat</b>) at <a href=\"https://github.com/JuliaLang/julia/tree/c03f413bbdb46c00033f4eaad402995cfe3b7be5/base/mpfr.jl#L105\" target=\"_blank\">mpfr.jl:105</a><li> convert(::<b>Type{Uint16}</b>,x::<b>BigFloat</b>) at <a href=\"https://github.com/JuliaLang/julia/tree/c03f413bbdb46c00033f4eaad402995cfe3b7be5/base/mpfr.jl#L105\" target=\"_blank\">mpfr.jl:105</a><li> convert(::<b>Type{Uint32}</b>,x::<b>BigFloat</b>) at <a href=\"https://github.com/JuliaLang/julia/tree/c03f413bbdb46c00033f4eaad402995cfe3b7be5/base/mpfr.jl#L105\" target=\"_blank\">mpfr.jl:105</a><li> convert(::<b>Type{Uint64}</b>,x::<b>BigFloat</b>) at <a href=\"https://github.com/JuliaLang/julia/tree/c03f413bbdb46c00033f4eaad402995cfe3b7be5/base/mpfr.jl#L105\" target=\"_blank\">mpfr.jl:105</a><li> convert(::<b>Type{Float64}</b>,x::<b>BigFloat</b>) at <a href=\"https://github.com/JuliaLang/julia/tree/c03f413bbdb46c00033f4eaad402995cfe3b7be5/base/mpfr.jl#L116\" target=\"_blank\">mpfr.jl:116</a><li> convert(::<b>Type{Float32}</b>,x::<b>BigFloat</b>) at <a href=\"https://github.com/JuliaLang/julia/tree/c03f413bbdb46c00033f4eaad402995cfe3b7be5/base/mpfr.jl#L118\" target=\"_blank\">mpfr.jl:118</a><li> convert(::<b>Type{Integer}</b>,x::<b>BigFloat</b>) at <a href=\"https://github.com/JuliaLang/julia/tree/c03f413bbdb46c00033f4eaad402995cfe3b7be5/base/mpfr.jl#L121\" target=\"_blank\">mpfr.jl:121</a><li> convert(::<b>Type{UUID}</b>,s::<b>String</b>) at <a href=\"https://github.com/JuliaLang/julia/tree/c03f413bbdb46c00033f4eaad402995cfe3b7be5/base/random.jl#L809\" target=\"_blank\">random.jl:809</a><li> convert<i>{T}</i>(::<b>Type{Ptr{T}}</b>,S::<b>SharedArray{T,N}</b>) at <a href=\"https://github.com/JuliaLang/julia/tree/c03f413bbdb46c00033f4eaad402995cfe3b7be5/base/sharedarray.jl#L138\" target=\"_blank\">sharedarray.jl:138</a><li> convert<i>{TS,TA,N}</i>(::<b>Type{SharedArray{TS,N}}</b>,A::<b>Array{TA,N}</b>) at <a href=\"https://github.com/JuliaLang/julia/tree/c03f413bbdb46c00033f4eaad402995cfe3b7be5/base/sharedarray.jl#L142\" target=\"_blank\">sharedarray.jl:142</a><li> convert<i>{T}</i>(::<b>Type{SharedArray{T,N}}</b>,A::<b>Array{T,N}</b>) at <a href=\"https://github.com/JuliaLang/julia/tree/c03f413bbdb46c00033f4eaad402995cfe3b7be5/base/sharedarray.jl#L141\" target=\"_blank\">sharedarray.jl:141</a><li> convert(::<b>Type{SharedArray{T,N}}</b>,A::<b>Array{T,N}</b>) at <a href=\"https://github.com/JuliaLang/julia/tree/c03f413bbdb46c00033f4eaad402995cfe3b7be5/base/sharedarray.jl#L140\" target=\"_blank\">sharedarray.jl:140</a><li> convert(::<b>Type{VersionNumber}</b>,v::<b>Integer</b>) at <a href=\"https://github.com/JuliaLang/julia/tree/c03f413bbdb46c00033f4eaad402995cfe3b7be5/base/version.jl#L59\" target=\"_blank\">version.jl:59</a><li> convert(::<b>Type{VersionNumber}</b>,v::<b>(Any...,)</b>) at <a href=\"https://github.com/JuliaLang/julia/tree/c03f413bbdb46c00033f4eaad402995cfe3b7be5/base/version.jl#L60\" target=\"_blank\">version.jl:60</a><li> convert(::<b>Type{VersionNumber}</b>,v::<b>String</b>) at <a href=\"https://github.com/JuliaLang/julia/tree/c03f413bbdb46c00033f4eaad402995cfe3b7be5/base/version.jl#L83\" target=\"_blank\">version.jl:83</a><li> convert<i>{Tv,TvS,TiS}</i>(::<b>Type{SparseMatrixCSC{Tv,Ti<:Integer}}</b>,S::<b>SparseMatrixCSC{TvS,TiS}</b>) at <a href=\"https://github.com/JuliaLang/julia/tree/c03f413bbdb46c00033f4eaad402995cfe3b7be5/base/sparse/sparsematrix.jl#L151\" target=\"_blank\">sparse/sparsematrix.jl:151</a><li> convert<i>{Tv,Ti,TvS,TiS}</i>(::<b>Type{SparseMatrixCSC{Tv,Ti}}</b>,S::<b>SparseMatrixCSC{TvS,TiS}</b>) at <a href=\"https://github.com/JuliaLang/julia/tree/c03f413bbdb46c00033f4eaad402995cfe3b7be5/base/sparse/sparsematrix.jl#L140\" target=\"_blank\">sparse/sparsematrix.jl:140</a><li> convert<i>{Tv,Ti}</i>(::<b>Type{SparseMatrixCSC{Tv,Ti}}</b>,M::<b>Array{T,2}</b>) at <a href=\"https://github.com/JuliaLang/julia/tree/c03f413bbdb46c00033f4eaad402995cfe3b7be5/base/sparse/sparsematrix.jl#L162\" target=\"_blank\">sparse/sparsematrix.jl:162</a><li> convert<i>{T}</i>(::<b>Type{SymTridiagonal{T}}</b>,M::<b>SymTridiagonal{T}</b>) at <a href=\"https://github.com/JuliaLang/julia/tree/c03f413bbdb46c00033f4eaad402995cfe3b7be5/base/linalg/tridiag.jl#L232\" target=\"_blank\">linalg/tridiag.jl:232</a><li> convert<i>{T}</i>(::<b>Type{Tridiagonal{T}}</b>,M::<b>SymTridiagonal{T}</b>) at <a href=\"https://github.com/JuliaLang/julia/tree/c03f413bbdb46c00033f4eaad402995cfe3b7be5/base/linalg/tridiag.jl#L229\" target=\"_blank\">linalg/tridiag.jl:229</a><li> convert(::<b>Type{Tridiagonal{T}}</b>,A::<b>SymTridiagonal{T}</b>) at <a href=\"https://github.com/JuliaLang/julia/tree/c03f413bbdb46c00033f4eaad402995cfe3b7be5/base/linalg/tridiag.jl#L221\" target=\"_blank\">linalg/tridiag.jl:221</a><li> convert<i>{T}</i>(::<b>Type{Tridiagonal{T}}</b>,M::<b>Tridiagonal{T}</b>) at <a href=\"https://github.com/JuliaLang/julia/tree/c03f413bbdb46c00033f4eaad402995cfe3b7be5/base/linalg/tridiag.jl#L227\" target=\"_blank\">linalg/tridiag.jl:227</a><li> convert<i>{T}</i>(::<b>Type{SymTridiagonal{T}}</b>,M::<b>Tridiagonal{T}</b>) at <a href=\"https://github.com/JuliaLang/julia/tree/c03f413bbdb46c00033f4eaad402995cfe3b7be5/base/linalg/tridiag.jl#L230\" target=\"_blank\">linalg/tridiag.jl:230</a><li> convert<i>{T,S<:AbstractArray{T,2},UpLo,IsUnit}</i>(::<b>Type{Triangular{T,S<:AbstractArray{T,2},UpLo,IsUnit}}</b>,A::<b>Triangular{T,S<:AbstractArray{T,2},UpLo,IsUnit}</b>) at <a href=\"https://github.com/JuliaLang/julia/tree/c03f413bbdb46c00033f4eaad402995cfe3b7be5/base/linalg/triangular.jl#L96\" target=\"_blank\">linalg/triangular.jl:96</a><li> convert<i>{T,S<:AbstractArray{T,2},UpLo,IsUnit}</i>(::<b>Type{Triangular{T,S<:AbstractArray{T,2},UpLo,IsUnit}}</b>,A::<b>Triangular{T,S<:AbstractArray{T,2},UpLo,IsUnit}</b>) at <a href=\"https://github.com/JuliaLang/julia/tree/c03f413bbdb46c00033f4eaad402995cfe3b7be5/base/linalg/triangular.jl#L97\" target=\"_blank\">linalg/triangular.jl:97</a><li> convert<i>{T}</i>(::<b>Type{Cholesky{T}}</b>,C::<b>Cholesky{T}</b>) at <a href=\"https://github.com/JuliaLang/julia/tree/c03f413bbdb46c00033f4eaad402995cfe3b7be5/base/linalg/factorization.jl#L46\" target=\"_blank\">linalg/factorization.jl:46</a><li> convert<i>{T}</i>(::<b>Type{Factorization{T}}</b>,C::<b>Cholesky{T}</b>) at <a href=\"https://github.com/JuliaLang/julia/tree/c03f413bbdb46c00033f4eaad402995cfe3b7be5/base/linalg/factorization.jl#L47\" target=\"_blank\">linalg/factorization.jl:47</a><li> convert<i>{T}</i>(::<b>Type{CholeskyPivoted{T}}</b>,C::<b>CholeskyPivoted{T}</b>) at <a href=\"https://github.com/JuliaLang/julia/tree/c03f413bbdb46c00033f4eaad402995cfe3b7be5/base/linalg/factorization.jl#L48\" target=\"_blank\">linalg/factorization.jl:48</a><li> convert<i>{T}</i>(::<b>Type{Factorization{T}}</b>,C::<b>CholeskyPivoted{T}</b>) at <a href=\"https://github.com/JuliaLang/julia/tree/c03f413bbdb46c00033f4eaad402995cfe3b7be5/base/linalg/factorization.jl#L49\" target=\"_blank\">linalg/factorization.jl:49</a><li> convert<i>{T}</i>(::<b>Type{QR{T}}</b>,A::<b>QR{T}</b>) at <a href=\"https://github.com/JuliaLang/julia/tree/c03f413bbdb46c00033f4eaad402995cfe3b7be5/base/linalg/factorization.jl#L191\" target=\"_blank\">linalg/factorization.jl:191</a><li> convert<i>{T}</i>(::<b>Type{Factorization{T}}</b>,A::<b>QR{T}</b>) at <a href=\"https://github.com/JuliaLang/julia/tree/c03f413bbdb46c00033f4eaad402995cfe3b7be5/base/linalg/factorization.jl#L192\" target=\"_blank\">linalg/factorization.jl:192</a><li> convert<i>{T}</i>(::<b>Type{QRCompactWY{T}}</b>,A::<b>QRCompactWY{S}</b>) at <a href=\"https://github.com/JuliaLang/julia/tree/c03f413bbdb46c00033f4eaad402995cfe3b7be5/base/linalg/factorization.jl#L193\" target=\"_blank\">linalg/factorization.jl:193</a><li> convert<i>{T}</i>(::<b>Type{Factorization{T}}</b>,A::<b>QRCompactWY{S}</b>) at <a href=\"https://github.com/JuliaLang/julia/tree/c03f413bbdb46c00033f4eaad402995cfe3b7be5/base/linalg/factorization.jl#L194\" target=\"_blank\">linalg/factorization.jl:194</a><li> convert<i>{T}</i>(::<b>Type{QRPivoted{T}}</b>,A::<b>QRPivoted{T}</b>) at <a href=\"https://github.com/JuliaLang/julia/tree/c03f413bbdb46c00033f4eaad402995cfe3b7be5/base/linalg/factorization.jl#L195\" target=\"_blank\">linalg/factorization.jl:195</a><li> convert<i>{T}</i>(::<b>Type{Factorization{T}}</b>,A::<b>QRPivoted{T}</b>) at <a href=\"https://github.com/JuliaLang/julia/tree/c03f413bbdb46c00033f4eaad402995cfe3b7be5/base/linalg/factorization.jl#L196\" target=\"_blank\">linalg/factorization.jl:196</a><li> convert<i>{T}</i>(::<b>Type{QRPackedQ{T}}</b>,Q::<b>QRPackedQ{T}</b>) at <a href=\"https://github.com/JuliaLang/julia/tree/c03f413bbdb46c00033f4eaad402995cfe3b7be5/base/linalg/factorization.jl#L236\" target=\"_blank\">linalg/factorization.jl:236</a><li> convert<i>{S}</i>(::<b>Type{QRCompactWYQ{S}}</b>,Q::<b>QRCompactWYQ{S}</b>) at <a href=\"https://github.com/JuliaLang/julia/tree/c03f413bbdb46c00033f4eaad402995cfe3b7be5/base/linalg/factorization.jl#L238\" target=\"_blank\">linalg/factorization.jl:238</a><li> convert<i>{T}</i>(::<b>Type{Factorization{T}}</b>,F::<b>LU{T,S<:AbstractArray{T,2}}</b>) at <a href=\"https://github.com/JuliaLang/julia/tree/c03f413bbdb46c00033f4eaad402995cfe3b7be5/base/linalg/lu.jl#L80\" target=\"_blank\">linalg/lu.jl:80</a><li> convert<i>{T}</i>(::<b>Type{Factorization{T}}</b>,B::<b>BunchKaufman{T}</b>) at <a href=\"https://github.com/JuliaLang/julia/tree/c03f413bbdb46c00033f4eaad402995cfe3b7be5/base/linalg/bunchkaufman.jl#L25\" target=\"_blank\">linalg/bunchkaufman.jl:25</a><li> convert<i>{T,S,U}</i>(::<b>Type{Factorization{T}}</b>,F::<b>LDLt{S,U}</b>) at <a href=\"https://github.com/JuliaLang/julia/tree/c03f413bbdb46c00033f4eaad402995cfe3b7be5/base/linalg/ldlt.jl#L13\" target=\"_blank\">linalg/ldlt.jl:13</a><li> convert<i>{T}</i>(::<b>Type{Factorization{T}}</b>,F::<b>Factorization{T}</b>) at <a href=\"https://github.com/JuliaLang/julia/tree/c03f413bbdb46c00033f4eaad402995cfe3b7be5/base/linalg/factorization.jl#L805\" target=\"_blank\">linalg/factorization.jl:805</a><li> convert<i>{T}</i>(::<b>Type{LU{T,S<:AbstractArray{T,2}}}</b>,F::<b>LU{T,S<:AbstractArray{T,2}}</b>) at <a href=\"https://github.com/JuliaLang/julia/tree/c03f413bbdb46c00033f4eaad402995cfe3b7be5/base/linalg/lu.jl#L76\" target=\"_blank\">linalg/lu.jl:76</a><li> convert<i>{T,S}</i>(::<b>Type{LU{T,S}}</b>,F::<b>LU{T,S<:AbstractArray{T,2}}</b>) at <a href=\"https://github.com/JuliaLang/julia/tree/c03f413bbdb46c00033f4eaad402995cfe3b7be5/base/linalg/lu.jl#L79\" target=\"_blank\">linalg/lu.jl:79</a><li> convert<i>{T}</i>(::<b>Type{BunchKaufman{T}}</b>,B::<b>BunchKaufman{T}</b>) at <a href=\"https://github.com/JuliaLang/julia/tree/c03f413bbdb46c00033f4eaad402995cfe3b7be5/base/linalg/bunchkaufman.jl#L24\" target=\"_blank\">linalg/bunchkaufman.jl:24</a><li> convert<i>{T}</i>(::<b>Type{Symmetric{T}}</b>,A::<b>Symmetric{T}</b>) at <a href=\"https://github.com/JuliaLang/julia/tree/c03f413bbdb46c00033f4eaad402995cfe3b7be5/base/linalg/symmetric.jl#L20\" target=\"_blank\">linalg/symmetric.jl:20</a><li> convert<i>{T}</i>(::<b>Type{Hermitian{T}}</b>,A::<b>Hermitian{T}</b>) at <a href=\"https://github.com/JuliaLang/julia/tree/c03f413bbdb46c00033f4eaad402995cfe3b7be5/base/linalg/symmetric.jl#L22\" target=\"_blank\">linalg/symmetric.jl:22</a><li> convert<i>{T}</i>(::<b>Type{Diagonal{T}}</b>,D::<b>Diagonal{T}</b>) at <a href=\"https://github.com/JuliaLang/julia/tree/c03f413bbdb46c00033f4eaad402995cfe3b7be5/base/linalg/diagonal.jl#L8\" target=\"_blank\">linalg/diagonal.jl:8</a><li> convert<i>{T}</i>(::<b>Type{Diagonal{T}}</b>,D::<b>Diagonal{T}</b>) at <a href=\"https://github.com/JuliaLang/julia/tree/c03f413bbdb46c00033f4eaad402995cfe3b7be5/base/linalg/diagonal.jl#L9\" target=\"_blank\">linalg/diagonal.jl:9</a><li> convert<i>{T}</i>(::<b>Type{Triangular{T,S<:AbstractArray{T,2},UpLo,IsUnit}}</b>,A::<b>Diagonal{T}</b>) at <a href=\"https://github.com/JuliaLang/julia/tree/c03f413bbdb46c00033f4eaad402995cfe3b7be5/base/linalg/diagonal.jl#L11\" target=\"_blank\">linalg/diagonal.jl:11</a><li> convert<i>{T}</i>(::<b>Type{Tridiagonal{T}}</b>,A::<b>Bidiagonal{T}</b>) at <a href=\"https://github.com/JuliaLang/julia/tree/c03f413bbdb46c00033f4eaad402995cfe3b7be5/base/linalg/bidiag.jl#L38\" target=\"_blank\">linalg/bidiag.jl:38</a><li> convert<i>{T}</i>(::<b>Type{Bidiagonal{T}}</b>,A::<b>Diagonal{T}</b>) at <a href=\"https://github.com/JuliaLang/julia/tree/c03f413bbdb46c00033f4eaad402995cfe3b7be5/base/linalg/special.jl#L4\" target=\"_blank\">linalg/special.jl:4</a><li> convert<i>{T}</i>(::<b>Type{SymTridiagonal{T}}</b>,A::<b>Diagonal{T}</b>) at <a href=\"https://github.com/JuliaLang/julia/tree/c03f413bbdb46c00033f4eaad402995cfe3b7be5/base/linalg/special.jl#L5\" target=\"_blank\">linalg/special.jl:5</a><li> convert<i>{T}</i>(::<b>Type{Tridiagonal{T}}</b>,A::<b>Diagonal{T}</b>) at <a href=\"https://github.com/JuliaLang/julia/tree/c03f413bbdb46c00033f4eaad402995cfe3b7be5/base/linalg/special.jl#L6\" target=\"_blank\">linalg/special.jl:6</a><li> convert(::<b>Type{Triangular{T,S<:AbstractArray{T,2},UpLo,IsUnit}}</b>,A::<b>Diagonal{T}</b>) at <a href=\"https://github.com/JuliaLang/julia/tree/c03f413bbdb46c00033f4eaad402995cfe3b7be5/base/linalg/special.jl#L7\" target=\"_blank\">linalg/special.jl:7</a><li> convert(::<b>Type{Triangular{T,S<:AbstractArray{T,2},UpLo,IsUnit}}</b>,A::<b>Bidiagonal{T}</b>) at <a href=\"https://github.com/JuliaLang/julia/tree/c03f413bbdb46c00033f4eaad402995cfe3b7be5/base/linalg/special.jl#L8\" target=\"_blank\">linalg/special.jl:8</a><li> convert(::<b>Type{Diagonal{T}}</b>,A::<b>Union(SymTridiagonal{T},Bidiagonal{T})</b>) at <a href=\"https://github.com/JuliaLang/julia/tree/c03f413bbdb46c00033f4eaad402995cfe3b7be5/base/linalg/special.jl#L12\" target=\"_blank\">linalg/special.jl:12</a><li> convert(::<b>Type{SymTridiagonal{T}}</b>,A::<b>Bidiagonal{T}</b>) at <a href=\"https://github.com/JuliaLang/julia/tree/c03f413bbdb46c00033f4eaad402995cfe3b7be5/base/linalg/special.jl#L17\" target=\"_blank\">linalg/special.jl:17</a><li> convert<i>{T}</i>(::<b>Type{Tridiagonal{T}}</b>,A::<b>Bidiagonal{T}</b>) at <a href=\"https://github.com/JuliaLang/julia/tree/c03f413bbdb46c00033f4eaad402995cfe3b7be5/base/linalg/special.jl#L21\" target=\"_blank\">linalg/special.jl:21</a><li> convert(::<b>Type{Bidiagonal{T}}</b>,A::<b>SymTridiagonal{T}</b>) at <a href=\"https://github.com/JuliaLang/julia/tree/c03f413bbdb46c00033f4eaad402995cfe3b7be5/base/linalg/special.jl#L24\" target=\"_blank\">linalg/special.jl:24</a><li> convert(::<b>Type{Diagonal{T}}</b>,A::<b>Tridiagonal{T}</b>) at <a href=\"https://github.com/JuliaLang/julia/tree/c03f413bbdb46c00033f4eaad402995cfe3b7be5/base/linalg/special.jl#L29\" target=\"_blank\">linalg/special.jl:29</a><li> convert(::<b>Type{Bidiagonal{T}}</b>,A::<b>Tridiagonal{T}</b>) at <a href=\"https://github.com/JuliaLang/julia/tree/c03f413bbdb46c00033f4eaad402995cfe3b7be5/base/linalg/special.jl#L34\" target=\"_blank\">linalg/special.jl:34</a><li> convert(::<b>Type{SymTridiagonal{T}}</b>,A::<b>Tridiagonal{T}</b>) at <a href=\"https://github.com/JuliaLang/julia/tree/c03f413bbdb46c00033f4eaad402995cfe3b7be5/base/linalg/special.jl#L41\" target=\"_blank\">linalg/special.jl:41</a><li> convert(::<b>Type{Diagonal{T}}</b>,A::<b>Triangular{T,S<:AbstractArray{T,2},UpLo,IsUnit}</b>) at <a href=\"https://github.com/JuliaLang/julia/tree/c03f413bbdb46c00033f4eaad402995cfe3b7be5/base/linalg/special.jl#L46\" target=\"_blank\">linalg/special.jl:46</a><li> convert(::<b>Type{Bidiagonal{T}}</b>,A::<b>Triangular{T,S<:AbstractArray{T,2},UpLo,IsUnit}</b>) at <a href=\"https://github.com/JuliaLang/julia/tree/c03f413bbdb46c00033f4eaad402995cfe3b7be5/base/linalg/special.jl#L51\" target=\"_blank\">linalg/special.jl:51</a><li> convert(::<b>Type{SymTridiagonal{T}}</b>,A::<b>Triangular{T,S<:AbstractArray{T,2},UpLo,IsUnit}</b>) at <a href=\"https://github.com/JuliaLang/julia/tree/c03f413bbdb46c00033f4eaad402995cfe3b7be5/base/linalg/special.jl#L61\" target=\"_blank\">linalg/special.jl:61</a><li> convert(::<b>Type{Tridiagonal{T}}</b>,A::<b>Triangular{T,S<:AbstractArray{T,2},UpLo,IsUnit}</b>) at <a href=\"https://github.com/JuliaLang/julia/tree/c03f413bbdb46c00033f4eaad402995cfe3b7be5/base/linalg/special.jl#L64\" target=\"_blank\">linalg/special.jl:64</a><li> convert<i>{T,S,U<:AbstractArray{T,2}}</i>(::<b>Type{LDLt{T,S<:AbstractArray{T,2}}}</b>,F::<b>LDLt{S,U<:AbstractArray{T,2}}</b>) at <a href=\"https://github.com/JuliaLang/julia/tree/c03f413bbdb46c00033f4eaad402995cfe3b7be5/base/linalg/ldlt.jl#L11\" target=\"_blank\">linalg/ldlt.jl:11</a><li> convert<i>{T,S}</i>(::<b>Type{LDLt{T,S}}</b>,F::<b>LDLt{T,S<:AbstractArray{T,2}}</b>) at <a href=\"https://github.com/JuliaLang/julia/tree/c03f413bbdb46c00033f4eaad402995cfe3b7be5/base/linalg/ldlt.jl#L8\" target=\"_blank\">linalg/ldlt.jl:8</a><li> convert(::<b>Type{FloatingPoint}</b>,x::<b>MathConst{sym}</b>) at <a href=\"https://github.com/JuliaLang/julia/tree/c03f413bbdb46c00033f4eaad402995cfe3b7be5/base/constants.jl#L11\" target=\"_blank\">constants.jl:11</a><li> convert(::<b>Type{Float16}</b>,x::<b>MathConst{sym}</b>) at <a href=\"https://github.com/JuliaLang/julia/tree/c03f413bbdb46c00033f4eaad402995cfe3b7be5/base/constants.jl#L12\" target=\"_blank\">constants.jl:12</a><li> convert<i>{T<:Integer}</i>(::<b>Type{Rational{T<:Integer}}</b>,x::<b>MathConst{sym}</b>) at <a href=\"https://github.com/JuliaLang/julia/tree/c03f413bbdb46c00033f4eaad402995cfe3b7be5/base/constants.jl#L14\" target=\"_blank\">constants.jl:14</a><li> convert(::<b>Type{Float64}</b>,::<b>MathConst{:\u03c0}</b>) at <a href=\"https://github.com/JuliaLang/julia/tree/c03f413bbdb46c00033f4eaad402995cfe3b7be5/base/constants.jl#L43\" target=\"_blank\">constants.jl:43</a><li> convert(::<b>Type{Float32}</b>,::<b>MathConst{:\u03c0}</b>) at <a href=\"https://github.com/JuliaLang/julia/tree/c03f413bbdb46c00033f4eaad402995cfe3b7be5/base/constants.jl#L44\" target=\"_blank\">constants.jl:44</a><li> convert(::<b>Type{Float64}</b>,::<b>MathConst{:e}</b>) at <a href=\"https://github.com/JuliaLang/julia/tree/c03f413bbdb46c00033f4eaad402995cfe3b7be5/base/constants.jl#L43\" target=\"_blank\">constants.jl:43</a><li> convert(::<b>Type{Float32}</b>,::<b>MathConst{:e}</b>) at <a href=\"https://github.com/JuliaLang/julia/tree/c03f413bbdb46c00033f4eaad402995cfe3b7be5/base/constants.jl#L44\" target=\"_blank\">constants.jl:44</a><li> convert(::<b>Type{Float64}</b>,::<b>MathConst{:\u03b3}</b>) at <a href=\"https://github.com/JuliaLang/julia/tree/c03f413bbdb46c00033f4eaad402995cfe3b7be5/base/constants.jl#L43\" target=\"_blank\">constants.jl:43</a><li> convert(::<b>Type{Float32}</b>,::<b>MathConst{:\u03b3}</b>) at <a href=\"https://github.com/JuliaLang/julia/tree/c03f413bbdb46c00033f4eaad402995cfe3b7be5/base/constants.jl#L44\" target=\"_blank\">constants.jl:44</a><li> convert(::<b>Type{Float64}</b>,::<b>MathConst{:catalan}</b>) at <a href=\"https://github.com/JuliaLang/julia/tree/c03f413bbdb46c00033f4eaad402995cfe3b7be5/base/constants.jl#L43\" target=\"_blank\">constants.jl:43</a><li> convert(::<b>Type{Float32}</b>,::<b>MathConst{:catalan}</b>) at <a href=\"https://github.com/JuliaLang/julia/tree/c03f413bbdb46c00033f4eaad402995cfe3b7be5/base/constants.jl#L44\" target=\"_blank\">constants.jl:44</a><li> convert(::<b>Type{Float64}</b>,::<b>MathConst{:\u03c6}</b>) at <a href=\"https://github.com/JuliaLang/julia/tree/c03f413bbdb46c00033f4eaad402995cfe3b7be5/base/constants.jl#L43\" target=\"_blank\">constants.jl:43</a><li> convert(::<b>Type{Float32}</b>,::<b>MathConst{:\u03c6}</b>) at <a href=\"https://github.com/JuliaLang/julia/tree/c03f413bbdb46c00033f4eaad402995cfe3b7be5/base/constants.jl#L44\" target=\"_blank\">constants.jl:44</a><li> convert<i>{T}</i>(p::<b>Type{Ptr{T}}</b>,a::<b>Array{T,N}</b>) at <a href=\"https://github.com/JuliaLang/julia/tree/c03f413bbdb46c00033f4eaad402995cfe3b7be5/base/deprecated.jl#L26\" target=\"_blank\">deprecated.jl:26</a><li> convert(::<b>Type{Ptr{Uint8}}</b>,zmsg::<b>Message</b>) at <a href=\"https://github.com/JuliaLang/ZMQ.jl/tree/239381009d8127d621724b3fa6c4734ce660f979/src/ZMQ.jl#L422\" target=\"_blank\">/Users/harmeling/.julia/v0.3/ZMQ/src/ZMQ.jl:422</a><li> convert(::<b>Type{IOStream}</b>,zmsg::<b>Message</b>) at <a href=\"https://github.com/JuliaLang/ZMQ.jl/tree/239381009d8127d621724b3fa6c4734ce660f979/src/ZMQ.jl#L442\" target=\"_blank\">/Users/harmeling/.julia/v0.3/ZMQ/src/ZMQ.jl:442</a><li> convert(T,x) at <a href=\"https://github.com/JuliaLang/julia/tree/c03f413bbdb46c00033f4eaad402995cfe3b7be5/base/base.jl#L13\" target=\"_blank\">base.jl:13</a></ul>"
       ],
       "metadata": {},
       "output_type": "pyout",
       "prompt_number": 51,
       "text": [
        "# 444 methods for generic function \"convert\":\n",
        "convert(::(),::()) at base.jl:15\n",
        "convert(::Type{(Any...,)},x::(Any...,)) at base.jl:16\n",
        "convert{T}(::Type{(T...,)},x::(Any...,)) at base.jl:24\n",
        "convert(T::(Any,Any...),x::(Any,Any...)) at base.jl:21\n",
        "convert{T}(::Type{FloatRange{T}},r::FloatRange{T<:FloatingPoint}) at range.jl:468\n",
        "convert{T}(::Type{FloatRange{T}},r::OrdinalRange{T,S}) at range.jl:473\n",
        "convert{T}(::Type{Array{T,1}},r::Range{T}) at range.jl:508\n",
        "convert(::Type{Bool},x::Bool) at bool.jl:3\n",
        "convert(::Type{Bool},x::Rational{T<:Integer}) at rational.jl:44\n",
        "convert(::Type{Bool},x::Float16) at float16.jl:99\n",
        "convert(::Type{Bool},x::Real) at bool.jl:4\n",
        "convert(::Type{Int8},x::Bool) at int.jl:288\n",
        "convert(::Type{Int8},x::Uint8) at int.jl:291\n",
        "convert(::Type{Int8},x::Int16) at int.jl:283\n",
        "convert(::Type{Int8},x::Uint16) at int.jl:283\n",
        "convert(::Type{Int8},x::Int32) at int.jl:283\n",
        "convert(::Type{Int8},x::Uint32) at int.jl:283\n",
        "convert(::Type{Int8},x::Char) at int.jl:283\n",
        "convert(::Type{Int8},x::Int64) at int.jl:283\n",
        "convert(::Type{Int8},x::Uint64) at int.jl:283\n",
        "convert(::Type{Int8},x::Int128) at int.jl:283\n",
        "convert(::Type{Int8},x::Uint128) at int.jl:283\n",
        "convert(::Type{Uint8},x::Bool) at int.jl:288\n",
        "convert(::Type{Uint8},x::Int8) at int.jl:291\n",
        "convert(::Type{Uint8},x::Int16) at int.jl:283\n",
        "convert(::Type{Uint8},x::Uint16) at int.jl:283\n",
        "convert(::Type{Uint8},x::Int32) at int.jl:283\n",
        "convert(::Type{Uint8},x::Uint32) at int.jl:283\n",
        "convert(::Type{Uint8},x::Char) at int.jl:283\n",
        "convert(::Type{Uint8},x::Int64) at int.jl:283\n",
        "convert(::Type{Uint8},x::Uint64) at int.jl:283\n",
        "convert(::Type{Uint8},x::Int128) at int.jl:283\n",
        "convert(::Type{Uint8},x::Uint128) at int.jl:283\n",
        "convert(::Type{Int16},x::Bool) at int.jl:288\n",
        "convert(::Type{Int16},x::Int8) at int.jl:286\n",
        "convert(::Type{Int16},x::Uint8) at int.jl:288\n",
        "convert(::Type{Int16},x::Uint16) at int.jl:291\n",
        "convert(::Type{Int16},x::Int32) at int.jl:283\n",
        "convert(::Type{Int16},x::Uint32) at int.jl:283\n",
        "convert(::Type{Int16},x::Char) at int.jl:283\n",
        "convert(::Type{Int16},x::Int64) at int.jl:283\n",
        "convert(::Type{Int16},x::Uint64) at int.jl:283\n",
        "convert(::Type{Int16},x::Int128) at int.jl:283\n",
        "convert(::Type{Int16},x::Uint128) at int.jl:283\n",
        "convert(::Type{Uint16},x::Bool) at int.jl:288\n",
        "convert(::Type{Uint16},x::Int8) at int.jl:286\n",
        "convert(::Type{Uint16},x::Uint8) at int.jl:288\n",
        "convert(::Type{Uint16},x::Int16) at int.jl:291\n",
        "convert(::Type{Uint16},x::Int32) at int.jl:283\n",
        "convert(::Type{Uint16},x::Uint32) at int.jl:283\n",
        "convert(::Type{Uint16},x::Char) at int.jl:283\n",
        "convert(::Type{Uint16},x::Int64) at int.jl:283\n",
        "convert(::Type{Uint16},x::Uint64) at int.jl:283\n",
        "convert(::Type{Uint16},x::Int128) at int.jl:283\n",
        "convert(::Type{Uint16},x::Uint128) at int.jl:283\n",
        "convert(::Type{Int32},x::Bool) at int.jl:288\n",
        "convert(::Type{Int32},x::Int8) at int.jl:286\n",
        "convert(::Type{Int32},x::Uint8) at int.jl:288\n",
        "convert(::Type{Int32},x::Int16) at int.jl:286\n",
        "convert(::Type{Int32},x::Uint16) at int.jl:288\n",
        "convert(::Type{Int32},x::Uint32) at int.jl:291\n",
        "convert(::Type{Int32},x::Char) at int.jl:291\n",
        "convert(::Type{Int32},x::Int64) at int.jl:283\n",
        "convert(::Type{Int32},x::Uint64) at int.jl:283\n",
        "convert(::Type{Int32},x::Int128) at int.jl:283\n",
        "convert(::Type{Int32},x::Uint128) at int.jl:283\n",
        "convert(::Type{Uint32},x::Bool) at int.jl:288\n",
        "convert(::Type{Uint32},x::Int8) at int.jl:286\n",
        "convert(::Type{Uint32},x::Uint8) at int.jl:288\n",
        "convert(::Type{Uint32},x::Int16) at int.jl:286\n",
        "convert(::Type{Uint32},x::Uint16) at int.jl:288\n",
        "convert(::Type{Uint32},x::Int32) at int.jl:291\n",
        "convert(::Type{Uint32},x::Char) at int.jl:291\n",
        "convert(::Type{Uint32},x::Int64) at int.jl:283\n",
        "convert(::Type{Uint32},x::Uint64) at int.jl:283\n",
        "convert(::Type{Uint32},x::Int128) at int.jl:283\n",
        "convert(::Type{Uint32},x::Uint128) at int.jl:283\n",
        "convert(::Type{Char},x::Bool) at int.jl:288\n",
        "convert(::Type{Char},x::Int8) at int.jl:286\n",
        "convert(::Type{Char},x::Uint8) at int.jl:288\n",
        "convert(::Type{Char},x::Int16) at int.jl:286\n",
        "convert(::Type{Char},x::Uint16) at int.jl:288\n",
        "convert(::Type{Char},x::Int32) at int.jl:291\n",
        "convert(::Type{Char},x::Uint32) at int.jl:291\n",
        "convert(::Type{Char},x::Int64) at int.jl:283\n",
        "convert(::Type{Char},x::Uint64) at int.jl:283\n",
        "convert(::Type{Char},x::Int128) at int.jl:283\n",
        "convert(::Type{Char},x::Uint128) at int.jl:283\n",
        "convert(::Type{Int64},x::Bool) at int.jl:288\n",
        "convert(::Type{Int64},x::Int8) at int.jl:286\n",
        "convert(::Type{Int64},x::Uint8) at int.jl:288\n",
        "convert(::Type{Int64},x::Int16) at int.jl:286\n",
        "convert(::Type{Int64},x::Uint16) at int.jl:288\n",
        "convert(::Type{Int64},x::Int32) at int.jl:286\n",
        "convert(::Type{Int64},x::Uint32) at int.jl:288\n",
        "convert(::Type{Int64},x::Char) at int.jl:288\n",
        "convert(::Type{Int64},x::Uint64) at int.jl:291\n",
        "convert(::Type{Int64},x::Int128) at int.jl:283\n",
        "convert(::Type{Int64},x::Uint128) at int.jl:283\n",
        "convert(::Type{Uint64},x::Bool) at int.jl:288\n",
        "convert(::Type{Uint64},x::Int8) at int.jl:286\n",
        "convert(::Type{Uint64},x::Uint8) at int.jl:288\n",
        "convert(::Type{Uint64},x::Int16) at int.jl:286\n",
        "convert(::Type{Uint64},x::Uint16) at int.jl:288\n",
        "convert(::Type{Uint64},x::Int32) at int.jl:286\n",
        "convert(::Type{Uint64},x::Uint32) at int.jl:288\n",
        "convert(::Type{Uint64},x::Char) at int.jl:288\n",
        "convert(::Type{Uint64},x::Int64) at int.jl:291\n",
        "convert(::Type{Uint64},x::Int128) at int.jl:283\n",
        "convert(::Type{Uint64},x::Uint128) at int.jl:283\n",
        "convert(::Type{Int128},x::Bool) at int.jl:288\n",
        "convert(::Type{Int128},x::Int8) at int.jl:286\n",
        "convert(::Type{Int128},x::Uint8) at int.jl:288\n",
        "convert(::Type{Int128},x::Int16) at int.jl:286\n",
        "convert(::Type{Int128},x::Uint16) at int.jl:288\n",
        "convert(::Type{Int128},x::Int32) at int.jl:286\n",
        "convert(::Type{Int128},x::Uint32) at int.jl:288\n",
        "convert(::Type{Int128},x::Char) at int.jl:288\n",
        "convert(::Type{Int128},x::Int64) at int.jl:286\n",
        "convert(::Type{Int128},x::Uint64) at int.jl:288\n",
        "convert(::Type{Int128},x::Uint128) at int.jl:291\n",
        "convert(::Type{Uint128},x::Bool) at int.jl:288\n",
        "convert(::Type{Uint128},x::Int8) at int.jl:286\n",
        "convert(::Type{Uint128},x::Uint8) at int.jl:288\n",
        "convert(::Type{Uint128},x::Int16) at int.jl:286\n",
        "convert(::Type{Uint128},x::Uint16) at int.jl:288\n",
        "convert(::Type{Uint128},x::Int32) at int.jl:286\n",
        "convert(::Type{Uint128},x::Uint32) at int.jl:288\n",
        "convert(::Type{Uint128},x::Char) at int.jl:288\n",
        "convert(::Type{Uint128},x::Int64) at int.jl:286\n",
        "convert(::Type{Uint128},x::Uint64) at int.jl:288\n",
        "convert(::Type{Uint128},x::Int128) at int.jl:291\n",
        "convert(::Type{Int8},x::Float32) at int.jl:298\n",
        "convert(::Type{Int8},x::Float64) at int.jl:299\n",
        "convert(::Type{Int16},x::Float32) at int.jl:298\n",
        "convert(::Type{Int16},x::Float64) at int.jl:299\n",
        "convert(::Type{Int32},x::Float32) at int.jl:298\n",
        "convert(::Type{Int32},x::Float64) at int.jl:299\n",
        "convert(::Type{Int64},x::Float32) at int.jl:298\n",
        "convert(::Type{Int64},x::Float64) at int.jl:299\n",
        "convert(::Type{Uint8},x::Float32) at int.jl:305\n",
        "convert(::Type{Uint8},x::Float64) at int.jl:306\n",
        "convert(::Type{Uint16},x::Float32) at int.jl:305\n",
        "convert(::Type{Uint16},x::Float64) at int.jl:306\n",
        "convert(::Type{Uint32},x::Float32) at int.jl:305\n",
        "convert(::Type{Uint32},x::Float64) at int.jl:306\n",
        "convert(::Type{Uint64},x::Float32) at int.jl:305\n",
        "convert(::Type{Uint64},x::Float64) at int.jl:306\n",
        "convert(::Type{Int128},x::Float32) at int.jl:317\n",
        "convert(::Type{Int128},x::Float16) at float16.jl:100\n",
        "convert(::Type{Int128},x::FloatingPoint) at int.jl:311\n",
        "convert(::Type{Uint128},x::Float32) at int.jl:326\n",
        "convert(::Type{Uint128},x::Float16) at float16.jl:101\n",
        "convert(::Type{Uint128},x::FloatingPoint) at int.jl:320\n",
        "convert(::Type{Char},x::Float32) at int.jl:328\n",
        "convert(::Type{Char},x::Float64) at int.jl:329\n",
        "convert(::Type{Signed},x::Uint8) at int.jl:331\n",
        "convert(::Type{Signed},x::Uint16) at int.jl:332\n",
        "convert(::Type{Signed},x::Uint32) at int.jl:333\n",
        "convert(::Type{Signed},x::Uint64) at int.jl:334\n",
        "convert(::Type{Signed},x::Uint128) at int.jl:335\n",
        "convert(::Type{Signed},x::Float32) at int.jl:336\n",
        "convert(::Type{Signed},x::Float64) at int.jl:337\n",
        "convert(::Type{Signed},x::Char) at int.jl:338\n",
        "convert(::Type{Unsigned},x::Int8) at int.jl:340\n",
        "convert(::Type{Unsigned},x::Int16) at int.jl:341\n",
        "convert(::Type{Unsigned},x::Int32) at int.jl:342\n",
        "convert(::Type{Unsigned},x::Int64) at int.jl:343\n",
        "convert(::Type{Unsigned},x::Int128) at int.jl:344\n",
        "convert(::Type{Unsigned},x::Float32) at int.jl:345\n",
        "convert(::Type{Unsigned},x::Float64) at int.jl:346\n",
        "convert(::Type{Unsigned},x::Char) at int.jl:347\n",
        "convert(::Type{Integer},x::Float32) at int.jl:349\n",
        "convert(::Type{Integer},x::Float64) at int.jl:350\n",
        "convert(::Type{Uint64},x::Ptr{T}) at pointer.jl:6\n",
        "convert{T<:Integer}(::Type{T<:Integer},x::Ptr{T}) at pointer.jl:7\n",
        "convert{T}(::Type{Ptr{T}},x::Integer) at pointer.jl:10\n",
        "convert{T}(::Type{Ptr{T}},p::Ptr{T}) at pointer.jl:13\n",
        "convert{T}(::Type{Ptr{T}},p::Ptr{T}) at pointer.jl:14\n",
        "convert(::Type{Ptr{Uint8}},x::Symbol) at pointer.jl:17\n",
        "convert(::Type{Ptr{Int8}},x::Symbol) at pointer.jl:18\n",
        "convert(::Type{Ptr{Uint8}},s::Union(ASCIIString,UTF8String)) at pointer.jl:19\n",
        "convert(::Type{Ptr{Int8}},s::Union(ASCIIString,UTF8String)) at pointer.jl:20\n",
        "convert(::Type{Ptr{None}},a::Array{T,N}) at pointer.jl:23\n",
        "convert{T}(::Type{Ptr{T}},a::Array{T,N}) at pointer.jl:22\n",
        "convert(::Type{Float32},x::Int128) at float.jl:3\n",
        "convert(::Type{Float32},x::Uint128) at float.jl:4\n",
        "convert(::Type{Float64},x::Int128) at float.jl:8\n",
        "convert(::Type{Float64},x::Uint128) at float.jl:9\n",
        "convert(::Type{Float16},x::Union(Signed,Unsigned)) at float.jl:13\n",
        "convert(::Type{Float32},x::Int8) at float.jl:21\n",
        "convert(::Type{Float32},x::Int16) at float.jl:21\n",
        "convert(::Type{Float32},x::Int32) at float.jl:21\n",
        "convert(::Type{Float32},x::Int64) at float.jl:21\n",
        "convert(::Type{Float32},x::Bool) at float.jl:27\n",
        "convert(::Type{Float32},x::Char) at float.jl:27\n",
        "convert(::Type{Float32},x::Uint8) at float.jl:27\n",
        "convert(::Type{Float32},x::Uint16) at float.jl:27\n",
        "convert(::Type{Float32},x::Uint32) at float.jl:27\n",
        "convert(::Type{Float32},x::Uint64) at float.jl:27\n",
        "convert(::Type{Float64},x::Int8) at float.jl:21\n",
        "convert(::Type{Float64},x::Int16) at float.jl:21\n",
        "convert(::Type{Float64},x::Int32) at float.jl:21\n",
        "convert(::Type{Float64},x::Int64) at float.jl:21\n",
        "convert(::Type{Float64},x::Bool) at float.jl:27\n",
        "convert(::Type{Float64},x::Char) at float.jl:27\n",
        "convert(::Type{Float64},x::Uint8) at float.jl:27\n",
        "convert(::Type{Float64},x::Uint16) at float.jl:27\n",
        "convert(::Type{Float64},x::Uint32) at float.jl:27\n",
        "convert(::Type{Float64},x::Uint64) at float.jl:27\n",
        "convert(::Type{Float16},x::Float64) at float.jl:33\n",
        "convert(::Type{Float32},x::Float64) at float.jl:34\n",
        "convert(::Type{Float64},x::Float16) at float.jl:37\n",
        "convert(::Type{Float64},x::Float32) at float.jl:38\n",
        "convert(::Type{FloatingPoint},x::Bool) at float.jl:40\n",
        "convert(::Type{FloatingPoint},x::Char) at float.jl:41\n",
        "convert(::Type{FloatingPoint},x::Int8) at float.jl:42\n",
        "convert(::Type{FloatingPoint},x::Int16) at float.jl:43\n",
        "convert(::Type{FloatingPoint},x::Int32) at float.jl:44\n",
        "convert(::Type{FloatingPoint},x::Int64) at float.jl:45\n",
        "convert(::Type{FloatingPoint},x::Int128) at float.jl:46\n",
        "convert(::Type{FloatingPoint},x::Uint8) at float.jl:47\n",
        "convert(::Type{FloatingPoint},x::Uint16) at float.jl:48\n",
        "convert(::Type{FloatingPoint},x::Uint32) at float.jl:49\n",
        "convert(::Type{FloatingPoint},x::Uint64) at float.jl:50\n",
        "convert(::Type{FloatingPoint},x::Uint128) at float.jl:51\n",
        "convert{T<:Real}(::Type{Complex{T<:Real}},x::MathConst{sym}) at constants.jl:13\n",
        "convert{T<:Real}(::Type{Complex{T<:Real}},x::Real) at complex.jl:16\n",
        "convert{T<:Real}(::Type{Complex{T<:Real}},z::Complex{T<:Real}) at complex.jl:17\n",
        "convert{T<:Real}(::Type{T<:Real},z::Complex{T<:Real}) at complex.jl:18\n",
        "convert(::Type{Complex{T<:Real}},z::Complex{T<:Real}) at complex.jl:21\n",
        "convert(::Type{Complex{T<:Real}},x::Real) at complex.jl:22\n",
        "convert{T<:Integer}(::Type{Rational{T<:Integer}},x::Rational{T<:Integer}) at rational.jl:38\n",
        "convert{T<:Integer}(::Type{Rational{T<:Integer}},x::Integer) at rational.jl:39\n",
        "convert(::Type{Rational{T<:Integer}},x::Rational{T<:Integer}) at rational.jl:41\n",
        "convert(::Type{Rational{T<:Integer}},x::Integer) at rational.jl:42\n",
        "convert{T<:Integer}(::Type{T<:Integer},x::Rational{T<:Integer}) at rational.jl:45\n",
        "convert(::Type{FloatingPoint},x::Rational{T<:Integer}) at rational.jl:47\n",
        "convert{S}(::Type{BigFloat},x::Rational{S}) at mpfr.jl:88\n",
        "convert{T<:FloatingPoint,S}(::Type{T<:FloatingPoint},x::Rational{S}) at rational.jl:49\n",
        "convert(::Type{Rational{T<:Integer}},x::Float64) at rational.jl:58\n",
        "convert(::Type{Rational{T<:Integer}},x::Float32) at rational.jl:59\n",
        "convert(::Type{Rational{T<:Integer}},x::BigFloat) at mpfr.jl:87\n",
        "convert(::Type{Rational{BigInt}},x::FloatingPoint) at mpfr.jl:128\n",
        "convert{T<:Integer}(::Type{Rational{T<:Integer}},x::FloatingPoint) at rational.jl:54\n",
        "convert{T,N}(::Type{AbstractArray{T,N}},B::BitArray{N}) at bitarray.jl:323\n",
        "convert{T}(::Type{AbstractArray{T,2}},A::SparseMatrixCSC{Tv,Ti<:Integer}) at sparse/sparsematrix.jl:169\n",
        "convert{T}(::Type{AbstractArray{T,2}},S::SymTridiagonal{T}) at linalg/tridiag.jl:23\n",
        "convert{T}(::Type{AbstractArray{T,2}},M::Tridiagonal{T}) at linalg/tridiag.jl:228\n",
        "convert{T,TA,S,UpLo,IsUnit}(::Type{AbstractArray{T,2}},A::Triangular{TA,S,UpLo,IsUnit}) at linalg/triangular.jl:99\n",
        "convert{T}(::Type{AbstractArray{T,2}},Q::QRPackedQ{T}) at linalg/factorization.jl:237\n",
        "convert{S}(::Type{AbstractArray{S,2}},Q::QRCompactWYQ{S}) at linalg/factorization.jl:239\n",
        "convert{T}(::Type{AbstractArray{T,2}},A::Symmetric{T}) at linalg/symmetric.jl:21\n",
        "convert{T}(::Type{AbstractArray{T,2}},A::Hermitian{T}) at linalg/symmetric.jl:23\n",
        "convert{T}(::Type{AbstractArray{T,2}},D::Diagonal{T}) at linalg/diagonal.jl:10\n",
        "convert{T,N}(::Type{AbstractArray{T,N}},A::AbstractArray{T,N}) at abstractarray.jl:306\n",
        "convert{T,S,N}(::Type{AbstractArray{T,N}},A::AbstractArray{S,N}) at abstractarray.jl:307\n",
        "convert{T,S,N}(::Type{AbstractArray{T,N}},A::AbstractArray{S,N}) at abstractarray.jl:308\n",
        "convert{S,T,N}(::Type{Array{S,N}},s::SubArray{T,N,D<:DArray{T,N,A},I<:(Union(Range{Int64},Int64)...,)}) at darray.jl:185\n",
        "convert{T,S,N}(::Type{Array{T,N}},A::SubArray{S,N,A<:AbstractArray{T,N},I<:(Union(Range{Int64},Int64)...,)}) at subarray.jl:404\n",
        "convert{T,n}(::Type{Array{T,n}},x::Array{T,n}) at array.jl:218\n",
        "convert{T,n,S}(::Type{Array{T,n}},x::Array{S,n}) at array.jl:220\n",
        "convert{T,n}(::Type{Array{T,N}},x::Array{T,n}) at array.jl:217\n",
        "convert{T,n,S}(::Type{Array{T,N}},x::Array{S,n}) at array.jl:219\n",
        "convert{T,N}(::Type{Array{T,N}},B::BitArray{N}) at bitarray.jl:284\n",
        "convert{T,N}(::Type{Array{T,N}},B::BitArray{N}) at bitarray.jl:282\n",
        "convert{S,T,N}(::Type{Array{S,N}},d::DArray{T,N,A}) at darray.jl:175\n",
        "convert(::Type{Array{T,N}},S::SharedArray{T,N}) at sharedarray.jl:205\n",
        "convert(::Type{Array{T,2}},S::SparseMatrixCSC{Tv,Ti<:Integer}) at sparse/sparsematrix.jl:170\n",
        "convert{T}(::Type{Array{T,2}},M::SymTridiagonal{T}) at linalg/tridiag.jl:24\n",
        "convert{T}(::Type{Array{T,2}},M::SymTridiagonal{T}) at linalg/tridiag.jl:25\n",
        "convert{T}(::Type{Array{T,2}},M::Tridiagonal{T}) at linalg/tridiag.jl:166\n",
        "convert{T}(::Type{Array{T,2}},M::Tridiagonal{T}) at linalg/tridiag.jl:176\n",
        "convert{Tret,T,S,UpLo,IsUnit}(::Type{Array{Tret,2}},A::Triangular{T,S,UpLo,IsUnit}) at linalg/triangular.jl:103\n",
        "convert{T,S,UpLo,IsUnit}(::Type{Array{T,2}},A::Triangular{T,S,UpLo,IsUnit}) at linalg/triangular.jl:113\n",
        "convert{T}(::Type{Array{T,2}},W::Woodbury{T}) at linalg/woodbury.jl:57\n",
        "convert{T}(::Type{Array{T,2}},A::Bidiagonal{T}) at linalg/bidiag.jl:31\n",
        "convert{T}(::Type{Array{T,2}},A::Bidiagonal{T}) at linalg/bidiag.jl:32\n",
        "convert(::Type{Array{T,2}},D::Diagonal{T}) at linalg/special.jl:9\n",
        "convert{T,N}(::Type{Array{T,N}},A::AbstractArray{T,N}) at abstractarray.jl:310\n",
        "convert{T}(::Type{Ptr{None}},x::SubArray{T,N,A<:AbstractArray{T,N},I<:(Union(Range{Int64},Int64)...,)}) at subarray.jl:403\n",
        "convert{T}(::Type{Ptr{T}},x::SubArray{T,N,A<:AbstractArray{T,N},I<:(Union(Range{Int64},Int64)...,)}) at subarray.jl:401\n",
        "convert{N}(::Type{BitArray{N}},B::BitArray{N}) at bitarray.jl:322\n",
        "convert{T,N}(::Type{BitArray{N}},A::AbstractArray{T,N}) at bitarray.jl:294\n",
        "convert{T,N}(::Type{BitArray{N}},A::AbstractArray{T,N}) at bitarray.jl:292\n",
        "convert{K,V}(::Type{Dict{K,V}},d::Dict{K,V}) at dict.jl:356\n",
        "convert{K,V}(::Type{Dict{K,V}},d::Dict{K,V}) at dict.jl:345\n",
        "convert(::Type{ASCIIString},s::ASCIIString) at ascii.jl:99\n",
        "convert(::Type{ASCIIString},s::UTF8String) at ascii.jl:100\n",
        "convert(::Type{ASCIIString},a::Array{Uint8,1}) at ascii.jl:101\n",
        "convert(::Type{ASCIIString},a::Array{Uint8,1},invalids_as::ASCIIString) at ascii.jl:103\n",
        "convert(::Type{ASCIIString},s::String) at ascii.jl:120\n",
        "convert(::Type{UTF8String},s::UTF8String) at utf8.jl:160\n",
        "convert(::Type{UTF8String},s::ASCIIString) at utf8.jl:161\n",
        "convert(::Type{UTF8String},a::Array{Uint8,1}) at utf8.jl:162\n",
        "convert(::Type{UTF8String},a::Array{Uint8,1},invalids_as::String) at utf8.jl:164\n",
        "convert(::Type{UTF8String},s::UTF16String) at utf16.jl:53\n",
        "convert(::Type{UTF8String},s::String) at utf8.jl:184\n",
        "convert(::Type{UTF16String},s::UTF16String) at utf16.jl:47\n",
        "convert(::Type{UTF16String},s::String) at utf16.jl:48\n",
        "convert(::Type{Array{Uint16,1}},s::UTF16String) at utf16.jl:49\n",
        "convert(::Type{Array{Uint16,N}},s::UTF16String) at utf16.jl:50\n",
        "convert{T<:Union(Uint16,Int16)}(::Type{Ptr{T<:Union(Uint16,Int16)}},s::UTF16String) at utf16.jl:57\n",
        "convert(::Type{UTF16String},data::AbstractArray{Uint16,1}) at utf16.jl:78\n",
        "convert(T::Type{UTF16String},data::AbstractArray{Uint16,N}) at utf16.jl:85\n",
        "convert(T::Type{UTF16String},data::AbstractArray{Int16,N}) at utf16.jl:88\n",
        "convert(T::Type{UTF16String},bytes::AbstractArray{Uint8,N}) at utf16.jl:92\n",
        "convert(::Type{UTF32String},s::UTF32String) at utf32.jl:28\n",
        "convert(::Type{UTF32String},s::String) at utf32.jl:31\n",
        "convert(::Type{UTF32String},data::AbstractArray{Char,1}) at utf32.jl:41\n",
        "convert{T<:Union(Int32,Uint32)}(::Type{UTF32String},data::AbstractArray{T<:Union(Int32,Uint32),1}) at utf32.jl:47\n",
        "convert{T<:Union(ASCIIString,UTF8String)}(::Type{T<:Union(ASCIIString,UTF8String)},data::AbstractArray{Char,1}) at utf32.jl:54\n",
        "convert{T<:String}(::Type{T<:String},v::AbstractArray{Char,1}) at utf32.jl:50\n",
        "convert(::Type{Array{Char,1}},s::UTF32String) at utf32.jl:62\n",
        "convert(::Type{Array{Char,N}},s::UTF32String) at utf32.jl:63\n",
        "convert{T<:Union(Int32,Uint32,Char)}(::Type{Ptr{T<:Union(Int32,Uint32,Char)}},s::UTF32String) at utf32.jl:68\n",
        "convert(T::Type{UTF32String},bytes::AbstractArray{Uint8,N}) at utf32.jl:72\n",
        "convert(::Type{Array{Uint8,1}},s::String) at string.jl:47\n",
        "convert(::Type{Array{Uint8,N}},s::String) at string.jl:48\n",
        "convert(::Type{Union(ASCIIString,UTF8String)},s::String) at string.jl:49\n",
        "convert(::Type{Array{Char,1}},s::String) at string.jl:50\n",
        "convert(::Type{Symbol},s::String) at string.jl:51\n",
        "convert{T<:String}(::Type{SubString{T<:String}},s::T<:String) at string.jl:644\n",
        "convert{P<:Union(Uint8,Int8),T<:Union(ASCIIString,UTF8String)}(::Type{Ptr{P<:Union(Uint8,Int8)}},s::SubString{T<:Union(ASCIIString,UTF8String)}) at string.jl:661\n",
        "convert(::Type{RepString},s::String) at string.jl:718\n",
        "convert(T::Type{Ptr{None}},s::IOStream) at iostream.jl:25\n",
        "convert(::Type{CFILE},s::IO) at iostream.jl:90\n",
        "convert(::Type{Int32},fd::RawFD) at stream.jl:27\n",
        "convert(T::Type{Ptr{None}},s::AsyncStream) at stream.jl:226\n",
        "convert(::Type{Float32},val::Float16) at float16.jl:2\n",
        "convert(::Type{Float16},val::Float32) at float16.jl:81\n",
        "convert(::Type{BigInt},x::Float16) at gmp.jl:114\n",
        "convert{T<:Integer}(::Type{T<:Integer},x::Float16) at float16.jl:103\n",
        "convert(::Type{BigInt},x::Integer) at gmp.jl:113\n",
        "convert(::Type{BigInt},x::FloatingPoint) at gmp.jl:115\n",
        "convert(::Type{Int64},n::BigInt) at gmp.jl:127\n",
        "convert(::Type{Int32},n::BigInt) at gmp.jl:122\n",
        "convert(::Type{Int16},n::BigInt) at gmp.jl:123\n",
        "convert(::Type{Int8},n::BigInt) at gmp.jl:124\n",
        "convert(::Type{Uint64},n::BigInt) at gmp.jl:145\n",
        "convert(::Type{Uint32},x::BigInt) at gmp.jl:140\n",
        "convert(::Type{Uint16},x::BigInt) at gmp.jl:141\n",
        "convert(::Type{Uint8},x::BigInt) at gmp.jl:142\n",
        "convert(::Type{Uint128},x::BigInt) at gmp.jl:163\n",
        "convert(::Type{Int128},x::BigInt) at gmp.jl:167\n",
        "convert(::Type{Float64},n::BigInt) at gmp.jl:171\n",
        "convert(::Type{Float32},n::BigInt) at gmp.jl:173\n",
        "convert(::Type{Float16},n::BigInt) at gmp.jl:174\n",
        "convert(::Type{BigFloat},::MathConst{:\u03c0}) at constants.jl:31\n",
        "convert(::Type{BigFloat},::MathConst{:e}) at constants.jl:38\n",
        "convert(::Type{BigFloat},::MathConst{:\u03b3}) at constants.jl:31\n",
        "convert(::Type{BigFloat},::MathConst{:catalan}) at constants.jl:31\n",
        "convert(::Type{BigFloat},::MathConst{:\u03c6}) at constants.jl:38\n",
        "convert(::Type{BigFloat},x::Real) at mpfr.jl:89\n",
        "convert(::Type{FloatingPoint},x::BigInt) at mpfr.jl:90\n",
        "convert(::Type{Int8},x::BigFloat) at mpfr.jl:95\n",
        "convert(::Type{Int16},x::BigFloat) at mpfr.jl:95\n",
        "convert(::Type{Int32},x::BigFloat) at mpfr.jl:95\n",
        "convert(::Type{Int64},x::BigFloat) at mpfr.jl:95\n",
        "convert(::Type{Uint8},x::BigFloat) at mpfr.jl:105\n",
        "convert(::Type{Uint16},x::BigFloat) at mpfr.jl:105\n",
        "convert(::Type{Uint32},x::BigFloat) at mpfr.jl:105\n",
        "convert(::Type{Uint64},x::BigFloat) at mpfr.jl:105\n",
        "convert(::Type{Float64},x::BigFloat) at mpfr.jl:116\n",
        "convert(::Type{Float32},x::BigFloat) at mpfr.jl:118\n",
        "convert(::Type{Integer},x::BigFloat) at mpfr.jl:121\n",
        "convert(::Type{UUID},s::String) at random.jl:809\n",
        "convert{T}(::Type{Ptr{T}},S::SharedArray{T,N}) at sharedarray.jl:138\n",
        "convert{TS,TA,N}(::Type{SharedArray{TS,N}},A::Array{TA,N}) at sharedarray.jl:142\n",
        "convert{T}(::Type{SharedArray{T,N}},A::Array{T,N}) at sharedarray.jl:141\n",
        "convert(::Type{SharedArray{T,N}},A::Array{T,N}) at sharedarray.jl:140\n",
        "convert(::Type{VersionNumber},v::Integer) at version.jl:59\n",
        "convert(::Type{VersionNumber},v::(Any...,)) at version.jl:60\n",
        "convert(::Type{VersionNumber},v::String) at version.jl:83\n",
        "convert{Tv,TvS,TiS}(::Type{SparseMatrixCSC{Tv,Ti<:Integer}},S::SparseMatrixCSC{TvS,TiS}) at sparse/sparsematrix.jl:151\n",
        "convert{Tv,Ti,TvS,TiS}(::Type{SparseMatrixCSC{Tv,Ti}},S::SparseMatrixCSC{TvS,TiS}) at sparse/sparsematrix.jl:140\n",
        "convert{Tv,Ti}(::Type{SparseMatrixCSC{Tv,Ti}},M::Array{T,2}) at sparse/sparsematrix.jl:162\n",
        "convert{T}(::Type{SymTridiagonal{T}},M::SymTridiagonal{T}) at linalg/tridiag.jl:232\n",
        "convert{T}(::Type{Tridiagonal{T}},M::SymTridiagonal{T}) at linalg/tridiag.jl:229\n",
        "convert(::Type{Tridiagonal{T}},A::SymTridiagonal{T}) at linalg/tridiag.jl:221\n",
        "convert{T}(::Type{Tridiagonal{T}},M::Tridiagonal{T}) at linalg/tridiag.jl:227\n",
        "convert{T}(::Type{SymTridiagonal{T}},M::Tridiagonal{T}) at linalg/tridiag.jl:230\n",
        "convert{T,S<:AbstractArray{T,2},UpLo,IsUnit}(::Type{Triangular{T,S<:AbstractArray{T,2},UpLo,IsUnit}},A::Triangular{T,S<:AbstractArray{T,2},UpLo,IsUnit}) at linalg/triangular.jl:96\n",
        "convert{T,S<:AbstractArray{T,2},UpLo,IsUnit}(::Type{Triangular{T,S<:AbstractArray{T,2},UpLo,IsUnit}},A::Triangular{T,S<:AbstractArray{T,2},UpLo,IsUnit}) at linalg/triangular.jl:97\n",
        "convert{T}(::Type{Cholesky{T}},C::Cholesky{T}) at linalg/factorization.jl:46\n",
        "convert{T}(::Type{Factorization{T}},C::Cholesky{T}) at linalg/factorization.jl:47\n",
        "convert{T}(::Type{CholeskyPivoted{T}},C::CholeskyPivoted{T}) at linalg/factorization.jl:48\n",
        "convert{T}(::Type{Factorization{T}},C::CholeskyPivoted{T}) at linalg/factorization.jl:49\n",
        "convert{T}(::Type{QR{T}},A::QR{T}) at linalg/factorization.jl:191\n",
        "convert{T}(::Type{Factorization{T}},A::QR{T}) at linalg/factorization.jl:192\n",
        "convert{T}(::Type{QRCompactWY{T}},A::QRCompactWY{S}) at linalg/factorization.jl:193\n",
        "convert{T}(::Type{Factorization{T}},A::QRCompactWY{S}) at linalg/factorization.jl:194\n",
        "convert{T}(::Type{QRPivoted{T}},A::QRPivoted{T}) at linalg/factorization.jl:195\n",
        "convert{T}(::Type{Factorization{T}},A::QRPivoted{T}) at linalg/factorization.jl:196\n",
        "convert{T}(::Type{QRPackedQ{T}},Q::QRPackedQ{T}) at linalg/factorization.jl:236\n",
        "convert{S}(::Type{QRCompactWYQ{S}},Q::QRCompactWYQ{S}) at linalg/factorization.jl:238\n",
        "convert{T}(::Type{Factorization{T}},F::LU{T,S<:AbstractArray{T,2}}) at linalg/lu.jl:80\n",
        "convert{T}(::Type{Factorization{T}},B::BunchKaufman{T}) at linalg/bunchkaufman.jl:25\n",
        "convert{T,S,U}(::Type{Factorization{T}},F::LDLt{S,U}) at linalg/ldlt.jl:13\n",
        "convert{T}(::Type{Factorization{T}},F::Factorization{T}) at linalg/factorization.jl:805\n",
        "convert{T}(::Type{LU{T,S<:AbstractArray{T,2}}},F::LU{T,S<:AbstractArray{T,2}}) at linalg/lu.jl:76\n",
        "convert{T,S}(::Type{LU{T,S}},F::LU{T,S<:AbstractArray{T,2}}) at linalg/lu.jl:79\n",
        "convert{T}(::Type{BunchKaufman{T}},B::BunchKaufman{T}) at linalg/bunchkaufman.jl:24\n",
        "convert{T}(::Type{Symmetric{T}},A::Symmetric{T}) at linalg/symmetric.jl:20\n",
        "convert{T}(::Type{Hermitian{T}},A::Hermitian{T}) at linalg/symmetric.jl:22\n",
        "convert{T}(::Type{Diagonal{T}},D::Diagonal{T}) at linalg/diagonal.jl:8\n",
        "convert{T}(::Type{Diagonal{T}},D::Diagonal{T}) at linalg/diagonal.jl:9\n",
        "convert{T}(::Type{Triangular{T,S<:AbstractArray{T,2},UpLo,IsUnit}},A::Diagonal{T}) at linalg/diagonal.jl:11\n",
        "convert{T}(::Type{Tridiagonal{T}},A::Bidiagonal{T}) at linalg/bidiag.jl:38\n",
        "convert{T}(::Type{Bidiagonal{T}},A::Diagonal{T}) at linalg/special.jl:4\n",
        "convert{T}(::Type{SymTridiagonal{T}},A::Diagonal{T}) at linalg/special.jl:5\n",
        "convert{T}(::Type{Tridiagonal{T}},A::Diagonal{T}) at linalg/special.jl:6\n",
        "convert(::Type{Triangular{T,S<:AbstractArray{T,2},UpLo,IsUnit}},A::Diagonal{T}) at linalg/special.jl:7\n",
        "convert(::Type{Triangular{T,S<:AbstractArray{T,2},UpLo,IsUnit}},A::Bidiagonal{T}) at linalg/special.jl:8\n",
        "convert(::Type{Diagonal{T}},A::Union(SymTridiagonal{T},Bidiagonal{T})) at linalg/special.jl:12\n",
        "convert(::Type{SymTridiagonal{T}},A::Bidiagonal{T}) at linalg/special.jl:17\n",
        "convert{T}(::Type{Tridiagonal{T}},A::Bidiagonal{T}) at linalg/special.jl:21\n",
        "convert(::Type{Bidiagonal{T}},A::SymTridiagonal{T}) at linalg/special.jl:24\n",
        "convert(::Type{Diagonal{T}},A::Tridiagonal{T}) at linalg/special.jl:29\n",
        "convert(::Type{Bidiagonal{T}},A::Tridiagonal{T}) at linalg/special.jl:34\n",
        "convert(::Type{SymTridiagonal{T}},A::Tridiagonal{T}) at linalg/special.jl:41\n",
        "convert(::Type{Diagonal{T}},A::Triangular{T,S<:AbstractArray{T,2},UpLo,IsUnit}) at linalg/special.jl:46\n",
        "convert(::Type{Bidiagonal{T}},A::Triangular{T,S<:AbstractArray{T,2},UpLo,IsUnit}) at linalg/special.jl:51\n",
        "convert(::Type{SymTridiagonal{T}},A::Triangular{T,S<:AbstractArray{T,2},UpLo,IsUnit}) at linalg/special.jl:61\n",
        "convert(::Type{Tridiagonal{T}},A::Triangular{T,S<:AbstractArray{T,2},UpLo,IsUnit}) at linalg/special.jl:64\n",
        "convert{T,S,U<:AbstractArray{T,2}}(::Type{LDLt{T,S<:AbstractArray{T,2}}},F::LDLt{S,U<:AbstractArray{T,2}}) at linalg/ldlt.jl:11\n",
        "convert{T,S}(::Type{LDLt{T,S}},F::LDLt{T,S<:AbstractArray{T,2}}) at linalg/ldlt.jl:8\n",
        "convert(::Type{FloatingPoint},x::MathConst{sym}) at constants.jl:11\n",
        "convert(::Type{Float16},x::MathConst{sym}) at constants.jl:12\n",
        "convert{T<:Integer}(::Type{Rational{T<:Integer}},x::MathConst{sym}) at constants.jl:14\n",
        "convert(::Type{Float64},::MathConst{:\u03c0}) at constants.jl:43\n",
        "convert(::Type{Float32},::MathConst{:\u03c0}) at constants.jl:44\n",
        "convert(::Type{Float64},::MathConst{:e}) at constants.jl:43\n",
        "convert(::Type{Float32},::MathConst{:e}) at constants.jl:44\n",
        "convert(::Type{Float64},::MathConst{:\u03b3}) at constants.jl:43\n",
        "convert(::Type{Float32},::MathConst{:\u03b3}) at constants.jl:44\n",
        "convert(::Type{Float64},::MathConst{:catalan}) at constants.jl:43\n",
        "convert(::Type{Float32},::MathConst{:catalan}) at constants.jl:44\n",
        "convert(::Type{Float64},::MathConst{:\u03c6}) at constants.jl:43\n",
        "convert(::Type{Float32},::MathConst{:\u03c6}) at constants.jl:44\n",
        "convert{T}(p::Type{Ptr{T}},a::Array{T,N}) at deprecated.jl:26\n",
        "convert(::Type{Ptr{Uint8}},zmsg::Message) at /Users/harmeling/.julia/v0.3/ZMQ/src/ZMQ.jl:422\n",
        "convert(::Type{IOStream},zmsg::Message) at /Users/harmeling/.julia/v0.3/ZMQ/src/ZMQ.jl:442\n",
        "convert(T,x) at base.jl:13"
       ]
      }
     ],
     "prompt_number": 51
    },
    {
     "cell_type": "markdown",
     "metadata": {},
     "source": [
      "### Dictionaries"
     ]
    },
    {
     "cell_type": "code",
     "collapsed": false,
     "input": [
      "x = {\"a\"=>1, (2,3)=>true}"
     ],
     "language": "python",
     "metadata": {},
     "outputs": [
      {
       "metadata": {},
       "output_type": "pyout",
       "prompt_number": 52,
       "text": [
        "Dict{Any,Any} with 2 entries:\n",
        "  (2,3) => true\n",
        "  \"a\"   => 1"
       ]
      }
     ],
     "prompt_number": 52
    },
    {
     "cell_type": "code",
     "collapsed": false,
     "input": [
      "x[\"a\"]"
     ],
     "language": "python",
     "metadata": {},
     "outputs": [
      {
       "metadata": {},
       "output_type": "pyout",
       "prompt_number": 53,
       "text": [
        "1"
       ]
      }
     ],
     "prompt_number": 53
    },
    {
     "cell_type": "code",
     "collapsed": false,
     "input": [
      "x[(2,3)]"
     ],
     "language": "python",
     "metadata": {},
     "outputs": [
      {
       "metadata": {},
       "output_type": "pyout",
       "prompt_number": 54,
       "text": [
        "true"
       ]
      }
     ],
     "prompt_number": 54
    },
    {
     "cell_type": "code",
     "collapsed": false,
     "input": [
      "keys(x)"
     ],
     "language": "python",
     "metadata": {},
     "outputs": [
      {
       "metadata": {},
       "output_type": "pyout",
       "prompt_number": 55,
       "text": [
        "KeyIterator for a Dict{Any,Any} with 2 entries. Keys:\n",
        "  (2,3)\n",
        "  \"a\""
       ]
      }
     ],
     "prompt_number": 55
    },
    {
     "cell_type": "markdown",
     "metadata": {},
     "source": [
      "### Strings"
     ]
    },
    {
     "cell_type": "code",
     "collapsed": false,
     "input": [
      "\"foo\""
     ],
     "language": "python",
     "metadata": {},
     "outputs": [
      {
       "metadata": {},
       "output_type": "pyout",
       "prompt_number": 56,
       "text": [
        "\"foo\""
       ]
      }
     ],
     "prompt_number": 56
    },
    {
     "cell_type": "code",
     "collapsed": false,
     "input": [
      "\"foo\" * \"bar\"   # concatentation"
     ],
     "language": "python",
     "metadata": {},
     "outputs": [
      {
       "metadata": {},
       "output_type": "pyout",
       "prompt_number": 57,
       "text": [
        "\"foobar\""
       ]
      }
     ],
     "prompt_number": 57
    },
    {
     "cell_type": "code",
     "collapsed": false,
     "input": [
      "\"rhabarber\" * \"bar\" ^ 2   # repetition"
     ],
     "language": "python",
     "metadata": {},
     "outputs": [
      {
       "metadata": {},
       "output_type": "pyout",
       "prompt_number": 58,
       "text": [
        "\"rhabarberbarbar\""
       ]
      }
     ],
     "prompt_number": 58
    },
    {
     "cell_type": "markdown",
     "metadata": {},
     "source": [
      "## Loops, if, etc"
     ]
    },
    {
     "cell_type": "code",
     "collapsed": false,
     "input": [
      "f1(x) = if x>1\n",
      " 1\n",
      "elseif 1==2\n",
      " 2\n",
      "else\n",
      " 3\n",
      "end"
     ],
     "language": "python",
     "metadata": {},
     "outputs": [
      {
       "metadata": {},
       "output_type": "pyout",
       "prompt_number": 62,
       "text": [
        "f1 (generic function with 1 method)"
       ]
      }
     ],
     "prompt_number": 62
    },
    {
     "cell_type": "code",
     "collapsed": false,
     "input": [
      "f1(-1)"
     ],
     "language": "python",
     "metadata": {},
     "outputs": [
      {
       "metadata": {},
       "output_type": "pyout",
       "prompt_number": 64,
       "text": [
        "3"
       ]
      }
     ],
     "prompt_number": 64
    },
    {
     "cell_type": "code",
     "collapsed": false,
     "input": [
      "a = 1\n",
      "while a<17\n",
      "    a = a + 1\n",
      "     a\n",
      "end\n",
      "a"
     ],
     "language": "python",
     "metadata": {},
     "outputs": [
      {
       "metadata": {},
       "output_type": "pyout",
       "prompt_number": 68,
       "text": [
        "17"
       ]
      }
     ],
     "prompt_number": 68
    },
    {
     "cell_type": "code",
     "collapsed": false,
     "input": [
      "for i in 1:10\n",
      "    println(i)\n",
      "end"
     ],
     "language": "python",
     "metadata": {},
     "outputs": [
      {
       "output_type": "stream",
       "stream": "stdout",
       "text": [
        "1\n"
       ]
      },
      {
       "output_type": "stream",
       "stream": "stdout",
       "text": [
        "2\n",
        "3\n",
        "4\n",
        "5\n",
        "6\n",
        "7\n",
        "8\n",
        "9\n",
        "10\n"
       ]
      }
     ],
     "prompt_number": 71
    },
    {
     "cell_type": "code",
     "collapsed": false,
     "input": [
      "z = begin\n",
      "   a = 17\n",
      "a*a\n",
      "end"
     ],
     "language": "python",
     "metadata": {},
     "outputs": [
      {
       "metadata": {},
       "output_type": "pyout",
       "prompt_number": 73,
       "text": [
        "289"
       ]
      }
     ],
     "prompt_number": 73
    },
    {
     "cell_type": "code",
     "collapsed": false,
     "input": [
      "x = begin\n",
      "    a = 19\n",
      "    a*a\n",
      "end"
     ],
     "language": "python",
     "metadata": {},
     "outputs": []
    },
    {
     "cell_type": "markdown",
     "metadata": {},
     "source": [
      "### Functions"
     ]
    },
    {
     "cell_type": "code",
     "collapsed": false,
     "input": [
      "function f(x,y) \n",
      "        x*y\n",
      "    end"
     ],
     "language": "python",
     "metadata": {},
     "outputs": [
      {
       "metadata": {},
       "output_type": "pyout",
       "prompt_number": 75,
       "text": [
        "f (generic function with 1 method)"
       ]
      }
     ],
     "prompt_number": 75
    },
    {
     "cell_type": "code",
     "collapsed": false,
     "input": [
      "ff = (x,y) -> x*y"
     ],
     "language": "python",
     "metadata": {},
     "outputs": [
      {
       "metadata": {},
       "output_type": "pyout",
       "prompt_number": 78,
       "text": [
        "(anonymous function)"
       ]
      }
     ],
     "prompt_number": 78
    },
    {
     "cell_type": "code",
     "collapsed": false,
     "input": [
      "ff()"
     ],
     "language": "python",
     "metadata": {},
     "outputs": [
      {
       "metadata": {},
       "output_type": "pyout",
       "prompt_number": 79,
       "text": [
        "132"
       ]
      }
     ],
     "prompt_number": 79
    },
    {
     "cell_type": "code",
     "collapsed": false,
     "input": [
      "g(x) = begin\n",
      "    a = 17\n",
      "    42\n",
      "end"
     ],
     "language": "python",
     "metadata": {},
     "outputs": [
      {
       "metadata": {},
       "output_type": "pyout",
       "prompt_number": 1,
       "text": [
        "g (generic function with 1 method)"
       ]
      }
     ],
     "prompt_number": 1
    },
    {
     "cell_type": "code",
     "collapsed": false,
     "input": [
      "g(17)"
     ],
     "language": "python",
     "metadata": {},
     "outputs": [
      {
       "metadata": {},
       "output_type": "pyout",
       "prompt_number": 2,
       "text": [
        "42"
       ]
      }
     ],
     "prompt_number": 2
    },
    {
     "cell_type": "code",
     "collapsed": false,
     "input": [
      "g(34.0)"
     ],
     "language": "python",
     "metadata": {},
     "outputs": [
      {
       "metadata": {},
       "output_type": "pyout",
       "prompt_number": 4,
       "text": [
        "42"
       ]
      }
     ],
     "prompt_number": 4
    },
    {
     "cell_type": "code",
     "collapsed": false,
     "input": [
      "x -> 2*x      # anonymous function"
     ],
     "language": "python",
     "metadata": {},
     "outputs": []
    },
    {
     "cell_type": "code",
     "collapsed": false,
     "input": [
      "(x -> 2*x)(5)   # anonymous function called"
     ],
     "language": "python",
     "metadata": {},
     "outputs": []
    },
    {
     "cell_type": "code",
     "collapsed": false,
     "input": [
      "methods(f)"
     ],
     "language": "python",
     "metadata": {},
     "outputs": []
    },
    {
     "cell_type": "code",
     "collapsed": false,
     "input": [
      "f(x) = 7*x"
     ],
     "language": "python",
     "metadata": {},
     "outputs": []
    },
    {
     "cell_type": "code",
     "collapsed": false,
     "input": [
      "methods(f)"
     ],
     "language": "python",
     "metadata": {},
     "outputs": []
    },
    {
     "cell_type": "code",
     "collapsed": false,
     "input": [
      "h(x::Int) = 17\n",
      "h(x::Real) = 42"
     ],
     "language": "python",
     "metadata": {},
     "outputs": [
      {
       "metadata": {},
       "output_type": "pyout",
       "prompt_number": 5,
       "text": [
        "h (generic function with 2 methods)"
       ]
      }
     ],
     "prompt_number": 5
    },
    {
     "cell_type": "code",
     "collapsed": false,
     "input": [
      "methods(h)"
     ],
     "language": "python",
     "metadata": {},
     "outputs": [
      {
       "html": [
        "2 methods for generic function <b>h</b>:<ul><li> h(x::<b>Int64</b>) at In[5]:1<li> h(x::<b>Real</b>) at In[5]:2</ul>"
       ],
       "metadata": {},
       "output_type": "pyout",
       "prompt_number": 6,
       "text": [
        "# 2 methods for generic function \"h\":\n",
        "h(x::Int64) at In[5]:1\n",
        "h(x::Real) at In[5]:2"
       ]
      }
     ],
     "prompt_number": 6
    },
    {
     "cell_type": "code",
     "collapsed": false,
     "input": [
      "q(x=10, y=20) = x*y"
     ],
     "language": "python",
     "metadata": {},
     "outputs": [
      {
       "metadata": {},
       "output_type": "pyout",
       "prompt_number": 7,
       "text": [
        "q (generic function with 3 methods)"
       ]
      }
     ],
     "prompt_number": 7
    },
    {
     "cell_type": "code",
     "collapsed": false,
     "input": [
      "methods(q)"
     ],
     "language": "python",
     "metadata": {},
     "outputs": [
      {
       "html": [
        "3 methods for generic function <b>q</b>:<ul><li> q() at In[7]:1<li> q(x) at In[7]:1<li> q(x,y) at In[7]:1</ul>"
       ],
       "metadata": {},
       "output_type": "pyout",
       "prompt_number": 8,
       "text": [
        "# 3 methods for generic function \"q\":\n",
        "q() at In[7]:1\n",
        "q(x) at In[7]:1\n",
        "q(x,y) at In[7]:1"
       ]
      }
     ],
     "prompt_number": 8
    },
    {
     "cell_type": "code",
     "collapsed": false,
     "input": [
      "k(x=1; y=2, z=3) = x*y*z       # with named argument z and y"
     ],
     "language": "python",
     "metadata": {},
     "outputs": []
    },
    {
     "cell_type": "code",
     "collapsed": false,
     "input": [
      "k(z=3, y=1)"
     ],
     "language": "python",
     "metadata": {},
     "outputs": []
    },
    {
     "cell_type": "code",
     "collapsed": false,
     "input": [
      "methods(k)"
     ],
     "language": "python",
     "metadata": {},
     "outputs": []
    },
    {
     "cell_type": "markdown",
     "metadata": {},
     "source": [
      "### Installing packages/modules"
     ]
    },
    {
     "cell_type": "code",
     "collapsed": false,
     "input": [
      "Pkg.add(\"Distributions\")    "
     ],
     "language": "python",
     "metadata": {},
     "outputs": []
    },
    {
     "cell_type": "code",
     "collapsed": false,
     "input": [
      "Pkg.update()"
     ],
     "language": "python",
     "metadata": {},
     "outputs": []
    },
    {
     "cell_type": "code",
     "collapsed": false,
     "input": [
      "help(&)"
     ],
     "language": "python",
     "metadata": {},
     "outputs": [
      {
       "output_type": "stream",
       "stream": "stderr",
       "text": [
        "INFO: Loading help data...\n"
       ]
      },
      {
       "output_type": "stream",
       "stream": "stdout",
       "text": [
        "Base.&(x, y)\n",
        "\n",
        "   Bitwise and\n"
       ]
      },
      {
       "output_type": "stream",
       "stream": "stdout",
       "text": [
        "\n",
        "Base.Graphics.&(bb1::BoundingBox, bb2::BoundingBox) -> BoundingBox\n",
        "\n",
        "   Returns the intersection, the largest box contained in both boxes\n"
       ]
      }
     ],
     "prompt_number": 12
    },
    {
     "cell_type": "code",
     "collapsed": false,
     "input": [
      "methods(&)"
     ],
     "language": "python",
     "metadata": {},
     "outputs": [
      {
       "html": [
        "35 methods for generic function <b>&</b>:<ul><li> &(x::<b>Bool</b>,y::<b>Bool</b>) at <a href=\"https://github.com/JuliaLang/julia/tree/c03f413bbdb46c00033f4eaad402995cfe3b7be5/base/bool.jl#L22\" target=\"_blank\">bool.jl:22</a><li> &(x::<b>Int8</b>,y::<b>Int8</b>) at <a href=\"https://github.com/JuliaLang/julia/tree/c03f413bbdb46c00033f4eaad402995cfe3b7be5/base/int.jl#L122\" target=\"_blank\">int.jl:122</a><li> &(x::<b>Int16</b>,y::<b>Int16</b>) at <a href=\"https://github.com/JuliaLang/julia/tree/c03f413bbdb46c00033f4eaad402995cfe3b7be5/base/int.jl#L123\" target=\"_blank\">int.jl:123</a><li> &(x::<b>Int32</b>,y::<b>Int32</b>) at <a href=\"https://github.com/JuliaLang/julia/tree/c03f413bbdb46c00033f4eaad402995cfe3b7be5/base/int.jl#L124\" target=\"_blank\">int.jl:124</a><li> &(x::<b>Int64</b>,y::<b>Int64</b>) at <a href=\"https://github.com/JuliaLang/julia/tree/c03f413bbdb46c00033f4eaad402995cfe3b7be5/base/int.jl#L125\" target=\"_blank\">int.jl:125</a><li> &(x::<b>Int128</b>,y::<b>Int128</b>) at <a href=\"https://github.com/JuliaLang/julia/tree/c03f413bbdb46c00033f4eaad402995cfe3b7be5/base/int.jl#L126\" target=\"_blank\">int.jl:126</a><li> &(x::<b>Uint8</b>,y::<b>Uint8</b>) at <a href=\"https://github.com/JuliaLang/julia/tree/c03f413bbdb46c00033f4eaad402995cfe3b7be5/base/int.jl#L128\" target=\"_blank\">int.jl:128</a><li> &(x::<b>Uint16</b>,y::<b>Uint16</b>) at <a href=\"https://github.com/JuliaLang/julia/tree/c03f413bbdb46c00033f4eaad402995cfe3b7be5/base/int.jl#L129\" target=\"_blank\">int.jl:129</a><li> &(x::<b>Uint32</b>,y::<b>Uint32</b>) at <a href=\"https://github.com/JuliaLang/julia/tree/c03f413bbdb46c00033f4eaad402995cfe3b7be5/base/int.jl#L130\" target=\"_blank\">int.jl:130</a><li> &(x::<b>Uint64</b>,y::<b>Uint64</b>) at <a href=\"https://github.com/JuliaLang/julia/tree/c03f413bbdb46c00033f4eaad402995cfe3b7be5/base/int.jl#L131\" target=\"_blank\">int.jl:131</a><li> &(x::<b>Uint128</b>,y::<b>Uint128</b>) at <a href=\"https://github.com/JuliaLang/julia/tree/c03f413bbdb46c00033f4eaad402995cfe3b7be5/base/int.jl#L132\" target=\"_blank\">int.jl:132</a><li> &(A::<b>BitArray{N}</b>,B::<b>BitArray{N}</b>) at <a href=\"https://github.com/JuliaLang/julia/tree/c03f413bbdb46c00033f4eaad402995cfe3b7be5/base/bitarray.jl#L959\" target=\"_blank\">bitarray.jl:959</a><li> &(A::<b>DenseArray{Bool,N}</b>,B::<b>BitArray{N}</b>) at <a href=\"https://github.com/JuliaLang/julia/tree/c03f413bbdb46c00033f4eaad402995cfe3b7be5/base/bitarray.jl#L970\" target=\"_blank\">bitarray.jl:970</a><li> &(B::<b>BitArray{N}</b>,A::<b>DenseArray{Bool,N}</b>) at <a href=\"https://github.com/JuliaLang/julia/tree/c03f413bbdb46c00033f4eaad402995cfe3b7be5/base/bitarray.jl#L971\" target=\"_blank\">bitarray.jl:971</a><li> &<i>{S,T}</i>(A::<b>Union(SubArray{S,N,A<:DenseArray{T,N},I<:(Union(Range{Int64},Int64)...,)},DenseArray{S,N})</b>,B::<b>Union(DenseArray{T,N},SubArray{T,N,A<:DenseArray{T,N},I<:(Union(Range{Int64},Int64)...,)})</b>) at <a href=\"https://github.com/JuliaLang/julia/tree/c03f413bbdb46c00033f4eaad402995cfe3b7be5/base/array.jl#L719\" target=\"_blank\">array.jl:719</a><li> &(x::<b>Char</b>,y::<b>Char</b>) at <a href=\"https://github.com/JuliaLang/julia/tree/c03f413bbdb46c00033f4eaad402995cfe3b7be5/base/char.jl#L33\" target=\"_blank\">char.jl:33</a><li> &(x::<b>BigInt</b>,y::<b>BigInt</b>) at <a href=\"https://github.com/JuliaLang/julia/tree/c03f413bbdb46c00033f4eaad402995cfe3b7be5/base/gmp.jl#L194\" target=\"_blank\">gmp.jl:194</a><li> &(a::<b>BigInt</b>,b::<b>BigInt</b>,c::<b>BigInt</b>) at <a href=\"https://github.com/JuliaLang/julia/tree/c03f413bbdb46c00033f4eaad402995cfe3b7be5/base/gmp.jl#L217\" target=\"_blank\">gmp.jl:217</a><li> &(a::<b>BigInt</b>,b::<b>BigInt</b>,c::<b>BigInt</b>,d::<b>BigInt</b>) at <a href=\"https://github.com/JuliaLang/julia/tree/c03f413bbdb46c00033f4eaad402995cfe3b7be5/base/gmp.jl#L223\" target=\"_blank\">gmp.jl:223</a><li> &(a::<b>BigInt</b>,b::<b>BigInt</b>,c::<b>BigInt</b>,d::<b>BigInt</b>,e::<b>BigInt</b>) at <a href=\"https://github.com/JuliaLang/julia/tree/c03f413bbdb46c00033f4eaad402995cfe3b7be5/base/gmp.jl#L230\" target=\"_blank\">gmp.jl:230</a><li> &<i>{T<:Integer}</i>(x::<b>T<:Integer</b>,y::<b>T<:Integer</b>) at <a href=\"https://github.com/JuliaLang/julia/tree/c03f413bbdb46c00033f4eaad402995cfe3b7be5/base/promotion.jl#L194\" target=\"_blank\">promotion.jl:194</a><li> &(x::<b>Integer</b>,y::<b>Integer</b>) at <a href=\"https://github.com/JuliaLang/julia/tree/c03f413bbdb46c00033f4eaad402995cfe3b7be5/base/promotion.jl#L164\" target=\"_blank\">promotion.jl:164</a><li> &(x::<b>Bool</b>,B::<b>BitArray{N}</b>) at <a href=\"https://github.com/JuliaLang/julia/tree/c03f413bbdb46c00033f4eaad402995cfe3b7be5/base/bitarray.jl#L944\" target=\"_blank\">bitarray.jl:944</a><li> &(x::<b>Integer</b>) at <a href=\"https://github.com/JuliaLang/julia/tree/c03f413bbdb46c00033f4eaad402995cfe3b7be5/base/operators.jl#L73\" target=\"_blank\">operators.jl:73</a><li> &<i>{S,T<:Real}</i>(A::<b>Union(SubArray{S,N,A<:DenseArray{T,N},I<:(Union(Range{Int64},Int64)...,)},DenseArray{S,N})</b>,B::<b>Range{T<:Real}</b>) at <a href=\"https://github.com/JuliaLang/julia/tree/c03f413bbdb46c00033f4eaad402995cfe3b7be5/base/array.jl#L727\" target=\"_blank\">array.jl:727</a><li> &<i>{S<:Real,T}</i>(A::<b>Range{S<:Real}</b>,B::<b>Union(DenseArray{T,N},SubArray{T,N,A<:DenseArray{T,N},I<:(Union(Range{Int64},Int64)...,)})</b>) at <a href=\"https://github.com/JuliaLang/julia/tree/c03f413bbdb46c00033f4eaad402995cfe3b7be5/base/array.jl#L736\" target=\"_blank\">array.jl:736</a><li> &(x::<b>Number</b>,B::<b>BitArray{N}</b>) at <a href=\"https://github.com/JuliaLang/julia/tree/c03f413bbdb46c00033f4eaad402995cfe3b7be5/base/bitarray.jl#L972\" target=\"_blank\">bitarray.jl:972</a><li> &<i>{T}</i>(A::<b>Number</b>,B::<b>Union(DenseArray{T,N},SubArray{T,N,A<:DenseArray{T,N},I<:(Union(Range{Int64},Int64)...,)})</b>) at <a href=\"https://github.com/JuliaLang/julia/tree/c03f413bbdb46c00033f4eaad402995cfe3b7be5/base/array.jl#L749\" target=\"_blank\">array.jl:749</a><li> &(B::<b>BitArray{N}</b>,x::<b>Bool</b>) at <a href=\"https://github.com/JuliaLang/julia/tree/c03f413bbdb46c00033f4eaad402995cfe3b7be5/base/bitarray.jl#L942\" target=\"_blank\">bitarray.jl:942</a><li> &(B::<b>BitArray{N}</b>,x::<b>Number</b>) at <a href=\"https://github.com/JuliaLang/julia/tree/c03f413bbdb46c00033f4eaad402995cfe3b7be5/base/bitarray.jl#L973\" target=\"_blank\">bitarray.jl:973</a><li> &<i>{T}</i>(A::<b>Union(DenseArray{T,N},SubArray{T,N,A<:DenseArray{T,N},I<:(Union(Range{Int64},Int64)...,)})</b>,B::<b>Number</b>) at <a href=\"https://github.com/JuliaLang/julia/tree/c03f413bbdb46c00033f4eaad402995cfe3b7be5/base/array.jl#L756\" target=\"_blank\">array.jl:756</a><li> &(left::<b>AbstractCmd</b>,right::<b>AbstractCmd</b>) at <a href=\"https://github.com/JuliaLang/julia/tree/c03f413bbdb46c00033f4eaad402995cfe3b7be5/base/process.jl#L147\" target=\"_blank\">process.jl:147</a><li> &(bb1::<b>BoundingBox</b>,bb2::<b>BoundingBox</b>) at <a href=\"https://github.com/JuliaLang/julia/tree/c03f413bbdb46c00033f4eaad402995cfe3b7be5/base/graphics.jl#L130\" target=\"_blank\">graphics.jl:130</a><li> &(a,b,c) at <a href=\"https://github.com/JuliaLang/julia/tree/c03f413bbdb46c00033f4eaad402995cfe3b7be5/base/operators.jl#L82\" target=\"_blank\">operators.jl:82</a><li> &(a,b,c,xs...) at <a href=\"https://github.com/JuliaLang/julia/tree/c03f413bbdb46c00033f4eaad402995cfe3b7be5/base/operators.jl#L83\" target=\"_blank\">operators.jl:83</a></ul>"
       ],
       "metadata": {},
       "output_type": "pyout",
       "prompt_number": 13,
       "text": [
        "# 35 methods for generic function \"&\":\n",
        "&(x::Bool,y::Bool) at bool.jl:22\n",
        "&(x::Int8,y::Int8) at int.jl:122\n",
        "&(x::Int16,y::Int16) at int.jl:123\n",
        "&(x::Int32,y::Int32) at int.jl:124\n",
        "&(x::Int64,y::Int64) at int.jl:125\n",
        "&(x::Int128,y::Int128) at int.jl:126\n",
        "&(x::Uint8,y::Uint8) at int.jl:128\n",
        "&(x::Uint16,y::Uint16) at int.jl:129\n",
        "&(x::Uint32,y::Uint32) at int.jl:130\n",
        "&(x::Uint64,y::Uint64) at int.jl:131\n",
        "&(x::Uint128,y::Uint128) at int.jl:132\n",
        "&(A::BitArray{N},B::BitArray{N}) at bitarray.jl:959\n",
        "&(A::DenseArray{Bool,N},B::BitArray{N}) at bitarray.jl:970\n",
        "&(B::BitArray{N},A::DenseArray{Bool,N}) at bitarray.jl:971\n",
        "&{S,T}(A::Union(SubArray{S,N,A<:DenseArray{T,N},I<:(Union(Range{Int64},Int64)...,)},DenseArray{S,N}),B::Union(DenseArray{T,N},SubArray{T,N,A<:DenseArray{T,N},I<:(Union(Range{Int64},Int64)...,)})) at array.jl:719\n",
        "&(x::Char,y::Char) at char.jl:33\n",
        "&(x::BigInt,y::BigInt) at gmp.jl:194\n",
        "&(a::BigInt,b::BigInt,c::BigInt) at gmp.jl:217\n",
        "&(a::BigInt,b::BigInt,c::BigInt,d::BigInt) at gmp.jl:223\n",
        "&(a::BigInt,b::BigInt,c::BigInt,d::BigInt,e::BigInt) at gmp.jl:230\n",
        "&{T<:Integer}(x::T<:Integer,y::T<:Integer) at promotion.jl:194\n",
        "&(x::Integer,y::Integer) at promotion.jl:164\n",
        "&(x::Bool,B::BitArray{N}) at bitarray.jl:944\n",
        "&(x::Integer) at operators.jl:73\n",
        "&{S,T<:Real}(A::Union(SubArray{S,N,A<:DenseArray{T,N},I<:(Union(Range{Int64},Int64)...,)},DenseArray{S,N}),B::Range{T<:Real}) at array.jl:727\n",
        "&{S<:Real,T}(A::Range{S<:Real},B::Union(DenseArray{T,N},SubArray{T,N,A<:DenseArray{T,N},I<:(Union(Range{Int64},Int64)...,)})) at array.jl:736\n",
        "&(x::Number,B::BitArray{N}) at bitarray.jl:972\n",
        "&{T}(A::Number,B::Union(DenseArray{T,N},SubArray{T,N,A<:DenseArray{T,N},I<:(Union(Range{Int64},Int64)...,)})) at array.jl:749\n",
        "&(B::BitArray{N},x::Bool) at bitarray.jl:942\n",
        "&(B::BitArray{N},x::Number) at bitarray.jl:973\n",
        "&{T}(A::Union(DenseArray{T,N},SubArray{T,N,A<:DenseArray{T,N},I<:(Union(Range{Int64},Int64)...,)}),B::Number) at array.jl:756\n",
        "&(left::AbstractCmd,right::AbstractCmd) at process.jl:147\n",
        "&(bb1::BoundingBox,bb2::BoundingBox) at graphics.jl:130\n",
        "&(a,b,c) at operators.jl:82\n",
        "&(a,b,c,xs...) at operators.jl:83"
       ]
      }
     ],
     "prompt_number": 13
    },
    {
     "cell_type": "code",
     "collapsed": false,
     "input": [],
     "language": "python",
     "metadata": {},
     "outputs": []
    }
   ],
   "metadata": {}
  }
 ]
}