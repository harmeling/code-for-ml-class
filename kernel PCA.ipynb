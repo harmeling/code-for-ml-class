{
 "metadata": {
  "language": "Julia",
  "name": "",
  "signature": "sha256:4370f39d2c32052c0dbd073f517eae65202ba41a87a1deb730005e013795d786"
 },
 "nbformat": 3,
 "nbformat_minor": 0,
 "worksheets": [
  {
   "cells": [
    {
     "cell_type": "markdown",
     "metadata": {},
     "source": [
      "# Load necessary modules and define convenience function"
     ]
    },
    {
     "cell_type": "code",
     "collapsed": false,
     "input": [
      "using Color, Images, Gadfly\n",
      "scale0_1(A::Array) = (A - minimum(A))./(maximum(A)-minimum(A))\n",
      "scale1_255(A::Array) = 254 * scale0_1(A) + 1\n",
      "cmblues   = colormap(\"Blues\", 255)\n",
      "cmoranges = colormap(\"Oranges\", 255)\n",
      "imagesc(x; cm=cmblues, minsize=100, zoom=iceil(minsize ./ [size(x)...])) = ImageCmap(kron(iround(scale1_255(x)), ones(zoom[1],zoom[2])), cm)"
     ],
     "language": "python",
     "metadata": {},
     "outputs": []
    },
    {
     "cell_type": "markdown",
     "metadata": {},
     "source": [
      "# Define kernel functions and kernelmat"
     ]
    },
    {
     "cell_type": "code",
     "collapsed": false,
     "input": [
      "kgauss(a,b,sigma2) = exp(-0.5*dot(a-b,a-b)/sigma2)   # Gaussian kernel\n",
      "kpoly(a,b,p,c)     = (dot(a,b)+c).^p                 # polynomial kernel\n",
      "klinear(a,b)       = kpoly(a,b,1,0)                  # linear kernel\n",
      "kpoly2(a,b)        = kpoly(a,b,2,1)                  # squared polynomial kernel"
     ],
     "language": "python",
     "metadata": {},
     "outputs": []
    },
    {
     "cell_type": "code",
     "collapsed": false,
     "input": [
      "kernelmat(k,X1,X2) = [k(vec(X1[:,i]),vec(X2[:,j]))::Float64 for i in 1:size(X1,2), j in 1:size(X2,2)]"
     ],
     "language": "python",
     "metadata": {},
     "outputs": []
    },
    {
     "cell_type": "code",
     "collapsed": false,
     "input": [
      "X1 = randn(4,5)\n",
      "X2 = randn(4,7)\n",
      "kernelmat(kpoly2, X1, X2)"
     ],
     "language": "python",
     "metadata": {},
     "outputs": []
    },
    {
     "cell_type": "code",
     "collapsed": false,
     "input": [
      "# Implement kernel PCA"
     ],
     "language": "python",
     "metadata": {},
     "outputs": []
    },
    {
     "cell_type": "code",
     "collapsed": false,
     "input": [
      "function kpca(X, k; d=size(X,1))\n",
      "    # inputs:\n",
      "    #    X       data matrix where each column is a data point, size(X)==(D,n)\n",
      "    #    k       a kernel function\n",
      "    #    d       the number of nonlinear directions\n",
      "    # outputs:\n",
      "    #    Y       data matrix where is row is a nonlinear direction, size(Y)==(d,n)\n",
      "    n = size(X, 2)                 # number of data points\n",
      "    K = kernelmat(k, X, X)         # kernel matrix\n",
      "    H = eye(n) - ones(n,n)/n       # Centering matrix\n",
      "    HKH = H*K*H                    # centered kernel matrix\n",
      "    HKH = (HKH+HKH')/2             # ensure symmetry\n",
      "    (Lambda, V) = eig(HKH)         # EVD of centered kernel matrix\n",
      "    sp = sortperm(-Lambda)         # sort the EVs\n",
      "    Lambda1 = Lambda[sp[1:d]]      # d largest EVs\n",
      "    V1      = V[:,sp[1:d]]         # corresponding EVs\n",
      "    Y       = diagm(1./sqrt(Lambda1))*V1'*HKH\n",
      "end"
     ],
     "language": "python",
     "metadata": {},
     "outputs": []
    },
    {
     "cell_type": "markdown",
     "metadata": {},
     "source": [
      "# Toy data 1: data on a semicircle"
     ]
    },
    {
     "cell_type": "code",
     "collapsed": false,
     "input": [
      "# define toy dataset\n",
      "n = 100\n",
      "srand(17)\n",
      "X = sort(pi*rand(n))\n",
      "X = [cos(X) sin(X)]' + 0.08*randn(2, n)\n",
      "set_default_plot_size(10cm, 10cm)\n",
      "p = plot(x=X[1,:], y=X[2,:])\n",
      "#draw(PDF(\"kpca_toy_arc_data.pdf\", 10cm, 10cm), p)"
     ],
     "language": "python",
     "metadata": {},
     "outputs": []
    },
    {
     "cell_type": "code",
     "collapsed": false,
     "input": [
      "k(a,b) = kgauss(a,b,1e0)\n",
      "im = imagesc(kernelmat(k, X, X), minsize=300)\n",
      "#imwrite(im, \"kpca_toy_arc_kernel.png\")"
     ],
     "language": "python",
     "metadata": {},
     "outputs": []
    },
    {
     "cell_type": "code",
     "collapsed": false,
     "input": [
      "size(Y)\n",
      "plot(x=Y[1,:], y=Y[2,:])"
     ],
     "language": "python",
     "metadata": {},
     "outputs": []
    },
    {
     "cell_type": "code",
     "collapsed": false,
     "input": [
      "Y = kpca(X, k, d=4)\n",
      "set_default_plot_size(25cm, 10cm)\n",
      "p = hstack(plot(x=X[1,:], y=X[2,:], color=Y[1,:], \n",
      "                Guide.title(\"1st nonlinear direction\"), \n",
      "                Guide.xlabel(\"X[1,:]\"), Guide.ylabel(\"X[2,:]\")), \n",
      "           plot(x=X[1,:], y=X[2,:], color=Y[2,:], \n",
      "                Guide.title(\"2nd nonlinear direction\"), \n",
      "                Guide.xlabel(\"X[1,:]\"), Guide.ylabel(\"X[2,:]\")))\n",
      "#draw(PDF(\"kpca_toy_arc_results.pdf\", 20cm, 10cm), p)"
     ],
     "language": "python",
     "metadata": {},
     "outputs": []
    },
    {
     "cell_type": "markdown",
     "metadata": {},
     "source": [
      "# Toy data 2: three cluster"
     ]
    },
    {
     "cell_type": "code",
     "collapsed": false,
     "input": [
      "n = 100\n",
      "srand(1)\n",
      "X = [randn(2,n) randn(2,n).+10*rand(2) randn(2,n).+20*rand(2)]\n",
      "set_default_plot_size(10cm, 10cm)\n",
      "p = plot(x=X[1,:], y=X[2,:])\n",
      "#draw(PDF(\"kpca_toy_cluster_data.pdf\", 20cm, 20cm), p)"
     ],
     "language": "python",
     "metadata": {},
     "outputs": []
    },
    {
     "cell_type": "code",
     "collapsed": false,
     "input": [
      "k(a,b) = kgauss(a,b,1e1)\n",
      "X = X[:,randperm(n)]\n",
      "im = imagesc(kernelmat(k, X, X), minsize=300)\n",
      "#imwrite(im, \"kpca_toy_cluster_kernel.png\")"
     ],
     "language": "python",
     "metadata": {},
     "outputs": []
    },
    {
     "cell_type": "code",
     "collapsed": false,
     "input": [
      "Y = kpca(X, k, d=3)\n",
      "set_default_plot_size(25cm, 10cm)\n",
      "p = \n",
      "hstack(plot(x=X[1,:], y=X[2,:], color=Y[1,:], \n",
      "            Guide.title(\"1st nonlinear direction\"), \n",
      "            Guide.xlabel(\"X[1,:]\"), Guide.ylabel(\"X[2,:]\")), \n",
      "       plot(x=X[1,:], y=X[2,:], color=Y[2,:], \n",
      "            Guide.title(\"2nd nonlinear direction\"), \n",
      "            Guide.xlabel(\"X[1,:]\"), Guide.ylabel(\"X[2,:]\")),\n",
      "       plot(x=X[1,:], y=X[2,:], color=Y[3,:], \n",
      "            Guide.title(\"3rd nonlinear direction\"), \n",
      "            Guide.xlabel(\"X[1,:]\"), Guide.ylabel(\"X[2,:]\")))\n",
      "#draw(PDF(\"kpca_toy_cluster_results.pdf\", 30cm, 12cm), p)"
     ],
     "language": "python",
     "metadata": {},
     "outputs": []
    },
    {
     "cell_type": "markdown",
     "metadata": {},
     "source": [
      "# Toy data 3: sheet of paper"
     ]
    },
    {
     "cell_type": "code",
     "collapsed": false,
     "input": [
      "n = 1000\n",
      "srand(1)\n",
      "alpha = 4.0\n",
      "X = rand(2,n) .* [1, alpha]\n",
      "sp = sortperm(vec(X[1,:]))\n",
      "X = X[:,sp]\n",
      "set_default_plot_size(10cm, alpha*10cm)\n",
      "p = plot(x=X[1,:], y=X[2,:])\n",
      "#draw(PDF(\"kpca_toy_sheet_data.pdf\", 20cm, 20cm), p)"
     ],
     "language": "python",
     "metadata": {},
     "outputs": []
    },
    {
     "cell_type": "code",
     "collapsed": false,
     "input": [
      "k(a,b) = kgauss(a,b,1e-1)\n",
      "im = imagesc(kernelmat(k, X, X), minsize=300)\n",
      "#imwrite(im, \"kpca_toy_sheet_kernel.png\")"
     ],
     "language": "python",
     "metadata": {},
     "outputs": []
    },
    {
     "cell_type": "code",
     "collapsed": false,
     "input": [
      "k(a,b) = kgauss(a,b,1e2)\n",
      "Y = kpca(X, k, d=3)"
     ],
     "language": "python",
     "metadata": {},
     "outputs": []
    },
    {
     "cell_type": "code",
     "collapsed": false,
     "input": [
      "set_default_plot_size(25cm, 10cm)\n",
      "p = \n",
      "hstack(plot(x=X[1,:], y=X[2,:], color=Y[1,:], \n",
      "            Guide.title(\"1st nonlinear direction\"), \n",
      "            Guide.xlabel(\"X[1,:]\"), Guide.ylabel(\"X[2,:]\")), \n",
      "       plot(x=X[1,:], y=X[2,:], color=Y[2,:], \n",
      "            Guide.title(\"2nd nonlinear direction\"), \n",
      "            Guide.xlabel(\"X[1,:]\"), Guide.ylabel(\"X[2,:]\")),\n",
      "       plot(x=X[1,:], y=X[2,:], color=Y[3,:], \n",
      "            Guide.title(\"3rd nonlinear direction\"), \n",
      "            Guide.xlabel(\"X[1,:]\"), Guide.ylabel(\"X[2,:]\")))\n",
      "#draw(PDF(\"kpca_toy_sheet_results.pdf\", 30cm, 12cm), p)"
     ],
     "language": "python",
     "metadata": {},
     "outputs": []
    },
    {
     "cell_type": "code",
     "collapsed": false,
     "input": [
      "Ylin = Y"
     ],
     "language": "python",
     "metadata": {},
     "outputs": []
    },
    {
     "cell_type": "code",
     "collapsed": false,
     "input": [
      "plot(x=Y[2,:], y=Ylin[2,:])"
     ],
     "language": "python",
     "metadata": {},
     "outputs": []
    },
    {
     "cell_type": "code",
     "collapsed": false,
     "input": [
      "f(a,b) = a*b"
     ],
     "language": "python",
     "metadata": {},
     "outputs": []
    },
    {
     "cell_type": "code",
     "collapsed": false,
     "input": [
      "x = [17,42]"
     ],
     "language": "python",
     "metadata": {},
     "outputs": []
    },
    {
     "cell_type": "code",
     "collapsed": false,
     "input": [
      "f(x...)"
     ],
     "language": "python",
     "metadata": {},
     "outputs": []
    },
    {
     "cell_type": "code",
     "collapsed": false,
     "input": [
      "plot(x=[1,2,3], y = [1,4,9])"
     ],
     "language": "python",
     "metadata": {},
     "outputs": []
    },
    {
     "cell_type": "code",
     "collapsed": false,
     "input": [],
     "language": "python",
     "metadata": {},
     "outputs": []
    }
   ],
   "metadata": {}
  }
 ]
}