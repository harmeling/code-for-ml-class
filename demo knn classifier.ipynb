{
 "metadata": {
  "language": "Julia",
  "name": "",
  "signature": "sha256:f5ff344d01358c4d2b401e528806453d433745ff9347dd90c91819bd93eea1d4"
 },
 "nbformat": 3,
 "nbformat_minor": 0,
 "worksheets": [
  {
   "cells": [
    {
     "cell_type": "markdown",
     "metadata": {},
     "source": [
      "# k nearest neighbor classifier"
     ]
    },
    {
     "cell_type": "code",
     "collapsed": false,
     "input": [],
     "language": "python",
     "metadata": {},
     "outputs": []
    }
   ],
   "metadata": {}
  }
 ]
}