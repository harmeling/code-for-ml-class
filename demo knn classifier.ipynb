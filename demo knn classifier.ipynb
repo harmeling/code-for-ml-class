{
 "metadata": {
  "name": "",
  "signature": "sha256:b55a98416bedbe9d8c386175bd953a4f645edc31576eb3088eeb1edb743c0d58"
 },
 "nbformat": 3,
 "nbformat_minor": 0,
 "worksheets": []
}