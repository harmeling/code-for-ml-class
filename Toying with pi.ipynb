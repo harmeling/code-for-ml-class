{
 "metadata": {
  "language": "Julia",
  "name": "",
  "signature": "sha256:5d093302c16b0f2d2afc42898bd1a1ae259f4da5e9252b7df240645732ab542e"
 },
 "nbformat": 3,
 "nbformat_minor": 0,
 "worksheets": [
  {
   "cells": [
    {
     "cell_type": "markdown",
     "metadata": {},
     "source": [
      "# Shooting pi\n",
      "\n",
      "Estimate pi by doing random sampling.  The idea is to sample from a two dimensional uniform distribution and count the samples that fall inside the unit circle."
     ]
    },
    {
     "cell_type": "code",
     "collapsed": false,
     "input": [
      "using Distributions"
     ],
     "language": "python",
     "metadata": {},
     "outputs": []
    },
    {
     "cell_type": "code",
     "collapsed": false,
     "input": [
      "d = Uniform(-1.0, 1.0)       # defines a uniform distribution"
     ],
     "language": "python",
     "metadata": {},
     "outputs": []
    },
    {
     "cell_type": "code",
     "collapsed": false,
     "input": [
      "n = 10000\n",
      "x = rand(d, n)\n",
      "y = rand(d, n)\n",
      "c = sqrt(x.^2 + y.^2) .< 1.0\n",
      "4*sum(c)/n"
     ],
     "language": "python",
     "metadata": {},
     "outputs": []
    },
    {
     "cell_type": "code",
     "collapsed": false,
     "input": [
      "using Gadfly"
     ],
     "language": "python",
     "metadata": {},
     "outputs": []
    },
    {
     "cell_type": "code",
     "collapsed": false,
     "input": [
      "plot(x=x, y=y, color=[string(i) for i in c])"
     ],
     "language": "python",
     "metadata": {},
     "outputs": []
    },
    {
     "cell_type": "code",
     "collapsed": false,
     "input": [],
     "language": "python",
     "metadata": {},
     "outputs": []
    }
   ],
   "metadata": {}
  }
 ]
}