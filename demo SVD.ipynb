{
 "metadata": {
  "language": "Julia",
  "name": "",
  "signature": "sha256:adef58939ed8c7eea2f759230c91c9fe00ee0ea9597ddb44513c7254a8ee454c"
 },
 "nbformat": 3,
 "nbformat_minor": 0,
 "worksheets": [
  {
   "cells": [
    {
     "cell_type": "markdown",
     "metadata": {},
     "source": [
      "# Simple demonstration of singular value decomposition of an image"
     ]
    },
    {
     "cell_type": "code",
     "collapsed": false,
     "input": [
      "using TestImages, Images, Gadfly, Interact"
     ],
     "language": "python",
     "metadata": {},
     "outputs": []
    },
    {
     "cell_type": "code",
     "collapsed": false,
     "input": [
      "im = testimage(\"cameraman\")\n",
      "x  = float(data(im))\n",
      "im"
     ],
     "language": "python",
     "metadata": {},
     "outputs": []
    },
    {
     "cell_type": "code",
     "collapsed": false,
     "input": [
      "(U,s,V) = svd(x)\n",
      "plot(x=[1:length(s)], y=s, Scale.y_log10, Geom.line, Guide.xlabel(\"index\"), Guide.ylabel(\"SV\"))"
     ],
     "language": "python",
     "metadata": {},
     "outputs": []
    },
    {
     "cell_type": "code",
     "collapsed": false,
     "input": [
      "run(`mkdir svdimages`)\n",
      "for d in 1:5\n",
      "    imwrite(grayim(U[:,1:d]*diagm(s[1:d])*V[:,1:d]'), \"svdimages/$(@sprintf(\"%03d\", d)).png\")\n",
      "    println(d)\n",
      "end"
     ],
     "language": "python",
     "metadata": {},
     "outputs": []
    },
    {
     "cell_type": "code",
     "collapsed": false,
     "input": [
      "grayim(rand(500).*rand(300)')"
     ],
     "language": "python",
     "metadata": {},
     "outputs": []
    },
    {
     "cell_type": "code",
     "collapsed": false,
     "input": [],
     "language": "python",
     "metadata": {},
     "outputs": []
    }
   ],
   "metadata": {}
  }
 ]
}