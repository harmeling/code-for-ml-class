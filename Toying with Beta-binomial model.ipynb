{
 "metadata": {
  "language": "Julia",
  "name": "",
  "signature": "sha256:679eec0031d279c4fc26da7a54dfdec2b7ad98f37e9f8b5e708fe4055d8a44cd"
 },
 "nbformat": 3,
 "nbformat_minor": 0,
 "worksheets": [
  {
   "cells": [
    {
     "cell_type": "markdown",
     "metadata": {},
     "source": [
      "# Interactive demonstration of Beta-Binomial model\n",
      "\n",
      "Redo the interactive beta-binomial model from the lecture.  The model is specified as follows:\n",
      "$$ p(\\theta) = Beta(a, b) $$\n",
      "$$ p(D|\\theta) = Bin(n, \\theta) $$\n",
      "This implies a posterior also to a Beta distribution:\n",
      "$$ p(\\theta|D) = Beta(a+k, b+n-k) $$"
     ]
    },
    {
     "cell_type": "code",
     "collapsed": false,
     "input": [
      "using Distributions"
     ],
     "language": "python",
     "metadata": {},
     "outputs": []
    },
    {
     "cell_type": "code",
     "collapsed": false,
     "input": [
      "d = Beta(1,5)         # create a Beta distribution with parameters 1 and 5"
     ],
     "language": "python",
     "metadata": {},
     "outputs": []
    },
    {
     "cell_type": "code",
     "collapsed": false,
     "input": [
      "println(\"posterior mean $(mean(d))\")    # we can easily calculate the mean"
     ],
     "language": "python",
     "metadata": {},
     "outputs": []
    },
    {
     "cell_type": "code",
     "collapsed": false,
     "input": [
      "rand(d, 10)            # this is the way to sample from the distribution"
     ],
     "language": "python",
     "metadata": {},
     "outputs": []
    },
    {
     "cell_type": "code",
     "collapsed": false,
     "input": [
      "using Gadfly"
     ],
     "language": "python",
     "metadata": {},
     "outputs": []
    },
    {
     "cell_type": "code",
     "collapsed": false,
     "input": [
      "plot(x=rand(d, 10000), Geom.histogram(bincount=100))"
     ],
     "language": "python",
     "metadata": {},
     "outputs": []
    },
    {
     "cell_type": "code",
     "collapsed": false,
     "input": [
      "plot(x -> pdf(d, x), 0, 1)"
     ],
     "language": "python",
     "metadata": {},
     "outputs": []
    },
    {
     "cell_type": "code",
     "collapsed": false,
     "input": [
      "plot(x=linspace(0.1, 0.9, 100), y=pdf(Beta(0.3, 0.3), linspace(0.1, 0.9, 100)))"
     ],
     "language": "python",
     "metadata": {},
     "outputs": []
    },
    {
     "cell_type": "code",
     "collapsed": false,
     "input": [
      "using Interact"
     ],
     "language": "python",
     "metadata": {},
     "outputs": []
    },
    {
     "cell_type": "code",
     "collapsed": false,
     "input": [
      "theta = linspace(0.01, 0.99, 50)\n",
      "@manipulate for a = 0.1:0.1:5.0, b = 0.1:0.1:5.0\n",
      "    d = Beta(a, b)\n",
      "    plot(x=theta, y=pdf(d, theta), Geom.line, Guide.title(\"posterior mean $(mean(d))\"), Guide.xlabel(\"theta\"), Guide.ylabel(\"p(theta|a,b)\"))\n",
      "end"
     ],
     "language": "python",
     "metadata": {},
     "outputs": []
    },
    {
     "cell_type": "code",
     "collapsed": false,
     "input": [
      "theta = linspace(0.01, 0.99, 100)\n",
      "@manipulate for pos_examples = 1:50, neg_examples = 1:50\n",
      "    d = Beta(pos_examples, neg_examples)\n",
      "    plot(x=theta, y=pdf(d, theta), Geom.line, Guide.title(\"posterior mean $(mean(d))\"), Guide.xlabel(\"theta\"), Guide.ylabel(\"p(theta|a,b)\"))\n",
      "end"
     ],
     "language": "python",
     "metadata": {},
     "outputs": []
    },
    {
     "cell_type": "code",
     "collapsed": false,
     "input": [],
     "language": "python",
     "metadata": {},
     "outputs": []
    }
   ],
   "metadata": {}
  }
 ]
}