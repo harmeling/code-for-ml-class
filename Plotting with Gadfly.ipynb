{
 "metadata": {
  "language": "Julia",
  "name": "",
  "signature": "sha256:b15ae80bbeffa7fb2518ff369180d9b05f4a2400e7100774d39a5aaa00b42520"
 },
 "nbformat": 3,
 "nbformat_minor": 0,
 "worksheets": [
  {
   "cells": [
    {
     "cell_type": "code",
     "collapsed": false,
     "input": [
      "using Gadfly"
     ],
     "language": "python",
     "metadata": {},
     "outputs": []
    },
    {
     "cell_type": "code",
     "collapsed": false,
     "input": [
      "plot(x=rand(10), y=rand(10))"
     ],
     "language": "python",
     "metadata": {},
     "outputs": []
    },
    {
     "cell_type": "code",
     "collapsed": false,
     "input": [
      "plot(x=rand(10), y=rand(10), Guide.xlabel(\"centimeters\"), Guide.ylabel(\"blabla\"), Guide.title(\"foobar\"))"
     ],
     "language": "python",
     "metadata": {},
     "outputs": []
    },
    {
     "cell_type": "code",
     "collapsed": false,
     "input": [
      "plot(x=rand(10), y=rand(10), Geom.point, Geom.line, Guide.xlabel(\"centimeters\"), Guide.ylabel(\"blabla\"), Guide.title(\"foobar\"))"
     ],
     "language": "python",
     "metadata": {},
     "outputs": []
    },
    {
     "cell_type": "code",
     "collapsed": false,
     "input": [
      "using Gadfly"
     ],
     "language": "python",
     "metadata": {},
     "outputs": [
      {
       "output_type": "stream",
       "stream": "stderr",
       "text": [
        "Warning: New definition \n",
        "    /(S"
       ]
      },
      {
       "output_type": "stream",
       "stream": "stderr",
       "text": [
        ",T<:Union(GenericQuadExpr{Float64,Variable},GenericAffExpr{Float64,Variable},Variable)) at /Users/harmeling/.julia/v0.3/JuMP/src/operators.jl:268\n",
        "is ambiguous with: \n",
        "    /(MeasureNil,Any) at /Users/harmeling/.julia/v0.3/Compose/src/measure.jl:196.\n",
        "To fix, define \n",
        "    /(MeasureNil,T<:Union(GenericQuadExpr{Float64,Variable},GenericAffExpr{Float64,Variable},Variable))\n",
        "before the new definition.\n"
       ]
      }
     ],
     "prompt_number": 1
    },
    {
     "cell_type": "code",
     "collapsed": false,
     "input": [
      "plot(x=rand(10), [layer(y=rand(10)), layer(y=rand(10), Geom.point)])"
     ],
     "language": "python",
     "metadata": {},
     "outputs": [
      {
       "ename": "ErrorException",
       "evalue": "The following aesthetics are required by Geom.point but are not defined: x\n",
       "output_type": "pyerr",
       "traceback": [
        "The following aesthetics are required by Geom.point but are not defined: x\n",
        "",
        " in error at error.jl:21",
        " in assert_aesthetics_defined at /Users/harmeling/.julia/v0.3/Gadfly/src/aesthetics.jl:146",
        " in render at /Users/harmeling/.julia/v0.3/Gadfly/src/geom/point.jl:28",
        " in render_prepared at /Users/harmeling/.julia/v0.3/Gadfly/src/Gadfly.jl:739",
        " in render at /Users/harmeling/.julia/v0.3/Gadfly/src/Gadfly.jl:692",
        " in writemime at /Users/harmeling/.julia/v0.3/Gadfly/src/Gadfly.jl:802",
        " in sprint at iostream.jl:229",
        " in display_dict at /Users/harmeling/.julia/v0.3/IJulia/src/execute_request.jl:31"
       ]
      }
     ],
     "prompt_number": 10
    },
    {
     "cell_type": "code",
     "collapsed": false,
     "input": [],
     "language": "python",
     "metadata": {},
     "outputs": []
    }
   ],
   "metadata": {}
  }
 ]
}