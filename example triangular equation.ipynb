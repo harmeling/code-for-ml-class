{
 "metadata": {
  "language": "Julia",
  "name": "",
  "signature": "sha256:686e3504c9c3c7cf30a5cd26ba82dcdf38850684e9a6e5316ab13955f61565be"
 },
 "nbformat": 3,
 "nbformat_minor": 0,
 "worksheets": [
  {
   "cells": [
    {
     "cell_type": "markdown",
     "metadata": {},
     "source": [
      "# What happens to a distance matrix if the triangular inequation is violated?"
     ]
    },
    {
     "cell_type": "markdown",
     "metadata": {},
     "source": [
      "Consider three points $x_1$, $x_2$, $x_3$.  Fix all distances but between $x_1$ and $x_3$:\n",
      "$$\n",
      "    D_{12} = 2\\\\\n",
      "    D_{23} = 3\n",
      "$$\n",
      "The triangle inequation reads\n",
      "$$\n",
      "    D_{13} \\le D_{12} + D_{23} = 5\n",
      "$$\n",
      "Thus for $D_{13}>5$ it is violated.  Let's see what happens to the eigenvalues of the corresponding Gram matrix.  For this we define a little function:"
     ]
    },
    {
     "cell_type": "code",
     "collapsed": false,
     "input": [
      "EVs(d13) = begin\n",
      "    D = [0 2 d13; 2 0 3; d13 3 0].^2   # some squared distance matrix\n",
      "    H = eye(3) - ones(3,3)/3           # centering matrix\n",
      "    G = -0.5*H*D*H                     # Gram matrix\n",
      "    return eig((G+G')/2)               # eigenvalues\n",
      "end"
     ],
     "language": "python",
     "metadata": {},
     "outputs": [
      {
       "metadata": {},
       "output_type": "pyout",
       "prompt_number": 7,
       "text": [
        "EVs (generic function with 1 method)"
       ]
      }
     ],
     "prompt_number": 7
    },
    {
     "cell_type": "code",
     "collapsed": false,
     "input": [
      "EVs(4)    # triangle inequality fullfilled, all EVs non-negative"
     ],
     "language": "python",
     "metadata": {},
     "outputs": [
      {
       "metadata": {},
       "output_type": "pyout",
       "prompt_number": 8,
       "text": [
        "([3.83329e-16,1.35323,8.31344],\n",
        "3x3 Array{Float64,2}:\n",
        " -0.57735   0.549004  -0.604368\n",
        " -0.57735  -0.7979    -0.173268\n",
        " -0.57735   0.248896   0.777636)"
       ]
      }
     ],
     "prompt_number": 8
    },
    {
     "cell_type": "code",
     "collapsed": false,
     "input": [
      "(Lambda, V) = EVs(6)    # triangle inequality violated"
     ],
     "language": "python",
     "metadata": {},
     "outputs": [
      {
       "metadata": {},
       "output_type": "pyout",
       "prompt_number": 9,
       "text": [
        "([-1.77203,-4.44089e-16,18.1054],\n",
        "3x3 Array{Float64,2}:\n",
        "  0.458647  -0.57735  -0.675507 \n",
        " -0.81433   -0.57735  -0.0594468\n",
        "  0.355682  -0.57735   0.734954 )"
       ]
      }
     ],
     "prompt_number": 9
    },
    {
     "cell_type": "code",
     "collapsed": false,
     "input": [
      "Lambda[2] = 0\n",
      "X = diagm(sqrt(Lambda[2:3]))*V[:,2:3]'\n",
      "G = X'*X\n",
      "D = sqrt(diagm(diag(G))*ones(3,3) + ones(3,3)*diagm(diag(G)) - 2*G)"
     ],
     "language": "python",
     "metadata": {},
     "outputs": [
      {
       "metadata": {},
       "output_type": "pyout",
       "prompt_number": 11,
       "text": [
        "3x3 Array{Float64,2}:\n",
        " 0.0      2.62136  6.00157\n",
        " 2.62136  0.0      3.38021\n",
        " 6.00157  3.38021  0.0    "
       ]
      }
     ],
     "prompt_number": 11
    },
    {
     "cell_type": "code",
     "collapsed": false,
     "input": [
      "(Lambda, V) = EVs(5)"
     ],
     "language": "python",
     "metadata": {},
     "outputs": [
      {
       "metadata": {},
       "output_type": "pyout",
       "prompt_number": 14,
       "text": [
        "([8.88178e-16,3.55271e-15,12.6667],\n",
        "3x3 Array{Float64,2}:\n",
        "  0.141421  0.741738  -0.65561  \n",
        " -0.989949  0.105963  -0.0936586\n",
        "  0.0       0.662266   0.749269 )"
       ]
      }
     ],
     "prompt_number": 14
    },
    {
     "cell_type": "code",
     "collapsed": false,
     "input": [
      "X = diagm(sqrt(Lambda[2:3]))*V[:,2:3]'\n",
      "G = X'*X\n",
      "D = sqrt(diagm(diag(G))*ones(3,3) + ones(3,3)*diagm(diag(G)) - 2*G)"
     ],
     "language": "python",
     "metadata": {},
     "outputs": [
      {
       "metadata": {},
       "output_type": "pyout",
       "prompt_number": 15,
       "text": [
        "3x3 Array{Float64,2}:\n",
        " 0.0  2.0  5.0\n",
        " 2.0  0.0  3.0\n",
        " 5.0  3.0  0.0"
       ]
      }
     ],
     "prompt_number": 15
    },
    {
     "cell_type": "code",
     "collapsed": false,
     "input": [
      "X = randn(2, 100)"
     ],
     "language": "python",
     "metadata": {},
     "outputs": [
      {
       "metadata": {},
       "output_type": "pyout",
       "prompt_number": 16,
       "text": [
        "2x100 Array{Float64,2}:\n",
        " 1.58977    0.417658  -0.991028  1.84877   \u2026   0.751941  1.05601    0.599079\n",
        " 0.147345  -0.354371  -0.286954  0.426163     -1.00652   0.134434  -0.523193"
       ]
      }
     ],
     "prompt_number": 16
    },
    {
     "cell_type": "code",
     "collapsed": false,
     "input": [
      "G = X'*X"
     ],
     "language": "python",
     "metadata": {},
     "outputs": [
      {
       "metadata": {},
       "output_type": "pyout",
       "prompt_number": 17,
       "text": [
        "100x100 Array{Float64,2}:\n",
        "  2.54909    0.611767   -1.61779   \u2026   1.04711     1.69863     0.87531  \n",
        "  0.611767   0.300017   -0.312223      0.670735    0.393412    0.435615 \n",
        " -1.61779   -0.312223    1.06448      -0.456371   -1.08511    -0.443572 \n",
        "  3.00191    0.621133   -1.95447       0.961224    2.00961     0.884592 \n",
        "  1.45547    0.345964   -0.925379      0.58873     0.970186    0.494863 \n",
        " -2.68005   -0.390275    1.82644   \u2026  -0.408434   -1.80942    -0.547911 \n",
        " -0.481822  -0.515973    0.107086     -1.294      -0.283835   -0.754852 \n",
        " -1.02916   -0.913921    0.32214      -2.24873    -0.62377    -1.33529  \n",
        " -2.03485   -0.583298    1.2443       -1.09582    -1.34712    -0.838514 \n",
        "  0.250866   0.63676     0.126954      1.68159     0.113545    0.934981 \n",
        "  0.177593   0.61256     0.170174  \u2026   1.63338     0.0653333   0.900081 \n",
        "  1.30808    0.789344   -0.594212      1.83896     0.827442    1.1491   \n",
        "  3.05553    0.921866   -1.84562       1.77139     2.01856     1.32682  \n",
        "  \u22ee                                \u22f1                                    \n",
        "  0.798586   0.717266   -0.245944      1.7671      0.483264    1.04805  \n",
        " -1.42929   -0.457809    0.850132     -0.901396   -0.941754   -0.659789 \n",
        " -0.639198  -0.236163    0.364593  \u2026  -0.489153   -0.418242   -0.341331 \n",
        " -2.89248   -1.20581     1.58178      -2.58895    -1.87987    -1.74648  \n",
        " -1.24649   -1.06407     0.411428     -2.60629    -0.759473   -1.55418  \n",
        " -1.35312    0.106672    1.07289       0.625327   -0.941796    0.170517 \n",
        " -0.324671  -0.0555003   0.217182     -0.0719874  -0.218435   -0.0784795\n",
        "  2.5783     1.23633    -1.32981   \u2026   2.74989     1.66065     1.79453  \n",
        " -2.56011   -0.633487    1.61532      -1.10386    -1.70419    -0.907177 \n",
        "  1.04711    0.670735   -0.456371      1.57849     0.658748    0.977075 \n",
        "  1.69863    0.393412   -1.08511       0.658748    1.13323     0.562299 \n",
        "  0.87531    0.435615   -0.443572      0.977075    0.562299    0.632627 "
       ]
      }
     ],
     "prompt_number": 17
    },
    {
     "cell_type": "code",
     "collapsed": false,
     "input": [
      "rank(G)"
     ],
     "language": "python",
     "metadata": {},
     "outputs": [
      {
       "metadata": {},
       "output_type": "pyout",
       "prompt_number": 18,
       "text": [
        "2"
       ]
      }
     ],
     "prompt_number": 18
    },
    {
     "cell_type": "code",
     "collapsed": false,
     "input": [],
     "language": "python",
     "metadata": {},
     "outputs": []
    }
   ],
   "metadata": {}
  }
 ]
}