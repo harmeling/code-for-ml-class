{
 "metadata": {
  "language": "Julia",
  "name": "",
  "signature": "sha256:ecb7612e1b6a87783f1e61e4d4e8b6ae5eef60dfa860394888ea0ed9ed7b2d66"
 },
 "nbformat": 3,
 "nbformat_minor": 0,
 "worksheets": [
  {
   "cells": [
    {
     "cell_type": "markdown",
     "metadata": {},
     "source": [
      "# What happens to a distance matrix if the triangular inequation is violated?"
     ]
    },
    {
     "cell_type": "markdown",
     "metadata": {},
     "source": [
      "Consider three points $x_1$, $x_2$, $x_3$.  Fix all distances but between $x_1$ and $x_3$:\n",
      "$$\n",
      "    D_{12} = 2\\\\\n",
      "    D_{23} = 3\n",
      "$$\n",
      "The triangle inequation reads\n",
      "$$\n",
      "    D_{13} \\le D_{12} + D_{23} = 5\n",
      "$$\n",
      "Thus for $D_{13}>5$ it is violated.  Let's see what happens to the eigenvalues of the corresponding Gram matrix.  For this we define a little function:"
     ]
    },
    {
     "cell_type": "code",
     "collapsed": false,
     "input": [
      "EVs(d13) = begin\n",
      "    D = [0 2 d13; 2 0 3; d13 3 0].^2   # some squared distance matrix\n",
      "    H = eye(3) - ones(3,3)/3           # centering matrix\n",
      "    G = -0.5*H*D*H                     # Gram matrix\n",
      "    return eig((G+G')/2)               # eigenvalues\n",
      "end"
     ],
     "language": "python",
     "metadata": {},
     "outputs": [
      {
       "metadata": {},
       "output_type": "pyout",
       "prompt_number": 1,
       "text": [
        "EVs (generic function with 1 method)"
       ]
      }
     ],
     "prompt_number": 1
    },
    {
     "cell_type": "code",
     "collapsed": false,
     "input": [
      "EVs(4)    # triangle inequality fullfilled, all EVs non-negative"
     ],
     "language": "python",
     "metadata": {},
     "outputs": [
      {
       "metadata": {},
       "output_type": "pyout",
       "prompt_number": 2,
       "text": [
        "([3.83329e-16,1.35323,8.31344],\n",
        "3x3 Array{Float64,2}:\n",
        " -0.57735   0.549004  -0.604368\n",
        " -0.57735  -0.7979    -0.173268\n",
        " -0.57735   0.248896   0.777636)"
       ]
      }
     ],
     "prompt_number": 2
    },
    {
     "cell_type": "code",
     "collapsed": false,
     "input": [
      "(Lambda, V) = EVs(6)    # triangle inequality violated"
     ],
     "language": "python",
     "metadata": {},
     "outputs": [
      {
       "metadata": {},
       "output_type": "pyout",
       "prompt_number": 3,
       "text": [
        "([-1.77203,-4.44089e-16,18.1054],\n",
        "3x3 Array{Float64,2}:\n",
        "  0.458647  -0.57735  -0.675507 \n",
        " -0.81433   -0.57735  -0.0594468\n",
        "  0.355682  -0.57735   0.734954 )"
       ]
      }
     ],
     "prompt_number": 3
    },
    {
     "cell_type": "code",
     "collapsed": false,
     "input": [
      "X = diagm(sqrt(Lambda[2:3]))*V[:,2:3]'\n",
      "G = X'*X\n",
      "D = sqrt(diagm(diag(G))*ones(3,3) + ones(3,3)*diagm(diag(G)) - 2*G)"
     ],
     "language": "python",
     "metadata": {},
     "outputs": [
      {
       "ename": "LoadError",
       "evalue": "DomainError\nwhile loading In[4], in expression starting on line 1",
       "output_type": "pyerr",
       "traceback": [
        "DomainError\nwhile loading In[4], in expression starting on line 1",
        "",
        " in sqrt at operators.jl:359"
       ]
      }
     ],
     "prompt_number": 4
    },
    {
     "cell_type": "code",
     "collapsed": false,
     "input": [
      "EVs(5)"
     ],
     "language": "python",
     "metadata": {},
     "outputs": [
      {
       "metadata": {},
       "output_type": "pyout",
       "prompt_number": 5,
       "text": [
        "([8.88178e-16,3.55271e-15,12.6667],\n",
        "3x3 Array{Float64,2}:\n",
        "  0.141421  0.741738  -0.65561  \n",
        " -0.989949  0.105963  -0.0936586\n",
        "  0.0       0.662266   0.749269 )"
       ]
      }
     ],
     "prompt_number": 5
    },
    {
     "cell_type": "code",
     "collapsed": false,
     "input": [],
     "language": "python",
     "metadata": {},
     "outputs": []
    }
   ],
   "metadata": {}
  }
 ]
}