{
 "metadata": {
  "language": "Julia",
  "name": "",
  "signature": "sha256:81a2b1662fb6234034d735f94566a8f482c85bca83fd6dc81f1729455c4d4a42"
 },
 "nbformat": 3,
 "nbformat_minor": 0,
 "worksheets": [
  {
   "cells": [
    {
     "cell_type": "code",
     "collapsed": false,
     "input": [
      "# preliminaries\n",
      "using Winston\n",
      "typealias Scalar Real;"
     ],
     "language": "python",
     "metadata": {},
     "outputs": [],
     "prompt_number": 1
    },
    {
     "cell_type": "markdown",
     "metadata": {},
     "source": [
      "# Gaussian distribution\n",
      "The starting point is the PDF of the univariate Gaussian,\n",
      "\n",
      "$$ N(x,\\mu, \\sigma^2) = \\frac{1}{\\sqrt{2\\pi}\\sigma} e^{-\\frac{(x-\\mu)^2}{2\\sigma^2}} $$\n",
      "\n",
      "which translates into the following code:"
     ]
    },
    {
     "cell_type": "code",
     "collapsed": false,
     "input": [
      "N(x::Scalar, mu::Scalar, sigma2::Scalar) = exp(-0.5*(x-mu)*(x-mu)/sigma2) / sqrt(2*pi*sigma2)"
     ],
     "language": "python",
     "metadata": {},
     "outputs": [
      {
       "metadata": {},
       "output_type": "pyout",
       "prompt_number": 2,
       "text": [
        "N (generic function with 1 method)"
       ]
      }
     ],
     "prompt_number": 2
    },
    {
     "cell_type": "markdown",
     "metadata": {},
     "source": [
      "The univariate Gaussian is generalized for vectors as follows:\n",
      "\n",
      "$$N(x,\\mu,\\Sigma) = \\frac{1}{(2\\pi)^{(n/2)} |\\Sigma|^{1/2}} e^{-\\frac{1}{2}(x-\\mu)' \\Sigma^{-1} (x-\\mu)}$$\n",
      "\n",
      "which translates into the following code:"
     ]
    },
    {
     "cell_type": "code",
     "collapsed": false,
     "input": [
      "N(x::Vector, mu::Vector, Sigma::Matrix) =\n",
      "exp(-0.5*(x-mu)'*inv(Sigma)*(x-mu))[1] / sqrt((2*pi)^size(x,1) * det(Sigma))"
     ],
     "language": "python",
     "metadata": {},
     "outputs": [
      {
       "metadata": {},
       "output_type": "pyout",
       "prompt_number": 3,
       "text": [
        "N (generic function with 2 methods)"
       ]
      }
     ],
     "prompt_number": 3
    },
    {
     "cell_type": "code",
     "collapsed": false,
     "input": [
      "N([1, 2], [2,3], randn(2,2))"
     ],
     "language": "python",
     "metadata": {},
     "outputs": [
      {
       "metadata": {},
       "output_type": "pyout",
       "prompt_number": 4,
       "text": [
        "0.085641988483495"
       ]
      }
     ],
     "prompt_number": 4
    },
    {
     "cell_type": "markdown",
     "metadata": {},
     "source": [
      "To plot a two dimensional Gaussian we evaluate it on a grid:"
     ]
    },
    {
     "cell_type": "code",
     "collapsed": false,
     "input": [
      "n = 100\n",
      "typeof([N([x1, x2], [0, 1], [1 0;0 1]) for x1 = linspace(-5, 5, n), x2 = linspace(-5, 5, n)])"
     ],
     "language": "python",
     "metadata": {},
     "outputs": [
      {
       "metadata": {},
       "output_type": "pyout",
       "prompt_number": 10,
       "text": [
        "Array{Any,2}"
       ]
      }
     ],
     "prompt_number": 10
    },
    {
     "cell_type": "code",
     "collapsed": false,
     "input": [
      "typeof(N([1, 2], [2,3], randn(2,2)))"
     ],
     "language": "python",
     "metadata": {},
     "outputs": [
      {
       "ename": "LoadError",
       "evalue": "DomainError\nwhile loading In[11], in expression starting on line 1",
       "output_type": "pyerr",
       "traceback": [
        "DomainError\nwhile loading In[11], in expression starting on line 1",
        "",
        " in N at In[3]:1"
       ]
      }
     ],
     "prompt_number": 11
    },
    {
     "cell_type": "code",
     "collapsed": false,
     "input": [
      "N"
     ],
     "language": "python",
     "metadata": {},
     "outputs": [
      {
       "metadata": {},
       "output_type": "pyout",
       "prompt_number": 12,
       "text": [
        "N (generic function with 2 methods)"
       ]
      }
     ],
     "prompt_number": 12
    },
    {
     "cell_type": "code",
     "collapsed": false,
     "input": [
      "methods(N)"
     ],
     "language": "python",
     "metadata": {},
     "outputs": [
      {
       "html": [
        "2 methods for generic function <b>N</b>:<ul><li> N(x::<b>Real</b>,mu::<b>Real</b>,sigma2::<b>Real</b>) at In[2]:1<li> N(x::<b>Array{T,1}</b>,mu::<b>Array{T,1}</b>,Sigma::<b>Array{T,2}</b>) at In[3]:1</ul>"
       ],
       "metadata": {},
       "output_type": "pyout",
       "prompt_number": 13,
       "text": [
        "# 2 methods for generic function \"N\":\n",
        "N(x::Real,mu::Real,sigma2::Real) at In[2]:1\n",
        "N(x::Array{T,1},mu::Array{T,1},Sigma::Array{T,2}) at In[3]:1"
       ]
      }
     ],
     "prompt_number": 13
    },
    {
     "cell_type": "code",
     "collapsed": false,
     "input": [],
     "language": "python",
     "metadata": {},
     "outputs": []
    }
   ],
   "metadata": {}
  }
 ]
}