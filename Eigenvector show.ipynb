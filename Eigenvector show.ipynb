{
 "metadata": {
  "language": "Julia",
  "name": "",
  "signature": "sha256:ba2957b61d15ddc914cb55883092931f9c7a2392d7a79832d12ee3db18aa94c2"
 },
 "nbformat": 3,
 "nbformat_minor": 0,
 "worksheets": [
  {
   "cells": [
    {
     "cell_type": "markdown",
     "metadata": {},
     "source": [
      "# How are points on the unit circle mapped a matrix?"
     ]
    },
    {
     "cell_type": "markdown",
     "metadata": {},
     "source": [
      "This is Julia's version of matlab's `eigshow`, see http://blogs.mathworks.com/cleve/2013/07/08/eigshow-week-1/ for details."
     ]
    },
    {
     "cell_type": "code",
     "collapsed": false,
     "input": [
      "using Gadfly, Interact, DataFrames"
     ],
     "language": "python",
     "metadata": {},
     "outputs": []
    },
    {
     "cell_type": "code",
     "collapsed": false,
     "input": [
      "unitcircle(k, n) = exp(2*pi*im*k/n)"
     ],
     "language": "python",
     "metadata": {},
     "outputs": []
    },
    {
     "cell_type": "code",
     "collapsed": false,
     "input": [
      "n  = 100\n",
      "uc = unitcircle(1:n, n)\n",
      "x  = hcat(real(uc), imag(uc))'\n",
      "A  = [4  0; 0 -2]\n",
      "#A = randn(2,2)\n",
      "#A = A+A'\n",
      "ev,EV = eig(A'*A)\n",
      "println(ev, EV)\n",
      "df = vcat(DataFrame(r=vec(x[1,:]), i=vec(x[2,:]), label=\"x\"), \n",
      "          DataFrame(r=vec(A[1,:]*x), i=vec(A[2,:]*x), label=\"A*x\"))\n",
      "df2 = DataFrame(x=[EV[1,1], 0, EV[1,2]], y=[EV[2,1], 0, EV[2,2]])\n",
      "set_default_plot_size(11cm, 10cm)\n",
      "@manipulate for k in 1:n\n",
      "    plot(layer(df[[1:k,n+(1:k)],:], x=\"r\", y=\"i\", color=\"label\", Geom.point),\n",
      "    layer(df2, x=\"x\", y=\"y\", Geom.line(preserve_order=true)),\n",
      "    Scale.x_continuous(minvalue=-5, maxvalue=5), Scale.y_continuous(minvalue=-5, maxvalue=5))\n",
      "end"
     ],
     "language": "python",
     "metadata": {},
     "outputs": []
    },
    {
     "cell_type": "markdown",
     "metadata": {},
     "source": [
      "# Two dimensional Gaussian"
     ]
    },
    {
     "cell_type": "code",
     "collapsed": false,
     "input": [
      "A = [4  1; 1 3]\n",
      "z = A*randn(2,500)\n",
      "set_default_plot_size(20cm, 10cm)\n",
      "df = vcat(DataFrame(r=vec(z[1,:]), i=vec(z[2,:]), label=\"Gaussian\"), \n",
      "          DataFrame(r=vec(A[1,:]*x), i=vec(A[2,:]*x), label=\"Ellipse\"))\n",
      "df2 = DataFrame(x=[EV[1,1], 0, EV[1,2]], y=[EV[2,1], 0, EV[2,2]])\n",
      "p = plot(df, x=\"r\", y=\"i\", color=\"label\",     \n",
      "     Scale.x_continuous(minvalue=-8, maxvalue=8), Scale.y_continuous(minvalue=-8, maxvalue=8))"
     ],
     "language": "python",
     "metadata": {},
     "outputs": []
    },
    {
     "cell_type": "code",
     "collapsed": false,
     "input": [
      "draw(PDF(\"Gaussian_with_ellipse.pdf\", 6inch, 6inch), p)"
     ],
     "language": "python",
     "metadata": {},
     "outputs": []
    },
    {
     "cell_type": "code",
     "collapsed": false,
     "input": [],
     "language": "python",
     "metadata": {},
     "outputs": []
    }
   ],
   "metadata": {}
  }
 ]
}