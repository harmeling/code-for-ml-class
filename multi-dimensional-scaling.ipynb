{
 "metadata": {
  "language": "Julia",
  "name": "",
  "signature": "sha256:9c4739b3a379eddf41192106267530233e37383363d4428a98f7604292ab5280"
 },
 "nbformat": 3,
 "nbformat_minor": 0,
 "worksheets": [
  {
   "cells": [
    {
     "cell_type": "code",
     "collapsed": false,
     "input": [
      "A         = readdlm(\"entfernungen.txt\")\n",
      "cities = A[30:end,1]\n",
      "A[A.==\"\"] = 0.0                  # replace empty strings\n",
      "D         = zeros(30, 30)\n",
      "D[2:end, 1:end-1]         = float(A[1:29, :])\n",
      "dD        = diag(D)\n",
      "D         = D + D' - diagm(dD)   # symmetrice"
     ],
     "language": "python",
     "metadata": {},
     "outputs": []
    },
    {
     "cell_type": "code",
     "collapsed": false,
     "input": [
      "n = size(D, 1)      # number of points\n",
      "H = eye(n) - ones(n,n)/n\n",
      "G = -0.5 * H * D * H\n",
      "G = (G + G')/2"
     ],
     "language": "python",
     "metadata": {},
     "outputs": []
    },
    {
     "cell_type": "code",
     "collapsed": false,
     "input": [
      "sqrt([1,2,3])"
     ],
     "language": "python",
     "metadata": {},
     "outputs": []
    },
    {
     "cell_type": "code",
     "collapsed": false,
     "input": [
      "(Lambda, V) = eig(G)"
     ],
     "language": "python",
     "metadata": {},
     "outputs": []
    },
    {
     "cell_type": "code",
     "collapsed": false,
     "input": [
      "X = diagm(sqrt(Lambda[end-1:end]))*V[:,end-1:end]'"
     ],
     "language": "python",
     "metadata": {},
     "outputs": []
    },
    {
     "cell_type": "code",
     "collapsed": false,
     "input": [
      "using PyPlot"
     ],
     "language": "python",
     "metadata": {},
     "outputs": []
    },
    {
     "cell_type": "code",
     "collapsed": false,
     "input": [
      "plot([0,0])\n",
      "xlim(minimum(X[1,:]), maximum(X[1,:]))\n",
      "ylim(minimum(X[2,:]), maximum(X[2,:]))\n",
      "for i in 1:30\n",
      "    text(X[1,i], X[2,i], cities[i])\n",
      "end"
     ],
     "language": "python",
     "metadata": {},
     "outputs": []
    },
    {
     "cell_type": "code",
     "collapsed": false,
     "input": [
      "plot(randn(5))\n",
      "\n",
      "for i in 1:3\n",
      "    text(X[1,i], X[2,i], cities[i])\n",
      "end"
     ],
     "language": "python",
     "metadata": {},
     "outputs": []
    },
    {
     "cell_type": "code",
     "collapsed": false,
     "input": [],
     "language": "python",
     "metadata": {},
     "outputs": []
    }
   ],
   "metadata": {}
  }
 ]
}