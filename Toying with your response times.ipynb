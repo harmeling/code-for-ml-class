{
 "metadata": {
  "language": "Julia",
  "name": "",
  "signature": "sha256:6eb64bea4e12a1b256f06becc6866f31ed2e5fd79c4255887b0710e2ca6920a3"
 },
 "nbformat": 3,
 "nbformat_minor": 0,
 "worksheets": [
  {
   "cells": [
    {
     "cell_type": "markdown",
     "metadata": {
      "slideshow": {
       "slide_type": "slide"
      }
     },
     "source": [
      "# Analysis of the response times of the questionaire\n",
      "\n",
      "The google form collects not only your answers (27/27 positive), but also the times when you submitted your answer.  Let's analyse the times $t_1$, ..., $t_{27}$ which we will load in the following.  Let's look for the file:"
     ]
    },
    {
     "cell_type": "code",
     "collapsed": false,
     "input": [
      "readdir()"
     ],
     "language": "python",
     "metadata": {},
     "outputs": []
    },
    {
     "cell_type": "code",
     "collapsed": false,
     "input": [
      "rawt = readdlm(\"response_times.txt\")    # load the file into variable 'ans'"
     ],
     "language": "python",
     "metadata": {},
     "outputs": []
    },
    {
     "cell_type": "code",
     "collapsed": false,
     "input": [
      "convert(\"12\")"
     ],
     "language": "python",
     "metadata": {},
     "outputs": []
    },
    {
     "cell_type": "code",
     "collapsed": false,
     "input": [
      "Base.convert(\"12\")"
     ],
     "language": "python",
     "metadata": {},
     "outputs": []
    },
    {
     "cell_type": "code",
     "collapsed": false,
     "input": [
      "Base.convert(str) = 3600*float(str[1:2]) + 60*float(str[4:5]) + float(str[7:8])"
     ],
     "language": "python",
     "metadata": {},
     "outputs": []
    },
    {
     "cell_type": "code",
     "collapsed": false,
     "input": [
      "t = [convert(str) for str in rawt[:,2]]       # convert all times to floats"
     ],
     "language": "python",
     "metadata": {},
     "outputs": []
    },
    {
     "cell_type": "code",
     "collapsed": false,
     "input": [
      "diff(t)    # the differences are the waiting times between events"
     ],
     "language": "python",
     "metadata": {},
     "outputs": []
    },
    {
     "cell_type": "markdown",
     "metadata": {},
     "source": [
      "The arrival times are modelled as a Poisson process, so the waiting times are exponentially distributed.  For this we do a qqplot against an exponential distribution.  See wikipedia for a good explanation of a qqplot.\n",
      "\n",
      "Of course, someone has written Julia code for a qqplot already.  The next cell downloads it:"
     ]
    },
    {
     "cell_type": "code",
     "collapsed": false,
     "input": [
      "download(\"https://gist.githubusercontent.com/kleinschmidt/7ce8cec988a84ce73ba2/raw/d9e7f401628aa014da82b1fc29cc74c640a6c96f/qqplot.jl\", \"qqplot.jl\")"
     ],
     "language": "python",
     "metadata": {},
     "outputs": []
    },
    {
     "cell_type": "code",
     "collapsed": false,
     "input": [
      "include(\"qqplot.jl\");                   # defines functions for Gadfly"
     ],
     "language": "python",
     "metadata": {},
     "outputs": []
    },
    {
     "cell_type": "code",
     "collapsed": false,
     "input": [
      "d = Normal()"
     ],
     "language": "python",
     "metadata": {},
     "outputs": []
    },
    {
     "cell_type": "code",
     "collapsed": false,
     "input": [
      "median(d)"
     ],
     "language": "python",
     "metadata": {},
     "outputs": []
    },
    {
     "cell_type": "code",
     "collapsed": false,
     "input": [
      "qqplot(rand(Normal(3), 100), Normal())"
     ],
     "language": "python",
     "metadata": {},
     "outputs": []
    },
    {
     "cell_type": "code",
     "collapsed": false,
     "input": [
      "qqplot(rand(Normal(3), 100), Exponential())"
     ],
     "language": "python",
     "metadata": {},
     "outputs": []
    },
    {
     "cell_type": "code",
     "collapsed": false,
     "input": [
      "qqplot(rand(Exponential(5), 100), Exponential())"
     ],
     "language": "python",
     "metadata": {},
     "outputs": []
    },
    {
     "cell_type": "code",
     "collapsed": false,
     "input": [
      "qqplot(diff(t), Exponential())"
     ],
     "language": "python",
     "metadata": {},
     "outputs": []
    },
    {
     "cell_type": "markdown",
     "metadata": {},
     "source": [
      "Is it difficult to create your own QQPLOT function?  No!  And it is a good exercise to see whether we understand what a QQPLOT is.  \n",
      "\n",
      "Basically a QQPLOT is a scatterplot.  Let's assume we are given some data $t_1, \\ldots, t_{27}$.  Those are the locations at the $x$-axis.  What are the locations at the $y$-axis?  We choose a distribution, say a Normal one:"
     ]
    },
    {
     "cell_type": "code",
     "collapsed": false,
     "input": [
      "d = Normal()"
     ],
     "language": "python",
     "metadata": {},
     "outputs": []
    },
    {
     "cell_type": "markdown",
     "metadata": {},
     "source": [
      "For the $y$-axis we need the inverse of the `cdf` (cumulative distribution function):"
     ]
    },
    {
     "cell_type": "code",
     "collapsed": false,
     "input": [
      "locx = linspace(-5, 5, 100)\n",
      "plot(x=locx, y=cdf(d, locx))"
     ],
     "language": "python",
     "metadata": {},
     "outputs": []
    },
    {
     "cell_type": "markdown",
     "metadata": {},
     "source": [
      "The inverse is the `quantile` function:"
     ]
    },
    {
     "cell_type": "code",
     "collapsed": false,
     "input": [
      "locy = linspace(0+eps(), 1-eps(), 100)\n",
      "plot(x=locy, y=quantile(d, locy))"
     ],
     "language": "python",
     "metadata": {},
     "outputs": []
    },
    {
     "cell_type": "markdown",
     "metadata": {},
     "source": [
      "So for the qqplot we have to plot the data points against the quantile of the chosen distribution:"
     ]
    },
    {
     "cell_type": "code",
     "collapsed": false,
     "input": [
      "plot(x=t, y=quantile(d, linspace(0+eps(), 1-eps(), length(t))))"
     ],
     "language": "python",
     "metadata": {},
     "outputs": []
    },
    {
     "cell_type": "markdown",
     "metadata": {},
     "source": [
      "Look's weird let's generate data from a Gaussian distribution and compare it against the true quantiles."
     ]
    },
    {
     "cell_type": "code",
     "collapsed": false,
     "input": [
      "plot(x=rand(d, 100), y=quantile(d, linspace(0+eps(), 1-eps(), 100)))"
     ],
     "language": "python",
     "metadata": {},
     "outputs": []
    },
    {
     "cell_type": "markdown",
     "metadata": {},
     "source": [
      "Aha, we forget to sort the data for the $x$ axis!"
     ]
    },
    {
     "cell_type": "code",
     "collapsed": false,
     "input": [
      "plot(x=sort(rand(d, 100)), y=quantile(d, linspace(0+eps(), 1-eps(), 100)))"
     ],
     "language": "python",
     "metadata": {},
     "outputs": []
    },
    {
     "cell_type": "markdown",
     "metadata": {},
     "source": [
      "This still looks a bit strange at the edges.  Let's be more precise.  The qqplot wikipedia suggests $k/(n+1)$ for $k=1,\\ldots, n$as the plotting positions for $n$ datapoints, because this avoid 0 and 1."
     ]
    },
    {
     "cell_type": "code",
     "collapsed": false,
     "input": [
      "plot(x=sort(rand(d, 100)), y=quantile(d, (1:100)/(100+1)))"
     ],
     "language": "python",
     "metadata": {},
     "outputs": []
    },
    {
     "cell_type": "markdown",
     "metadata": {},
     "source": [
      "This looks much better!  So let's turn this into a function:"
     ]
    },
    {
     "cell_type": "code",
     "collapsed": false,
     "input": [
      "myqqplot(x, d) = plot(x=sort(x), y=quantile(d, (1:length(x))/(length(x)+1)))"
     ],
     "language": "python",
     "metadata": {},
     "outputs": []
    },
    {
     "cell_type": "code",
     "collapsed": false,
     "input": [
      "myqqplot(randn(42), Normal())"
     ],
     "language": "python",
     "metadata": {},
     "outputs": []
    },
    {
     "cell_type": "code",
     "collapsed": false,
     "input": [
      "myqqplot(t, Exponential())"
     ],
     "language": "python",
     "metadata": {},
     "outputs": []
    },
    {
     "cell_type": "code",
     "collapsed": false,
     "input": [
      "qqplot(t, Exponential())"
     ],
     "language": "python",
     "metadata": {},
     "outputs": []
    },
    {
     "cell_type": "markdown",
     "metadata": {},
     "source": [
      "Ok, the plots agree.  But before we had something else.  Looks a bit strange...  Aha, we have to take the differences first:"
     ]
    },
    {
     "cell_type": "code",
     "collapsed": false,
     "input": [
      "myqqplot(diff(t), Exponential())"
     ],
     "language": "python",
     "metadata": {},
     "outputs": []
    },
    {
     "cell_type": "code",
     "collapsed": false,
     "input": [],
     "language": "python",
     "metadata": {},
     "outputs": []
    }
   ],
   "metadata": {}
  }
 ]
}